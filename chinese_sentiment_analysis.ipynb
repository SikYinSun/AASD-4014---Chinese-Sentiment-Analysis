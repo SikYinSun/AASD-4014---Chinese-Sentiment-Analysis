{
  "cells": [
    {
      "cell_type": "markdown",
      "metadata": {
        "id": "WTc9A7eF6VxT"
      },
      "source": [
        "# <b>AASD 4014 - Advance Mathematical Concepts for Deep Learning Group Project 1</b>"
      ]
    },
    {
      "cell_type": "markdown",
      "metadata": {
        "id": "TPS2-a1g6VxT"
      },
      "source": [
        "<b>Members:</b> \n",
        "1. Saksham Prakash (101410709) \n",
        "2. Sik Yin Sun (101409665)"
      ]
    },
    {
      "cell_type": "markdown",
      "metadata": {
        "id": "fIR4suuETbRr"
      },
      "source": [
        "## Background and Motivation\n",
        "<b> Why Chinese? </b>\n",
        "\n",
        "With both the team members belonging to different ethnicities, we wanted to explore the usage of NLP models on our native languages. With Saksham's native language Hindi and Sik's native language Chinese, we decided on Chinese as we found larger community support and resources.\n",
        "\n",
        "<b> Why Text Classification?</b>\n",
        "\n",
        "Initially, we explored Text Generation ideas for fine-tuning a transformer-based model on Chinese Texts. For this we explored Andrej's NanoGPT repository but couldn't get a chinese tokenizer/encoder running without errors. We further explored Text Generation models on Hugging Face as well as a few Question-Answering datasets and models on Hugging Face. However, we resorted to a simpler task of text classification in chinese for now, given the available time and resources.\n",
        "\n",
        "<b> Why HuggingFace? </b>\n",
        "\n",
        "Learning HuggingFace libraries for transformers felt essential because it seems to be the emerging AI exploratory space with a large community for working professionals looking to try different AI solutions quickly for the problem at hand."
      ]
    },
    {
      "cell_type": "markdown",
      "metadata": {
        "id": "7pHM9KqxTZop"
      },
      "source": [
        "## Problem Statement\n",
        "\n",
        "The Applied AI Solutions Development Program has exclusively trained models in English. Still, now the team is interested in exploring the effectiveness of machine learning and deep learning in other languages. For this project, we have selected Chinese for sentiment analysis, using a dataset from hugging face that includes various comments on different topics such as hotels, seafood, and restaurants. We intend to utilize existing models, namely bert-base-chinese from hugging face (https://huggingface.co/bert-base-chinese) and Roberta-based models from hugging face (\"https://huggingface.co/liam168/c2-roberta-base-finetuned-dianping-chinese\", \"https://huggingface.co/Jiabo/Roberta_Chinese_sentiment\"). Both models will undergo fine-tuning, and we will compare their performance to assess the efficacy of transformers in Chinese. In addition, the \"accuracy\" metric will be used to evaluate the performance of the models."
      ]
    },
    {
      "cell_type": "markdown",
      "metadata": {
        "id": "kGs_xQUaCF5V"
      },
      "source": [
        "## Contents"
      ]
    },
    {
      "attachments": {},
      "cell_type": "markdown",
      "metadata": {
        "id": "RGsqzBRNAKtf"
      },
      "source": [
        "| SNo. | Contents | Link |\n",
        "| -------- | -------- | -------- |\n",
        "| 1 | Installing and Importing libraries | [Jump To Cell](#lib)\n",
        "| 2 | Data - Chinese Sentiment | [Jump To Cell](#data)\n",
        "| 3.1 | Trying bert-base-chinese | [Jump To Cell](#bert)\n",
        "| 3.2 | Trying liam168/c2-roberta-base-finetuned-dianping-chinese | [Jump To Cell](#liam168)\n",
        "| 3.3 | Trying Jiabo/Roberta_Chinese_sentiment | [Jump To Cell](#jiabo)\n",
        "| 4 | Results | [Jump To Cell](#results)\n"
      ]
    },
    {
      "cell_type": "markdown",
      "metadata": {
        "id": "56H02ujy_-lR"
      },
      "source": [
        "## <b> 1. Installing and Importing libraries </b>\n",
        "<a id='lib'></a>"
      ]
    },
    {
      "cell_type": "code",
      "execution_count": null,
      "metadata": {
        "id": "-d92zZuzABaf"
      },
      "outputs": [],
      "source": [
        "!pip install transformers dataset evaluate"
      ]
    },
    {
      "cell_type": "code",
      "execution_count": 2,
      "metadata": {
        "id": "uhSvASfc6VxU"
      },
      "outputs": [],
      "source": [
        "from datasets import load_dataset\n",
        "import pandas as pd\n",
        "import torch\n",
        "from transformers import AutoTokenizer, AutoModelForSequenceClassification\n",
        "from torch.utils.data import DataLoader, TensorDataset\n",
        "from torch.optim import AdamW\n",
        "from transformers import get_scheduler\n",
        "from tqdm.auto import tqdm\n",
        "import evaluate"
      ]
    },
    {
      "cell_type": "markdown",
      "metadata": {
        "id": "7LbQS3xv6VxU"
      },
      "source": [
        "## <b>2. Data - Chinese Sentiment</b>\n",
        "<font size=3>The link of Data:</font>\n",
        "https://huggingface.co/datasets/sepidmnorozy/Chinese_sentiment\n",
        "<a id='data'></a>"
      ]
    },
    {
      "cell_type": "markdown",
      "metadata": {
        "id": "pyz5ECVa6VxU"
      },
      "source": [
        "Loading the Chinese Sentiment dataset"
      ]
    },
    {
      "cell_type": "code",
      "execution_count": 3,
      "metadata": {
        "colab": {
          "base_uri": "https://localhost:8080/",
          "height": 264,
          "referenced_widgets": [
            "0884d5918e424146820759791bd6dfd3",
            "5b3c689d3f25443281f41718dd3c278a",
            "8bb7437fbe35403c9b9c00b962083ef6",
            "01556e7038344238929b19499d966df8",
            "3f3c602334e3402abe5dbe8f6de276ef",
            "2692557461fe4abb80e9f04af49f59d7",
            "8c9143f53ac2483f9083f654642a4981",
            "f9022d558b4f44ecba91205bfd4b83ec",
            "3ca3d537b6fb42f6b0f261de65b45d8e",
            "14e5bfb061ec444284514ea72bfbc041",
            "9e5c70ac5bac4c61a7017a095925a3a6",
            "fdc3c2d10ebd45feb2776d7ce07950a2",
            "385be415e70f4e82b5ffb017879e2e42",
            "9896f0b9fbbe4f34bd207a9f58fb1440",
            "91bff6f2434a4cd6ba04a588bfce8131",
            "3b9d1cc047274115b9c9692e4a014c36",
            "4961fc9f316f441db8ba8aa3fb8428f2",
            "afb50a7a458d42f9af4ae1a827ceb350",
            "9c8d24a135e24090b900e57709d08115",
            "bc3b86e50c6644a19703de228dc11201",
            "5bc87776d7f741d4be37eead5375b104",
            "3d454f114ebc4bd0b7c763d54c405bdf",
            "54cdea66e8964e53a1ebcfefc3c5967b",
            "18e34f495a514aebb65b6eb284c7b083",
            "09780814090741f0aee877402374e8db",
            "0cef671ea0a14f2989a1bf64725d5171",
            "4a910a9a82114961a949606b6e421aa5",
            "10d12c4da4c342a6b5b4c633a3166414",
            "aebb4e16b3cd45208d91052e2fc04a50",
            "475e6cae0bbc493b91e354d1565c3d48",
            "36fb2cc2a63a475a95eaed22aad23e69",
            "9bb82f3412284eaca3795d8b67514c77",
            "5628ffdfedfb45cf8d14e97a3108a999",
            "e9eec79c88e84e529cabeec7c6d8b832",
            "14ca764fc81d4bb9b3e64cebe1a59c4d",
            "b2725b331f584c5aaabbc537daf81b74",
            "8f66455e2a8141a1b2b0935ef45f8bb0",
            "a3af947dbc2746c2b6777e240acd0347",
            "a7276123833d49b598125399c5d8e7e0",
            "7a016965b8a44db9a901f9010a1baff4",
            "69b4e74de396481eba8ad3007408c95e",
            "a51136978627448b9f5aafdc94c3e12a",
            "86b98136b1304147ba9824199ff7ec3f",
            "4b73d9f9936d47eca13581b61996f46c",
            "68a43d7b1d1b49628629088649486163",
            "3e5b614357f7426ebae781712f0b610f",
            "ef6fe45c245e43eb80631e0b938ed3f1",
            "dac414f21dcf461f9ce9976754132637",
            "38a8d9e072dc44a5acd9a7135e899783",
            "883dd92956e94e62906f455ff7f06c3b",
            "6d7ff9b2b6f34a0e9775de6a05c1ae6d",
            "0cc343a39f804bc4b3714775ae270fd7",
            "f3fd0656bcc64323adc0bd02463fee2d",
            "ed93d3acb5b5490d953d61026927555f",
            "9e8fcfcb75f240e2a6fbf1fb2e38d777",
            "344831142e004933ab21ae2d3fa36f47",
            "424fee4ffad94bffa5edde810e891397",
            "c7011131c1ad4ea08f75ffa3ee155096",
            "42460100a789415e9e8e132a8a69896e",
            "caa690c3fe994a4aaeba002bdd01310e",
            "fadb917b8733422ca6c16dc1e2378c8e",
            "e83052bbfa964ce4b049919b4a11dba2",
            "0e88904933354f96adfcadd320572b60",
            "b4f52ec8fab146e4818c1962db2be27f",
            "e37bac6a3909401eb29504b833a1daf2",
            "6756ec49124c46a1ab819ed4810c6fe6",
            "2b25b64fccc64bcdb967e33a4cc8a05c",
            "608e44b459434e9196f07002f91eb28f",
            "aa4c36409de84f7bb470e183243f0b42",
            "850f146c659d4f169145dfc8b5965162",
            "d1347ce74d8f4092b3889285af556c15",
            "5e7d93b53141429d92d9c3243023f3bd",
            "0e792283bc83478fb934a382a3b94828",
            "8734e2800a77455a8521fd5ef1e7c79e",
            "09fa581bd4b14b10a4354f8c56df3579",
            "993aacff07974bd7af0881ce875cc6d3",
            "ffeeec08969f42beb879c4e0662c4157",
            "8b9d2eec1a5947a7a6ca743e846ac9b0",
            "a42bee363bdf4683bc4a6bb5a7a90d01",
            "a84061442c614236ab088e35f45a4ea9",
            "93c162b6857240cb896aeeaed3b1740d",
            "ad3df6b0c7854d688d124740ed82f226",
            "b1b3d3d64df34395b0c2a140896a72c4",
            "c23f23f7aca34ade8a439558f48fb477",
            "e238e04a09714f8ab75d6fdf4064a01a",
            "c9e9fe3b04aa459e8e4dd5dd8d59d82a",
            "b8462970520c4875bf08674633942f88",
            "979a515cd9224b819a199276f10722d9",
            "1e06ce07aeb24b5b9fb19fcccde4b7ad",
            "c18ecb41743343efaeb0477437c1c60c",
            "149165b42d1b4ca09ec69f03276fd0c2",
            "3bf63ac0177d49afaf1d82f8630a892a",
            "5248ba0218f54950b7ae5e1e6cda6efe",
            "23061064fbdb4b70bf3fb818f80ad818",
            "a45be9e6be7e43ce9fdec76611775f1b",
            "dce7ec7d8756480c8f026f4e77387cd5",
            "21e43f36216941a79e7957fae27c5a73",
            "a70a448848984ecdb319d4a0074bbd12",
            "63cbaa325aa74fa2979d4cc195e4be47"
          ]
        },
        "id": "CEV8RXIl6VxU",
        "outputId": "ed9db6a9-05de-4113-b4f8-efb9286c868c"
      },
      "outputs": [
        {
          "name": "stdout",
          "output_type": "stream",
          "text": [
            "Downloading and preparing dataset csv/sepidmnorozy--Chinese_sentiment to /root/.cache/huggingface/datasets/sepidmnorozy___csv/sepidmnorozy--Chinese_sentiment-0f90f54b0dfdaa37/0.0.0/6b34fb8fcf56f7c8ba51dc895bfa2bfbe43546f190a60fcf74bb5e8afdcc2317...\n"
          ]
        },
        {
          "data": {
            "application/vnd.jupyter.widget-view+json": {
              "model_id": "0884d5918e424146820759791bd6dfd3",
              "version_major": 2,
              "version_minor": 0
            },
            "text/plain": [
              "Downloading data files:   0%|          | 0/3 [00:00<?, ?it/s]"
            ]
          },
          "metadata": {},
          "output_type": "display_data"
        },
        {
          "data": {
            "application/vnd.jupyter.widget-view+json": {
              "model_id": "fdc3c2d10ebd45feb2776d7ce07950a2",
              "version_major": 2,
              "version_minor": 0
            },
            "text/plain": [
              "Downloading data:   0%|          | 0.00/3.53M [00:00<?, ?B/s]"
            ]
          },
          "metadata": {},
          "output_type": "display_data"
        },
        {
          "data": {
            "application/vnd.jupyter.widget-view+json": {
              "model_id": "54cdea66e8964e53a1ebcfefc3c5967b",
              "version_major": 2,
              "version_minor": 0
            },
            "text/plain": [
              "Downloading data:   0%|          | 0.00/1.39M [00:00<?, ?B/s]"
            ]
          },
          "metadata": {},
          "output_type": "display_data"
        },
        {
          "data": {
            "application/vnd.jupyter.widget-view+json": {
              "model_id": "e9eec79c88e84e529cabeec7c6d8b832",
              "version_major": 2,
              "version_minor": 0
            },
            "text/plain": [
              "Downloading data:   0%|          | 0.00/724k [00:00<?, ?B/s]"
            ]
          },
          "metadata": {},
          "output_type": "display_data"
        },
        {
          "data": {
            "application/vnd.jupyter.widget-view+json": {
              "model_id": "68a43d7b1d1b49628629088649486163",
              "version_major": 2,
              "version_minor": 0
            },
            "text/plain": [
              "Extracting data files:   0%|          | 0/3 [00:00<?, ?it/s]"
            ]
          },
          "metadata": {},
          "output_type": "display_data"
        },
        {
          "data": {
            "application/vnd.jupyter.widget-view+json": {
              "model_id": "344831142e004933ab21ae2d3fa36f47",
              "version_major": 2,
              "version_minor": 0
            },
            "text/plain": [
              "Generating train split: 0 examples [00:00, ? examples/s]"
            ]
          },
          "metadata": {},
          "output_type": "display_data"
        },
        {
          "data": {
            "application/vnd.jupyter.widget-view+json": {
              "model_id": "2b25b64fccc64bcdb967e33a4cc8a05c",
              "version_major": 2,
              "version_minor": 0
            },
            "text/plain": [
              "Generating test split: 0 examples [00:00, ? examples/s]"
            ]
          },
          "metadata": {},
          "output_type": "display_data"
        },
        {
          "data": {
            "application/vnd.jupyter.widget-view+json": {
              "model_id": "8b9d2eec1a5947a7a6ca743e846ac9b0",
              "version_major": 2,
              "version_minor": 0
            },
            "text/plain": [
              "Generating validation split: 0 examples [00:00, ? examples/s]"
            ]
          },
          "metadata": {},
          "output_type": "display_data"
        },
        {
          "name": "stdout",
          "output_type": "stream",
          "text": [
            "Dataset csv downloaded and prepared to /root/.cache/huggingface/datasets/sepidmnorozy___csv/sepidmnorozy--Chinese_sentiment-0f90f54b0dfdaa37/0.0.0/6b34fb8fcf56f7c8ba51dc895bfa2bfbe43546f190a60fcf74bb5e8afdcc2317. Subsequent calls will reuse this data.\n"
          ]
        },
        {
          "data": {
            "application/vnd.jupyter.widget-view+json": {
              "model_id": "1e06ce07aeb24b5b9fb19fcccde4b7ad",
              "version_major": 2,
              "version_minor": 0
            },
            "text/plain": [
              "  0%|          | 0/3 [00:00<?, ?it/s]"
            ]
          },
          "metadata": {},
          "output_type": "display_data"
        }
      ],
      "source": [
        "dataset = load_dataset(\"sepidmnorozy/Chinese_sentiment\")"
      ]
    },
    {
      "cell_type": "markdown",
      "metadata": {
        "id": "kliGMKCq6VxV"
      },
      "source": [
        "Creating dataframes from the train, test and validation splits of the dataset"
      ]
    },
    {
      "cell_type": "code",
      "execution_count": null,
      "metadata": {
        "id": "y_hIbDFG6VxV"
      },
      "outputs": [],
      "source": [
        "df_train = pd.DataFrame(dataset[\"train\"])\n",
        "df_test = pd.DataFrame(dataset[\"test\"])\n",
        "df_valid = pd.DataFrame(dataset[\"validation\"])"
      ]
    },
    {
      "cell_type": "code",
      "execution_count": null,
      "metadata": {
        "id": "DnY8fXCG6VxV"
      },
      "outputs": [],
      "source": [
        "df = pd.concat([df_train, df_test, df_valid], ignore_index=True)"
      ]
    },
    {
      "cell_type": "code",
      "execution_count": null,
      "metadata": {
        "id": "xD3tS-He6VxV",
        "outputId": "0051f902-4856-47a3-aad5-c033ecba615b"
      },
      "outputs": [
        {
          "data": {
            "text/html": [
              "<div>\n",
              "<style scoped>\n",
              "    .dataframe tbody tr th:only-of-type {\n",
              "        vertical-align: middle;\n",
              "    }\n",
              "\n",
              "    .dataframe tbody tr th {\n",
              "        vertical-align: top;\n",
              "    }\n",
              "\n",
              "    .dataframe thead th {\n",
              "        text-align: right;\n",
              "    }\n",
              "</style>\n",
              "<table border=\"1\" class=\"dataframe\">\n",
              "  <thead>\n",
              "    <tr style=\"text-align: right;\">\n",
              "      <th></th>\n",
              "      <th>label</th>\n",
              "      <th>text</th>\n",
              "    </tr>\n",
              "  </thead>\n",
              "  <tbody>\n",
              "    <tr>\n",
              "      <th>0</th>\n",
              "      <td>1</td>\n",
              "      <td>酒店 房間 算 不錯 ， 大 床 很 舒適 。 晚上 睡的 很香 ， 酒店 環境 不到 四星...</td>\n",
              "    </tr>\n",
              "    <tr>\n",
              "      <th>1</th>\n",
              "      <td>1</td>\n",
              "      <td>對於 這本 鯉 , 我是 針對 於 它 每期 的 主題 而 買 的 ， 第一次 買 “ 鯉 ...</td>\n",
              "    </tr>\n",
              "    <tr>\n",
              "      <th>2</th>\n",
              "      <td>0</td>\n",
              "      <td>晚上 朋友 帶 我們 去 吃 海鮮 ， 結果 半夜 兩點 兩人 都 上吐下瀉 ， 請 服務 ...</td>\n",
              "    </tr>\n",
              "    <tr>\n",
              "      <th>3</th>\n",
              "      <td>1</td>\n",
              "      <td>教育 兩個 字 看似 簡單 ， 簡單 到 日常 的 威權 教育 。 於是 孩子 成了 父母 ...</td>\n",
              "    </tr>\n",
              "    <tr>\n",
              "      <th>4</th>\n",
              "      <td>1</td>\n",
              "      <td>比較 老 的 飯店 了 , 房間 只能 用 還 比較 乾淨 整潔 來 形容 , 但 離 五星...</td>\n",
              "    </tr>\n",
              "  </tbody>\n",
              "</table>\n",
              "</div>"
            ],
            "text/plain": [
              "   label                                               text\n",
              "0      1  酒店 房間 算 不錯 ， 大 床 很 舒適 。 晚上 睡的 很香 ， 酒店 環境 不到 四星...\n",
              "1      1  對於 這本 鯉 , 我是 針對 於 它 每期 的 主題 而 買 的 ， 第一次 買 “ 鯉 ...\n",
              "2      0  晚上 朋友 帶 我們 去 吃 海鮮 ， 結果 半夜 兩點 兩人 都 上吐下瀉 ， 請 服務 ...\n",
              "3      1  教育 兩個 字 看似 簡單 ， 簡單 到 日常 的 威權 教育 。 於是 孩子 成了 父母 ...\n",
              "4      1  比較 老 的 飯店 了 , 房間 只能 用 還 比較 乾淨 整潔 來 形容 , 但 離 五星..."
            ]
          },
          "execution_count": 93,
          "metadata": {},
          "output_type": "execute_result"
        }
      ],
      "source": [
        "df.head()"
      ]
    },
    {
      "cell_type": "code",
      "execution_count": null,
      "metadata": {
        "id": "1xsv0muj6VxV",
        "outputId": "c08a0b07-206b-47a0-ab64-6a8e28518f6a"
      },
      "outputs": [
        {
          "data": {
            "text/plain": [
              "(19835, 2)"
            ]
          },
          "execution_count": 94,
          "metadata": {},
          "output_type": "execute_result"
        }
      ],
      "source": [
        "df.shape"
      ]
    },
    {
      "cell_type": "code",
      "execution_count": null,
      "metadata": {
        "id": "BOJMsfJz6VxV",
        "outputId": "dd243eff-4788-4578-d1a6-735554736182"
      },
      "outputs": [
        {
          "data": {
            "text/plain": [
              "label    0\n",
              "text     0\n",
              "dtype: int64"
            ]
          },
          "execution_count": 95,
          "metadata": {},
          "output_type": "execute_result"
        }
      ],
      "source": [
        "df.isnull().sum()"
      ]
    },
    {
      "cell_type": "code",
      "execution_count": null,
      "metadata": {
        "id": "IgKrVOlp6VxV",
        "outputId": "875daeb5-4eb3-4e22-b24b-4620f3d63b8f"
      },
      "outputs": [
        {
          "data": {
            "text/plain": [
              "1    11914\n",
              "0     7921\n",
              "Name: label, dtype: int64"
            ]
          },
          "execution_count": 96,
          "metadata": {},
          "output_type": "execute_result"
        }
      ],
      "source": [
        "df['label'].value_counts()"
      ]
    },
    {
      "cell_type": "code",
      "execution_count": null,
      "metadata": {
        "id": "0BgVdJpV6VxV",
        "outputId": "8ea03c94-a701-437e-e22f-4d070e83583a"
      },
      "outputs": [
        {
          "data": {
            "text/plain": [
              "1    0.600655\n",
              "0    0.399345\n",
              "Name: label, dtype: float64"
            ]
          },
          "execution_count": 97,
          "metadata": {},
          "output_type": "execute_result"
        }
      ],
      "source": [
        "df['label'].value_counts() / len(df)"
      ]
    },
    {
      "cell_type": "markdown",
      "metadata": {
        "id": "A98ADckX6VxV"
      },
      "source": [
        "<font size=3>After briefly exploring the data, there is no null value in the label or text columns. Additionally, we found that there is more positive review than negative reviews. Creating a BERT tokenizer specific to the Chinese language</font>"
      ]
    },
    {
      "cell_type": "markdown",
      "metadata": {
        "id": "a9tai8DB_hMY"
      },
      "source": [
        "## <b> 3.1 Trying bert-base-chinese </b>\n",
        "<a id='bert'></a>"
      ]
    },
    {
      "cell_type": "code",
      "execution_count": null,
      "metadata": {
        "id": "4pbhricx6VxV"
      },
      "outputs": [],
      "source": [
        "tokenizer = AutoTokenizer.from_pretrained(\"bert-base-chinese\")"
      ]
    },
    {
      "cell_type": "markdown",
      "metadata": {
        "id": "WRpQdHSU6VxV"
      },
      "source": [
        "Examining the size of the vocabulary of the Chinese BERT tokenizer"
      ]
    },
    {
      "cell_type": "code",
      "execution_count": null,
      "metadata": {
        "id": "i2YBFUKK6VxW",
        "outputId": "82d3d7c0-4791-4099-b461-b3ee956b3c3d"
      },
      "outputs": [
        {
          "data": {
            "text/plain": [
              "21128"
            ]
          },
          "execution_count": 99,
          "metadata": {},
          "output_type": "execute_result"
        }
      ],
      "source": [
        "vocab = tokenizer.vocab\n",
        "len(vocab)"
      ]
    },
    {
      "cell_type": "markdown",
      "metadata": {
        "id": "SM7VPQzt6VxW"
      },
      "source": [
        "Printing out the first few tokens in the vocabulary"
      ]
    },
    {
      "cell_type": "code",
      "execution_count": null,
      "metadata": {
        "id": "GfhK-oqB6VxW",
        "outputId": "afded141-466b-4088-8686-517569fc92e0"
      },
      "outputs": [
        {
          "name": "stdout",
          "output_type": "stream",
          "text": [
            "token: index\n",
            "##荷 :  18849\n",
            "墜 :  1871\n",
            "飽 :  7616\n",
            "20cm :  13309\n",
            "##蜢 :  19116\n"
          ]
        }
      ],
      "source": [
        "count = 0\n",
        "print(\"token: index\")\n",
        "for i in list(vocab):\n",
        "    if count < 5:\n",
        "      print(i,\": \", vocab[i])\n",
        "      count += 1\n",
        "    else:\n",
        "       break"
      ]
    },
    {
      "cell_type": "code",
      "execution_count": null,
      "metadata": {
        "id": "BdfE1igL6VxW",
        "outputId": "0c2278fa-16d0-48a2-84d7-f9660109afb9"
      },
      "outputs": [
        {
          "data": {
            "text/plain": [
              "'酒店 房間 算 不錯 ， 大 床 很 舒適 。 晚上 睡的 很香 ， 酒店 環境 不到 四星 標準 ， 但 又 比 三星 高 。 地點 很好 ， 價錢 適中 。'"
            ]
          },
          "execution_count": 101,
          "metadata": {},
          "output_type": "execute_result"
        }
      ],
      "source": [
        "df['text'][0]"
      ]
    },
    {
      "cell_type": "code",
      "execution_count": null,
      "metadata": {
        "id": "XhX5Cn8Z6VxW",
        "outputId": "09920667-abc1-482f-fc95-8bd5f39dfde9"
      },
      "outputs": [
        {
          "data": {
            "text/plain": [
              "{'input_ids': [101, 6983, 2421, 2791, 7279, 5050, 679, 7097, 8024, 1920, 2414, 2523, 5653, 6900, 511, 3241, 677, 4717, 4638, 2523, 7676, 8024, 6983, 2421, 4472, 1862, 679, 1168, 1724, 3215, 3560, 3976, 8024, 852, 1348, 3683, 676, 3215, 7770, 511, 1765, 7953, 2523, 1962, 8024, 1019, 7092, 6900, 704, 511, 102, 0, 0, 0, 0, 0, 0, 0, 0, 0, 0, 0, 0, 0, 0, 0, 0, 0, 0, 0, 0, 0, 0, 0, 0, 0, 0, 0, 0, 0, 0, 0, 0, 0, 0, 0, 0, 0, 0, 0, 0, 0, 0, 0, 0, 0, 0, 0, 0, 0, 0, 0, 0, 0, 0, 0, 0, 0, 0, 0, 0, 0, 0, 0, 0, 0, 0, 0, 0, 0, 0, 0, 0, 0, 0, 0, 0, 0, 0, 0, 0, 0, 0, 0, 0, 0, 0, 0, 0, 0, 0, 0, 0, 0, 0, 0, 0, 0, 0, 0, 0, 0, 0, 0, 0, 0, 0, 0, 0, 0, 0, 0, 0, 0, 0, 0, 0, 0, 0, 0, 0, 0, 0, 0, 0, 0, 0, 0, 0, 0, 0, 0, 0, 0, 0, 0, 0, 0, 0, 0, 0, 0, 0, 0, 0, 0, 0, 0, 0, 0, 0, 0, 0, 0, 0, 0, 0, 0, 0, 0, 0, 0, 0, 0, 0, 0, 0, 0, 0, 0, 0, 0, 0, 0, 0, 0, 0, 0, 0, 0, 0, 0, 0, 0, 0, 0, 0, 0, 0, 0, 0, 0, 0, 0, 0, 0, 0, 0, 0, 0, 0, 0, 0, 0, 0, 0, 0, 0, 0, 0, 0, 0, 0, 0, 0, 0, 0, 0, 0, 0, 0, 0, 0, 0, 0, 0, 0, 0, 0, 0, 0, 0, 0, 0, 0, 0, 0, 0, 0, 0, 0, 0, 0, 0, 0, 0, 0, 0, 0, 0, 0, 0, 0, 0, 0, 0, 0, 0, 0, 0, 0, 0, 0, 0, 0, 0, 0, 0, 0, 0, 0, 0, 0, 0, 0, 0, 0, 0, 0, 0, 0, 0, 0, 0, 0, 0, 0, 0, 0, 0, 0, 0, 0, 0, 0, 0, 0, 0, 0, 0, 0, 0, 0, 0, 0, 0, 0, 0, 0, 0, 0, 0, 0, 0, 0, 0, 0, 0, 0, 0, 0, 0, 0, 0, 0, 0, 0, 0, 0, 0, 0, 0, 0, 0, 0, 0, 0, 0, 0, 0, 0, 0, 0, 0, 0, 0, 0, 0, 0, 0, 0, 0, 0, 0, 0, 0, 0, 0, 0, 0, 0, 0, 0, 0, 0, 0, 0, 0, 0, 0, 0, 0, 0, 0, 0, 0, 0, 0, 0, 0, 0, 0, 0, 0, 0, 0, 0, 0, 0, 0, 0, 0, 0, 0, 0, 0, 0, 0, 0, 0, 0, 0, 0, 0, 0, 0, 0, 0, 0, 0, 0, 0, 0, 0, 0, 0, 0, 0, 0, 0, 0, 0, 0, 0, 0, 0, 0, 0, 0, 0, 0, 0, 0, 0, 0, 0, 0, 0, 0, 0, 0, 0, 0, 0, 0, 0, 0, 0, 0, 0, 0, 0, 0, 0, 0, 0, 0, 0, 0, 0, 0, 0], 'token_type_ids': [0, 0, 0, 0, 0, 0, 0, 0, 0, 0, 0, 0, 0, 0, 0, 0, 0, 0, 0, 0, 0, 0, 0, 0, 0, 0, 0, 0, 0, 0, 0, 0, 0, 0, 0, 0, 0, 0, 0, 0, 0, 0, 0, 0, 0, 0, 0, 0, 0, 0, 0, 0, 0, 0, 0, 0, 0, 0, 0, 0, 0, 0, 0, 0, 0, 0, 0, 0, 0, 0, 0, 0, 0, 0, 0, 0, 0, 0, 0, 0, 0, 0, 0, 0, 0, 0, 0, 0, 0, 0, 0, 0, 0, 0, 0, 0, 0, 0, 0, 0, 0, 0, 0, 0, 0, 0, 0, 0, 0, 0, 0, 0, 0, 0, 0, 0, 0, 0, 0, 0, 0, 0, 0, 0, 0, 0, 0, 0, 0, 0, 0, 0, 0, 0, 0, 0, 0, 0, 0, 0, 0, 0, 0, 0, 0, 0, 0, 0, 0, 0, 0, 0, 0, 0, 0, 0, 0, 0, 0, 0, 0, 0, 0, 0, 0, 0, 0, 0, 0, 0, 0, 0, 0, 0, 0, 0, 0, 0, 0, 0, 0, 0, 0, 0, 0, 0, 0, 0, 0, 0, 0, 0, 0, 0, 0, 0, 0, 0, 0, 0, 0, 0, 0, 0, 0, 0, 0, 0, 0, 0, 0, 0, 0, 0, 0, 0, 0, 0, 0, 0, 0, 0, 0, 0, 0, 0, 0, 0, 0, 0, 0, 0, 0, 0, 0, 0, 0, 0, 0, 0, 0, 0, 0, 0, 0, 0, 0, 0, 0, 0, 0, 0, 0, 0, 0, 0, 0, 0, 0, 0, 0, 0, 0, 0, 0, 0, 0, 0, 0, 0, 0, 0, 0, 0, 0, 0, 0, 0, 0, 0, 0, 0, 0, 0, 0, 0, 0, 0, 0, 0, 0, 0, 0, 0, 0, 0, 0, 0, 0, 0, 0, 0, 0, 0, 0, 0, 0, 0, 0, 0, 0, 0, 0, 0, 0, 0, 0, 0, 0, 0, 0, 0, 0, 0, 0, 0, 0, 0, 0, 0, 0, 0, 0, 0, 0, 0, 0, 0, 0, 0, 0, 0, 0, 0, 0, 0, 0, 0, 0, 0, 0, 0, 0, 0, 0, 0, 0, 0, 0, 0, 0, 0, 0, 0, 0, 0, 0, 0, 0, 0, 0, 0, 0, 0, 0, 0, 0, 0, 0, 0, 0, 0, 0, 0, 0, 0, 0, 0, 0, 0, 0, 0, 0, 0, 0, 0, 0, 0, 0, 0, 0, 0, 0, 0, 0, 0, 0, 0, 0, 0, 0, 0, 0, 0, 0, 0, 0, 0, 0, 0, 0, 0, 0, 0, 0, 0, 0, 0, 0, 0, 0, 0, 0, 0, 0, 0, 0, 0, 0, 0, 0, 0, 0, 0, 0, 0, 0, 0, 0, 0, 0, 0, 0, 0, 0, 0, 0, 0, 0, 0, 0, 0, 0, 0, 0, 0, 0, 0, 0, 0, 0, 0, 0, 0, 0, 0, 0, 0, 0, 0, 0, 0, 0, 0, 0, 0, 0, 0, 0, 0, 0, 0, 0, 0, 0, 0, 0, 0, 0, 0, 0, 0, 0, 0, 0, 0, 0, 0, 0, 0, 0, 0], 'attention_mask': [1, 1, 1, 1, 1, 1, 1, 1, 1, 1, 1, 1, 1, 1, 1, 1, 1, 1, 1, 1, 1, 1, 1, 1, 1, 1, 1, 1, 1, 1, 1, 1, 1, 1, 1, 1, 1, 1, 1, 1, 1, 1, 1, 1, 1, 1, 1, 1, 1, 1, 1, 0, 0, 0, 0, 0, 0, 0, 0, 0, 0, 0, 0, 0, 0, 0, 0, 0, 0, 0, 0, 0, 0, 0, 0, 0, 0, 0, 0, 0, 0, 0, 0, 0, 0, 0, 0, 0, 0, 0, 0, 0, 0, 0, 0, 0, 0, 0, 0, 0, 0, 0, 0, 0, 0, 0, 0, 0, 0, 0, 0, 0, 0, 0, 0, 0, 0, 0, 0, 0, 0, 0, 0, 0, 0, 0, 0, 0, 0, 0, 0, 0, 0, 0, 0, 0, 0, 0, 0, 0, 0, 0, 0, 0, 0, 0, 0, 0, 0, 0, 0, 0, 0, 0, 0, 0, 0, 0, 0, 0, 0, 0, 0, 0, 0, 0, 0, 0, 0, 0, 0, 0, 0, 0, 0, 0, 0, 0, 0, 0, 0, 0, 0, 0, 0, 0, 0, 0, 0, 0, 0, 0, 0, 0, 0, 0, 0, 0, 0, 0, 0, 0, 0, 0, 0, 0, 0, 0, 0, 0, 0, 0, 0, 0, 0, 0, 0, 0, 0, 0, 0, 0, 0, 0, 0, 0, 0, 0, 0, 0, 0, 0, 0, 0, 0, 0, 0, 0, 0, 0, 0, 0, 0, 0, 0, 0, 0, 0, 0, 0, 0, 0, 0, 0, 0, 0, 0, 0, 0, 0, 0, 0, 0, 0, 0, 0, 0, 0, 0, 0, 0, 0, 0, 0, 0, 0, 0, 0, 0, 0, 0, 0, 0, 0, 0, 0, 0, 0, 0, 0, 0, 0, 0, 0, 0, 0, 0, 0, 0, 0, 0, 0, 0, 0, 0, 0, 0, 0, 0, 0, 0, 0, 0, 0, 0, 0, 0, 0, 0, 0, 0, 0, 0, 0, 0, 0, 0, 0, 0, 0, 0, 0, 0, 0, 0, 0, 0, 0, 0, 0, 0, 0, 0, 0, 0, 0, 0, 0, 0, 0, 0, 0, 0, 0, 0, 0, 0, 0, 0, 0, 0, 0, 0, 0, 0, 0, 0, 0, 0, 0, 0, 0, 0, 0, 0, 0, 0, 0, 0, 0, 0, 0, 0, 0, 0, 0, 0, 0, 0, 0, 0, 0, 0, 0, 0, 0, 0, 0, 0, 0, 0, 0, 0, 0, 0, 0, 0, 0, 0, 0, 0, 0, 0, 0, 0, 0, 0, 0, 0, 0, 0, 0, 0, 0, 0, 0, 0, 0, 0, 0, 0, 0, 0, 0, 0, 0, 0, 0, 0, 0, 0, 0, 0, 0, 0, 0, 0, 0, 0, 0, 0, 0, 0, 0, 0, 0, 0, 0, 0, 0, 0, 0, 0, 0, 0, 0, 0, 0, 0, 0, 0, 0, 0, 0, 0, 0, 0, 0, 0, 0, 0, 0, 0, 0, 0, 0, 0, 0, 0, 0, 0, 0, 0, 0, 0, 0, 0, 0, 0, 0, 0, 0, 0, 0, 0, 0, 0, 0, 0, 0, 0, 0]}"
            ]
          },
          "execution_count": 102,
          "metadata": {},
          "output_type": "execute_result"
        }
      ],
      "source": [
        "tokenizer(df['text'][0], padding=\"max_length\", truncation=True)"
      ]
    },
    {
      "cell_type": "markdown",
      "metadata": {
        "id": "2Rcq-KTm6VxW"
      },
      "source": [
        "<font size=3>After a brief exploration of the bert-base-chinese, it contains 21128 tokens, and we explored what is inside the tokenizer. We found out that there is some interesting token that starts with ##. We did some research and figured out that it is for WordPiece. Because the word is not in the dictionary, it handles those words by adding the prefix \"##.\" And we look into the text before and after tokenizing. Adding some context to the Chinese sentence above, it just mentions how the customers feel about the hotel, and they said it is comfortable and the price is reasonable.\n",
        "\n",
        "source: https://huggingface.co/course/chapter6/6?fw=pt</font>"
      ]
    },
    {
      "cell_type": "code",
      "execution_count": null,
      "metadata": {
        "id": "MrJAZG6T6VxW"
      },
      "outputs": [],
      "source": [
        "def tokenize_function(examples):\n",
        "    return tokenizer(examples[\"text\"], padding=\"max_length\", truncation=True)"
      ]
    },
    {
      "cell_type": "markdown",
      "metadata": {
        "id": "3NO2yNBG6VxW"
      },
      "source": [
        "Tokenizing the entire dataset using the tokenize_function defined above"
      ]
    },
    {
      "cell_type": "code",
      "execution_count": null,
      "metadata": {
        "colab": {
          "referenced_widgets": [
            "f42e2403c34e4df6a0be7be9e5a3752a",
            "b51b280f352e4f73abe22971952a197b",
            "7be18b2b1f944368b04d4c9fa871cf83"
          ]
        },
        "id": "SbwpiUBs6VxW",
        "outputId": "1e41563f-9c29-4112-ee37-6217ced39b08"
      },
      "outputs": [
        {
          "data": {
            "application/vnd.jupyter.widget-view+json": {
              "model_id": "f42e2403c34e4df6a0be7be9e5a3752a",
              "version_major": 2,
              "version_minor": 0
            },
            "text/plain": [
              "Map:   0%|          | 0/12348 [00:00<?, ? examples/s]"
            ]
          },
          "metadata": {},
          "output_type": "display_data"
        },
        {
          "data": {
            "application/vnd.jupyter.widget-view+json": {
              "model_id": "b51b280f352e4f73abe22971952a197b",
              "version_major": 2,
              "version_minor": 0
            },
            "text/plain": [
              "Map:   0%|          | 0/4896 [00:00<?, ? examples/s]"
            ]
          },
          "metadata": {},
          "output_type": "display_data"
        },
        {
          "data": {
            "application/vnd.jupyter.widget-view+json": {
              "model_id": "7be18b2b1f944368b04d4c9fa871cf83",
              "version_major": 2,
              "version_minor": 0
            },
            "text/plain": [
              "Map:   0%|          | 0/2591 [00:00<?, ? examples/s]"
            ]
          },
          "metadata": {},
          "output_type": "display_data"
        }
      ],
      "source": [
        "tokenized_datasets = dataset.map(tokenize_function, batched=True)"
      ]
    },
    {
      "cell_type": "markdown",
      "metadata": {
        "id": "zZj43FCm6VxW"
      },
      "source": [
        "Removing the original text column from the tokenized dataset and renaming the label column to \"labels\" and Setting the format of the tokenized dataset to PyTorch tensors"
      ]
    },
    {
      "cell_type": "code",
      "execution_count": null,
      "metadata": {
        "id": "spRp4AgM6VxW"
      },
      "outputs": [],
      "source": [
        "tokenized_datasets = tokenized_datasets.remove_columns([\"text\"])\n",
        "tokenized_datasets = tokenized_datasets.rename_column(\"label\", \"labels\")\n",
        "tokenized_datasets.set_format(\"torch\")"
      ]
    },
    {
      "cell_type": "markdown",
      "metadata": {
        "id": "CItknIJg6VxW"
      },
      "source": [
        "Separating the tokenized dataset into training, validation, and test datasets"
      ]
    },
    {
      "cell_type": "code",
      "execution_count": null,
      "metadata": {
        "id": "lFdtA2b56VxX"
      },
      "outputs": [],
      "source": [
        "train_dataset = tokenized_datasets[\"train\"]\n",
        "eval_dataset = tokenized_datasets[\"validation\"]\n",
        "test_dataset = tokenized_datasets[\"test\"]"
      ]
    },
    {
      "cell_type": "markdown",
      "metadata": {
        "id": "BnDDEzO46VxX"
      },
      "source": [
        "Creating data loaders for the training, validation, and test datasets"
      ]
    },
    {
      "cell_type": "code",
      "execution_count": null,
      "metadata": {
        "id": "zUw7BZcE6VxX"
      },
      "outputs": [],
      "source": [
        "train_dataloader = DataLoader(train_dataset, batch_size=8)\n",
        "eval_dataloader = DataLoader(eval_dataset, batch_size=8)\n",
        "test_dataloader = DataLoader(test_dataset, batch_size=8)"
      ]
    },
    {
      "cell_type": "markdown",
      "metadata": {
        "id": "vd8dLKpM6VxX"
      },
      "source": [
        "Instantiating a pre-trained Chinese BERT model for sequence classification"
      ]
    },
    {
      "cell_type": "code",
      "execution_count": null,
      "metadata": {
        "colab": {
          "referenced_widgets": [
            "87e6b4ace5034fa1b7c7ebab2495ee73"
          ]
        },
        "id": "4lEODPyq6VxX",
        "outputId": "e0be8d51-1439-4ad5-a432-0613e1a041e8"
      },
      "outputs": [
        {
          "data": {
            "application/vnd.jupyter.widget-view+json": {
              "model_id": "87e6b4ace5034fa1b7c7ebab2495ee73",
              "version_major": 2,
              "version_minor": 0
            },
            "text/plain": [
              "Downloading pytorch_model.bin:   0%|          | 0.00/412M [00:00<?, ?B/s]"
            ]
          },
          "metadata": {},
          "output_type": "display_data"
        },
        {
          "name": "stderr",
          "output_type": "stream",
          "text": [
            "Some weights of the model checkpoint at bert-base-chinese were not used when initializing BertForSequenceClassification: ['cls.predictions.transform.dense.weight', 'cls.predictions.decoder.weight', 'cls.predictions.transform.LayerNorm.weight', 'cls.predictions.bias', 'cls.seq_relationship.weight', 'cls.seq_relationship.bias', 'cls.predictions.transform.LayerNorm.bias', 'cls.predictions.transform.dense.bias']\n",
            "- This IS expected if you are initializing BertForSequenceClassification from the checkpoint of a model trained on another task or with another architecture (e.g. initializing a BertForSequenceClassification model from a BertForPreTraining model).\n",
            "- This IS NOT expected if you are initializing BertForSequenceClassification from the checkpoint of a model that you expect to be exactly identical (initializing a BertForSequenceClassification model from a BertForSequenceClassification model).\n",
            "Some weights of BertForSequenceClassification were not initialized from the model checkpoint at bert-base-chinese and are newly initialized: ['classifier.weight', 'classifier.bias']\n",
            "You should probably TRAIN this model on a down-stream task to be able to use it for predictions and inference.\n"
          ]
        }
      ],
      "source": [
        "model = AutoModelForSequenceClassification.from_pretrained(\"bert-base-chinese\", num_labels=2)"
      ]
    },
    {
      "cell_type": "markdown",
      "metadata": {
        "id": "hBi_Hs_q6VxX"
      },
      "source": [
        "Defining an optimizer for the model, chose AdamW as shown in class"
      ]
    },
    {
      "cell_type": "code",
      "execution_count": null,
      "metadata": {
        "id": "ZT2b4xpn6VxX"
      },
      "outputs": [],
      "source": [
        "optimizer = AdamW(model.parameters(), lr=5e-5)"
      ]
    },
    {
      "cell_type": "code",
      "execution_count": null,
      "metadata": {
        "id": "7uGNkPdp6VxX"
      },
      "outputs": [],
      "source": [
        "num_epochs = 3\n",
        "num_training_steps = num_epochs * len(train_dataloader)\n",
        "lr_scheduler = get_scheduler(\n",
        "    name=\"linear\", optimizer=optimizer, num_warmup_steps=0, num_training_steps=num_training_steps\n",
        ")"
      ]
    },
    {
      "cell_type": "markdown",
      "metadata": {
        "id": "jMn9M7mQ6VxX"
      },
      "source": [
        "Moving the model to the GPU if one is available"
      ]
    },
    {
      "cell_type": "code",
      "execution_count": null,
      "metadata": {
        "id": "TrRn-TjI6VxX",
        "outputId": "e1c6463a-a178-489b-9b33-070a983afb8b"
      },
      "outputs": [
        {
          "data": {
            "text/plain": [
              "BertForSequenceClassification(\n",
              "  (bert): BertModel(\n",
              "    (embeddings): BertEmbeddings(\n",
              "      (word_embeddings): Embedding(21128, 768, padding_idx=0)\n",
              "      (position_embeddings): Embedding(512, 768)\n",
              "      (token_type_embeddings): Embedding(2, 768)\n",
              "      (LayerNorm): LayerNorm((768,), eps=1e-12, elementwise_affine=True)\n",
              "      (dropout): Dropout(p=0.1, inplace=False)\n",
              "    )\n",
              "    (encoder): BertEncoder(\n",
              "      (layer): ModuleList(\n",
              "        (0): BertLayer(\n",
              "          (attention): BertAttention(\n",
              "            (self): BertSelfAttention(\n",
              "              (query): Linear(in_features=768, out_features=768, bias=True)\n",
              "              (key): Linear(in_features=768, out_features=768, bias=True)\n",
              "              (value): Linear(in_features=768, out_features=768, bias=True)\n",
              "              (dropout): Dropout(p=0.1, inplace=False)\n",
              "            )\n",
              "            (output): BertSelfOutput(\n",
              "              (dense): Linear(in_features=768, out_features=768, bias=True)\n",
              "              (LayerNorm): LayerNorm((768,), eps=1e-12, elementwise_affine=True)\n",
              "              (dropout): Dropout(p=0.1, inplace=False)\n",
              "            )\n",
              "          )\n",
              "          (intermediate): BertIntermediate(\n",
              "            (dense): Linear(in_features=768, out_features=3072, bias=True)\n",
              "            (intermediate_act_fn): GELUActivation()\n",
              "          )\n",
              "          (output): BertOutput(\n",
              "            (dense): Linear(in_features=3072, out_features=768, bias=True)\n",
              "            (LayerNorm): LayerNorm((768,), eps=1e-12, elementwise_affine=True)\n",
              "            (dropout): Dropout(p=0.1, inplace=False)\n",
              "          )\n",
              "        )\n",
              "        (1): BertLayer(\n",
              "          (attention): BertAttention(\n",
              "            (self): BertSelfAttention(\n",
              "              (query): Linear(in_features=768, out_features=768, bias=True)\n",
              "              (key): Linear(in_features=768, out_features=768, bias=True)\n",
              "              (value): Linear(in_features=768, out_features=768, bias=True)\n",
              "              (dropout): Dropout(p=0.1, inplace=False)\n",
              "            )\n",
              "            (output): BertSelfOutput(\n",
              "              (dense): Linear(in_features=768, out_features=768, bias=True)\n",
              "              (LayerNorm): LayerNorm((768,), eps=1e-12, elementwise_affine=True)\n",
              "              (dropout): Dropout(p=0.1, inplace=False)\n",
              "            )\n",
              "          )\n",
              "          (intermediate): BertIntermediate(\n",
              "            (dense): Linear(in_features=768, out_features=3072, bias=True)\n",
              "            (intermediate_act_fn): GELUActivation()\n",
              "          )\n",
              "          (output): BertOutput(\n",
              "            (dense): Linear(in_features=3072, out_features=768, bias=True)\n",
              "            (LayerNorm): LayerNorm((768,), eps=1e-12, elementwise_affine=True)\n",
              "            (dropout): Dropout(p=0.1, inplace=False)\n",
              "          )\n",
              "        )\n",
              "        (2): BertLayer(\n",
              "          (attention): BertAttention(\n",
              "            (self): BertSelfAttention(\n",
              "              (query): Linear(in_features=768, out_features=768, bias=True)\n",
              "              (key): Linear(in_features=768, out_features=768, bias=True)\n",
              "              (value): Linear(in_features=768, out_features=768, bias=True)\n",
              "              (dropout): Dropout(p=0.1, inplace=False)\n",
              "            )\n",
              "            (output): BertSelfOutput(\n",
              "              (dense): Linear(in_features=768, out_features=768, bias=True)\n",
              "              (LayerNorm): LayerNorm((768,), eps=1e-12, elementwise_affine=True)\n",
              "              (dropout): Dropout(p=0.1, inplace=False)\n",
              "            )\n",
              "          )\n",
              "          (intermediate): BertIntermediate(\n",
              "            (dense): Linear(in_features=768, out_features=3072, bias=True)\n",
              "            (intermediate_act_fn): GELUActivation()\n",
              "          )\n",
              "          (output): BertOutput(\n",
              "            (dense): Linear(in_features=3072, out_features=768, bias=True)\n",
              "            (LayerNorm): LayerNorm((768,), eps=1e-12, elementwise_affine=True)\n",
              "            (dropout): Dropout(p=0.1, inplace=False)\n",
              "          )\n",
              "        )\n",
              "        (3): BertLayer(\n",
              "          (attention): BertAttention(\n",
              "            (self): BertSelfAttention(\n",
              "              (query): Linear(in_features=768, out_features=768, bias=True)\n",
              "              (key): Linear(in_features=768, out_features=768, bias=True)\n",
              "              (value): Linear(in_features=768, out_features=768, bias=True)\n",
              "              (dropout): Dropout(p=0.1, inplace=False)\n",
              "            )\n",
              "            (output): BertSelfOutput(\n",
              "              (dense): Linear(in_features=768, out_features=768, bias=True)\n",
              "              (LayerNorm): LayerNorm((768,), eps=1e-12, elementwise_affine=True)\n",
              "              (dropout): Dropout(p=0.1, inplace=False)\n",
              "            )\n",
              "          )\n",
              "          (intermediate): BertIntermediate(\n",
              "            (dense): Linear(in_features=768, out_features=3072, bias=True)\n",
              "            (intermediate_act_fn): GELUActivation()\n",
              "          )\n",
              "          (output): BertOutput(\n",
              "            (dense): Linear(in_features=3072, out_features=768, bias=True)\n",
              "            (LayerNorm): LayerNorm((768,), eps=1e-12, elementwise_affine=True)\n",
              "            (dropout): Dropout(p=0.1, inplace=False)\n",
              "          )\n",
              "        )\n",
              "        (4): BertLayer(\n",
              "          (attention): BertAttention(\n",
              "            (self): BertSelfAttention(\n",
              "              (query): Linear(in_features=768, out_features=768, bias=True)\n",
              "              (key): Linear(in_features=768, out_features=768, bias=True)\n",
              "              (value): Linear(in_features=768, out_features=768, bias=True)\n",
              "              (dropout): Dropout(p=0.1, inplace=False)\n",
              "            )\n",
              "            (output): BertSelfOutput(\n",
              "              (dense): Linear(in_features=768, out_features=768, bias=True)\n",
              "              (LayerNorm): LayerNorm((768,), eps=1e-12, elementwise_affine=True)\n",
              "              (dropout): Dropout(p=0.1, inplace=False)\n",
              "            )\n",
              "          )\n",
              "          (intermediate): BertIntermediate(\n",
              "            (dense): Linear(in_features=768, out_features=3072, bias=True)\n",
              "            (intermediate_act_fn): GELUActivation()\n",
              "          )\n",
              "          (output): BertOutput(\n",
              "            (dense): Linear(in_features=3072, out_features=768, bias=True)\n",
              "            (LayerNorm): LayerNorm((768,), eps=1e-12, elementwise_affine=True)\n",
              "            (dropout): Dropout(p=0.1, inplace=False)\n",
              "          )\n",
              "        )\n",
              "        (5): BertLayer(\n",
              "          (attention): BertAttention(\n",
              "            (self): BertSelfAttention(\n",
              "              (query): Linear(in_features=768, out_features=768, bias=True)\n",
              "              (key): Linear(in_features=768, out_features=768, bias=True)\n",
              "              (value): Linear(in_features=768, out_features=768, bias=True)\n",
              "              (dropout): Dropout(p=0.1, inplace=False)\n",
              "            )\n",
              "            (output): BertSelfOutput(\n",
              "              (dense): Linear(in_features=768, out_features=768, bias=True)\n",
              "              (LayerNorm): LayerNorm((768,), eps=1e-12, elementwise_affine=True)\n",
              "              (dropout): Dropout(p=0.1, inplace=False)\n",
              "            )\n",
              "          )\n",
              "          (intermediate): BertIntermediate(\n",
              "            (dense): Linear(in_features=768, out_features=3072, bias=True)\n",
              "            (intermediate_act_fn): GELUActivation()\n",
              "          )\n",
              "          (output): BertOutput(\n",
              "            (dense): Linear(in_features=3072, out_features=768, bias=True)\n",
              "            (LayerNorm): LayerNorm((768,), eps=1e-12, elementwise_affine=True)\n",
              "            (dropout): Dropout(p=0.1, inplace=False)\n",
              "          )\n",
              "        )\n",
              "        (6): BertLayer(\n",
              "          (attention): BertAttention(\n",
              "            (self): BertSelfAttention(\n",
              "              (query): Linear(in_features=768, out_features=768, bias=True)\n",
              "              (key): Linear(in_features=768, out_features=768, bias=True)\n",
              "              (value): Linear(in_features=768, out_features=768, bias=True)\n",
              "              (dropout): Dropout(p=0.1, inplace=False)\n",
              "            )\n",
              "            (output): BertSelfOutput(\n",
              "              (dense): Linear(in_features=768, out_features=768, bias=True)\n",
              "              (LayerNorm): LayerNorm((768,), eps=1e-12, elementwise_affine=True)\n",
              "              (dropout): Dropout(p=0.1, inplace=False)\n",
              "            )\n",
              "          )\n",
              "          (intermediate): BertIntermediate(\n",
              "            (dense): Linear(in_features=768, out_features=3072, bias=True)\n",
              "            (intermediate_act_fn): GELUActivation()\n",
              "          )\n",
              "          (output): BertOutput(\n",
              "            (dense): Linear(in_features=3072, out_features=768, bias=True)\n",
              "            (LayerNorm): LayerNorm((768,), eps=1e-12, elementwise_affine=True)\n",
              "            (dropout): Dropout(p=0.1, inplace=False)\n",
              "          )\n",
              "        )\n",
              "        (7): BertLayer(\n",
              "          (attention): BertAttention(\n",
              "            (self): BertSelfAttention(\n",
              "              (query): Linear(in_features=768, out_features=768, bias=True)\n",
              "              (key): Linear(in_features=768, out_features=768, bias=True)\n",
              "              (value): Linear(in_features=768, out_features=768, bias=True)\n",
              "              (dropout): Dropout(p=0.1, inplace=False)\n",
              "            )\n",
              "            (output): BertSelfOutput(\n",
              "              (dense): Linear(in_features=768, out_features=768, bias=True)\n",
              "              (LayerNorm): LayerNorm((768,), eps=1e-12, elementwise_affine=True)\n",
              "              (dropout): Dropout(p=0.1, inplace=False)\n",
              "            )\n",
              "          )\n",
              "          (intermediate): BertIntermediate(\n",
              "            (dense): Linear(in_features=768, out_features=3072, bias=True)\n",
              "            (intermediate_act_fn): GELUActivation()\n",
              "          )\n",
              "          (output): BertOutput(\n",
              "            (dense): Linear(in_features=3072, out_features=768, bias=True)\n",
              "            (LayerNorm): LayerNorm((768,), eps=1e-12, elementwise_affine=True)\n",
              "            (dropout): Dropout(p=0.1, inplace=False)\n",
              "          )\n",
              "        )\n",
              "        (8): BertLayer(\n",
              "          (attention): BertAttention(\n",
              "            (self): BertSelfAttention(\n",
              "              (query): Linear(in_features=768, out_features=768, bias=True)\n",
              "              (key): Linear(in_features=768, out_features=768, bias=True)\n",
              "              (value): Linear(in_features=768, out_features=768, bias=True)\n",
              "              (dropout): Dropout(p=0.1, inplace=False)\n",
              "            )\n",
              "            (output): BertSelfOutput(\n",
              "              (dense): Linear(in_features=768, out_features=768, bias=True)\n",
              "              (LayerNorm): LayerNorm((768,), eps=1e-12, elementwise_affine=True)\n",
              "              (dropout): Dropout(p=0.1, inplace=False)\n",
              "            )\n",
              "          )\n",
              "          (intermediate): BertIntermediate(\n",
              "            (dense): Linear(in_features=768, out_features=3072, bias=True)\n",
              "            (intermediate_act_fn): GELUActivation()\n",
              "          )\n",
              "          (output): BertOutput(\n",
              "            (dense): Linear(in_features=3072, out_features=768, bias=True)\n",
              "            (LayerNorm): LayerNorm((768,), eps=1e-12, elementwise_affine=True)\n",
              "            (dropout): Dropout(p=0.1, inplace=False)\n",
              "          )\n",
              "        )\n",
              "        (9): BertLayer(\n",
              "          (attention): BertAttention(\n",
              "            (self): BertSelfAttention(\n",
              "              (query): Linear(in_features=768, out_features=768, bias=True)\n",
              "              (key): Linear(in_features=768, out_features=768, bias=True)\n",
              "              (value): Linear(in_features=768, out_features=768, bias=True)\n",
              "              (dropout): Dropout(p=0.1, inplace=False)\n",
              "            )\n",
              "            (output): BertSelfOutput(\n",
              "              (dense): Linear(in_features=768, out_features=768, bias=True)\n",
              "              (LayerNorm): LayerNorm((768,), eps=1e-12, elementwise_affine=True)\n",
              "              (dropout): Dropout(p=0.1, inplace=False)\n",
              "            )\n",
              "          )\n",
              "          (intermediate): BertIntermediate(\n",
              "            (dense): Linear(in_features=768, out_features=3072, bias=True)\n",
              "            (intermediate_act_fn): GELUActivation()\n",
              "          )\n",
              "          (output): BertOutput(\n",
              "            (dense): Linear(in_features=3072, out_features=768, bias=True)\n",
              "            (LayerNorm): LayerNorm((768,), eps=1e-12, elementwise_affine=True)\n",
              "            (dropout): Dropout(p=0.1, inplace=False)\n",
              "          )\n",
              "        )\n",
              "        (10): BertLayer(\n",
              "          (attention): BertAttention(\n",
              "            (self): BertSelfAttention(\n",
              "              (query): Linear(in_features=768, out_features=768, bias=True)\n",
              "              (key): Linear(in_features=768, out_features=768, bias=True)\n",
              "              (value): Linear(in_features=768, out_features=768, bias=True)\n",
              "              (dropout): Dropout(p=0.1, inplace=False)\n",
              "            )\n",
              "            (output): BertSelfOutput(\n",
              "              (dense): Linear(in_features=768, out_features=768, bias=True)\n",
              "              (LayerNorm): LayerNorm((768,), eps=1e-12, elementwise_affine=True)\n",
              "              (dropout): Dropout(p=0.1, inplace=False)\n",
              "            )\n",
              "          )\n",
              "          (intermediate): BertIntermediate(\n",
              "            (dense): Linear(in_features=768, out_features=3072, bias=True)\n",
              "            (intermediate_act_fn): GELUActivation()\n",
              "          )\n",
              "          (output): BertOutput(\n",
              "            (dense): Linear(in_features=3072, out_features=768, bias=True)\n",
              "            (LayerNorm): LayerNorm((768,), eps=1e-12, elementwise_affine=True)\n",
              "            (dropout): Dropout(p=0.1, inplace=False)\n",
              "          )\n",
              "        )\n",
              "        (11): BertLayer(\n",
              "          (attention): BertAttention(\n",
              "            (self): BertSelfAttention(\n",
              "              (query): Linear(in_features=768, out_features=768, bias=True)\n",
              "              (key): Linear(in_features=768, out_features=768, bias=True)\n",
              "              (value): Linear(in_features=768, out_features=768, bias=True)\n",
              "              (dropout): Dropout(p=0.1, inplace=False)\n",
              "            )\n",
              "            (output): BertSelfOutput(\n",
              "              (dense): Linear(in_features=768, out_features=768, bias=True)\n",
              "              (LayerNorm): LayerNorm((768,), eps=1e-12, elementwise_affine=True)\n",
              "              (dropout): Dropout(p=0.1, inplace=False)\n",
              "            )\n",
              "          )\n",
              "          (intermediate): BertIntermediate(\n",
              "            (dense): Linear(in_features=768, out_features=3072, bias=True)\n",
              "            (intermediate_act_fn): GELUActivation()\n",
              "          )\n",
              "          (output): BertOutput(\n",
              "            (dense): Linear(in_features=3072, out_features=768, bias=True)\n",
              "            (LayerNorm): LayerNorm((768,), eps=1e-12, elementwise_affine=True)\n",
              "            (dropout): Dropout(p=0.1, inplace=False)\n",
              "          )\n",
              "        )\n",
              "      )\n",
              "    )\n",
              "    (pooler): BertPooler(\n",
              "      (dense): Linear(in_features=768, out_features=768, bias=True)\n",
              "      (activation): Tanh()\n",
              "    )\n",
              "  )\n",
              "  (dropout): Dropout(p=0.1, inplace=False)\n",
              "  (classifier): Linear(in_features=768, out_features=2, bias=True)\n",
              ")"
            ]
          },
          "execution_count": 24,
          "metadata": {},
          "output_type": "execute_result"
        }
      ],
      "source": [
        "device = torch.device(\"cuda\") if torch.cuda.is_available() else torch.device(\"cpu\")\n",
        "model.to(device)"
      ]
    },
    {
      "cell_type": "markdown",
      "metadata": {
        "id": "K8Qrf4n56VxX"
      },
      "source": [
        "Training with a tqdm progress bar"
      ]
    },
    {
      "cell_type": "code",
      "execution_count": null,
      "metadata": {
        "colab": {
          "referenced_widgets": [
            "80da9db40f36433bb377b82aa7e53df8"
          ]
        },
        "id": "OMvYvGvM6VxX",
        "outputId": "ec4dc251-fd58-4c06-d55b-16676333400c"
      },
      "outputs": [
        {
          "data": {
            "application/vnd.jupyter.widget-view+json": {
              "model_id": "80da9db40f36433bb377b82aa7e53df8",
              "version_major": 2,
              "version_minor": 0
            },
            "text/plain": [
              "  0%|          | 0/4632 [00:00<?, ?it/s]"
            ]
          },
          "metadata": {},
          "output_type": "display_data"
        }
      ],
      "source": [
        "progress_bar = tqdm(range(num_training_steps))\n",
        "\n",
        "model.train()\n",
        "for epoch in range(num_epochs):\n",
        "    for batch in train_dataloader:\n",
        "        batch = {k: v.to(device) for k, v in batch.items()}\n",
        "        outputs = model(**batch)\n",
        "        loss = outputs.loss\n",
        "        loss.backward()\n",
        "\n",
        "        optimizer.step()\n",
        "        lr_scheduler.step()\n",
        "        optimizer.zero_grad()\n",
        "        progress_bar.update(1)"
      ]
    },
    {
      "cell_type": "markdown",
      "metadata": {
        "id": "jFORsbOm6VxX"
      },
      "source": [
        "Evaluation on \"eval_dataloader\" with accuracy metric"
      ]
    },
    {
      "cell_type": "code",
      "execution_count": null,
      "metadata": {
        "colab": {
          "referenced_widgets": [
            "883339ce43334ad58545d557a6b60dc3"
          ]
        },
        "id": "bUg2JKfA6VxX",
        "outputId": "348ed44c-d6f6-4462-b792-7f022e33c26e"
      },
      "outputs": [
        {
          "data": {
            "application/vnd.jupyter.widget-view+json": {
              "model_id": "883339ce43334ad58545d557a6b60dc3",
              "version_major": 2,
              "version_minor": 0
            },
            "text/plain": [
              "Downloading builder script:   0%|          | 0.00/4.20k [00:00<?, ?B/s]"
            ]
          },
          "metadata": {},
          "output_type": "display_data"
        },
        {
          "name": "stdout",
          "output_type": "stream",
          "text": [
            "pred= tensor([0, 1, 1, 1, 0, 0, 1, 0], device='cuda:0') ground_truth= tensor([0, 1, 1, 1, 0, 0, 1, 0], device='cuda:0')\n",
            "pred= tensor([1, 0, 0, 1, 1, 0, 1, 1], device='cuda:0') ground_truth= tensor([1, 0, 0, 1, 1, 0, 1, 1], device='cuda:0')\n",
            "pred= tensor([0, 1, 1, 0, 1, 1, 1, 1], device='cuda:0') ground_truth= tensor([0, 1, 0, 0, 1, 1, 1, 1], device='cuda:0')\n",
            "pred= tensor([0, 1, 0, 0, 1, 1, 0, 1], device='cuda:0') ground_truth= tensor([0, 1, 0, 0, 1, 1, 0, 1], device='cuda:0')\n",
            "pred= tensor([0, 1, 0, 1, 0, 1, 1, 1], device='cuda:0') ground_truth= tensor([0, 1, 0, 1, 0, 1, 1, 1], device='cuda:0')\n",
            "pred= tensor([1, 0, 0, 0, 0, 0, 1, 1], device='cuda:0') ground_truth= tensor([1, 0, 0, 0, 0, 0, 1, 1], device='cuda:0')\n",
            "pred= tensor([1, 1, 1, 0, 0, 1, 1, 1], device='cuda:0') ground_truth= tensor([1, 1, 1, 0, 0, 1, 1, 1], device='cuda:0')\n",
            "pred= tensor([0, 1, 0, 0, 1, 0, 0, 0], device='cuda:0') ground_truth= tensor([0, 1, 0, 0, 1, 0, 0, 0], device='cuda:0')\n",
            "pred= tensor([1, 1, 0, 1, 0, 0, 1, 1], device='cuda:0') ground_truth= tensor([1, 1, 0, 1, 0, 0, 1, 1], device='cuda:0')\n",
            "pred= tensor([1, 1, 0, 1, 1, 1, 1, 0], device='cuda:0') ground_truth= tensor([1, 1, 0, 1, 1, 1, 0, 0], device='cuda:0')\n",
            "pred= tensor([1, 1, 0, 0, 0, 1, 0, 1], device='cuda:0') ground_truth= tensor([1, 1, 0, 0, 0, 1, 0, 1], device='cuda:0')\n",
            "pred= tensor([1, 1, 0, 1, 1, 1, 1, 0], device='cuda:0') ground_truth= tensor([1, 1, 0, 1, 1, 1, 1, 0], device='cuda:0')\n",
            "pred= tensor([1, 1, 1, 1, 1, 1, 1, 1], device='cuda:0') ground_truth= tensor([1, 1, 1, 1, 1, 1, 1, 1], device='cuda:0')\n",
            "pred= tensor([1, 1, 0, 1, 1, 1, 1, 0], device='cuda:0') ground_truth= tensor([1, 1, 0, 1, 1, 1, 1, 0], device='cuda:0')\n",
            "pred= tensor([1, 1, 0, 1, 0, 0, 1, 0], device='cuda:0') ground_truth= tensor([1, 1, 0, 1, 0, 0, 1, 0], device='cuda:0')\n",
            "pred= tensor([1, 1, 1, 0, 1, 1, 1, 1], device='cuda:0') ground_truth= tensor([1, 1, 1, 0, 1, 1, 1, 1], device='cuda:0')\n",
            "pred= tensor([0, 1, 1, 1, 1, 1, 1, 0], device='cuda:0') ground_truth= tensor([0, 1, 1, 1, 1, 1, 1, 0], device='cuda:0')\n",
            "pred= tensor([1, 1, 0, 1, 0, 1, 0, 0], device='cuda:0') ground_truth= tensor([1, 1, 0, 1, 0, 1, 0, 0], device='cuda:0')\n",
            "pred= tensor([0, 1, 1, 0, 1, 1, 0, 0], device='cuda:0') ground_truth= tensor([0, 1, 1, 0, 0, 1, 0, 0], device='cuda:0')\n",
            "pred= tensor([0, 0, 0, 1, 0, 1, 0, 1], device='cuda:0') ground_truth= tensor([0, 0, 0, 1, 0, 1, 0, 1], device='cuda:0')\n",
            "pred= tensor([1, 0, 0, 0, 0, 1, 1, 1], device='cuda:0') ground_truth= tensor([1, 0, 0, 0, 0, 1, 1, 1], device='cuda:0')\n",
            "pred= tensor([0, 1, 1, 1, 1, 1, 1, 1], device='cuda:0') ground_truth= tensor([0, 1, 1, 1, 1, 1, 1, 1], device='cuda:0')\n",
            "pred= tensor([0, 0, 0, 0, 1, 0, 1, 1], device='cuda:0') ground_truth= tensor([0, 0, 0, 0, 1, 0, 1, 1], device='cuda:0')\n",
            "pred= tensor([1, 1, 1, 1, 0, 1, 1, 0], device='cuda:0') ground_truth= tensor([0, 1, 1, 1, 1, 1, 1, 0], device='cuda:0')\n",
            "pred= tensor([0, 0, 1, 0, 1, 1, 1, 1], device='cuda:0') ground_truth= tensor([0, 0, 1, 1, 1, 1, 1, 1], device='cuda:0')\n",
            "pred= tensor([1, 1, 1, 0, 1, 1, 1, 1], device='cuda:0') ground_truth= tensor([1, 1, 0, 0, 1, 1, 1, 1], device='cuda:0')\n",
            "pred= tensor([0, 1, 1, 1, 0, 0, 1, 0], device='cuda:0') ground_truth= tensor([0, 1, 1, 1, 0, 0, 1, 0], device='cuda:0')\n",
            "pred= tensor([1, 1, 1, 0, 1, 1, 1, 0], device='cuda:0') ground_truth= tensor([1, 1, 1, 0, 1, 1, 1, 0], device='cuda:0')\n",
            "pred= tensor([0, 0, 1, 0, 0, 1, 0, 0], device='cuda:0') ground_truth= tensor([0, 0, 1, 0, 0, 1, 0, 0], device='cuda:0')\n",
            "pred= tensor([1, 0, 1, 0, 0, 1, 1, 1], device='cuda:0') ground_truth= tensor([1, 0, 1, 0, 0, 1, 1, 1], device='cuda:0')\n",
            "pred= tensor([1, 0, 1, 1, 1, 1, 1, 0], device='cuda:0') ground_truth= tensor([1, 0, 1, 1, 1, 1, 1, 0], device='cuda:0')\n",
            "pred= tensor([1, 1, 1, 0, 1, 1, 1, 1], device='cuda:0') ground_truth= tensor([1, 1, 1, 0, 1, 1, 0, 1], device='cuda:0')\n",
            "pred= tensor([0, 1, 0, 0, 1, 1, 1, 1], device='cuda:0') ground_truth= tensor([0, 1, 0, 0, 1, 1, 1, 1], device='cuda:0')\n",
            "pred= tensor([1, 0, 0, 1, 1, 1, 1, 1], device='cuda:0') ground_truth= tensor([1, 0, 0, 1, 1, 1, 1, 1], device='cuda:0')\n",
            "pred= tensor([0, 1, 0, 1, 1, 1, 1, 0], device='cuda:0') ground_truth= tensor([0, 1, 0, 0, 1, 1, 1, 0], device='cuda:0')\n",
            "pred= tensor([0, 1, 0, 1, 0, 0, 0, 0], device='cuda:0') ground_truth= tensor([0, 1, 0, 1, 0, 0, 0, 0], device='cuda:0')\n",
            "pred= tensor([0, 1, 1, 1, 1, 1, 0, 1], device='cuda:0') ground_truth= tensor([0, 1, 1, 1, 1, 1, 1, 1], device='cuda:0')\n",
            "pred= tensor([1, 0, 0, 1, 0, 1, 1, 0], device='cuda:0') ground_truth= tensor([1, 0, 0, 1, 1, 1, 1, 0], device='cuda:0')\n",
            "pred= tensor([0, 1, 1, 1, 0, 0, 1, 0], device='cuda:0') ground_truth= tensor([0, 0, 1, 0, 0, 0, 1, 0], device='cuda:0')\n",
            "pred= tensor([1, 1, 1, 1, 0, 0, 1, 1], device='cuda:0') ground_truth= tensor([1, 1, 1, 1, 0, 0, 1, 1], device='cuda:0')\n",
            "pred= tensor([1, 0, 0, 1, 1, 1, 1, 1], device='cuda:0') ground_truth= tensor([1, 0, 0, 1, 1, 1, 1, 1], device='cuda:0')\n",
            "pred= tensor([0, 1, 1, 0, 1, 1, 1, 1], device='cuda:0') ground_truth= tensor([0, 1, 1, 0, 1, 1, 1, 1], device='cuda:0')\n",
            "pred= tensor([1, 1, 0, 1, 1, 1, 1, 1], device='cuda:0') ground_truth= tensor([1, 1, 0, 1, 1, 1, 1, 1], device='cuda:0')\n",
            "pred= tensor([0, 1, 1, 1, 0, 1, 0, 1], device='cuda:0') ground_truth= tensor([0, 1, 1, 1, 0, 1, 0, 1], device='cuda:0')\n",
            "pred= tensor([1, 1, 0, 1, 1, 1, 0, 1], device='cuda:0') ground_truth= tensor([1, 1, 0, 1, 1, 1, 0, 1], device='cuda:0')\n",
            "pred= tensor([1, 1, 0, 0, 1, 1, 0, 1], device='cuda:0') ground_truth= tensor([1, 1, 0, 0, 1, 1, 0, 1], device='cuda:0')\n",
            "pred= tensor([1, 1, 0, 0, 1, 1, 0, 1], device='cuda:0') ground_truth= tensor([1, 1, 0, 0, 1, 1, 0, 0], device='cuda:0')\n",
            "pred= tensor([1, 1, 0, 1, 1, 1, 0, 1], device='cuda:0') ground_truth= tensor([1, 1, 0, 1, 1, 1, 0, 1], device='cuda:0')\n",
            "pred= tensor([0, 0, 0, 0, 0, 1, 1, 0], device='cuda:0') ground_truth= tensor([0, 0, 0, 0, 0, 1, 1, 0], device='cuda:0')\n",
            "pred= tensor([1, 1, 1, 0, 1, 0, 1, 1], device='cuda:0') ground_truth= tensor([1, 1, 1, 0, 1, 0, 1, 1], device='cuda:0')\n",
            "pred= tensor([0, 1, 1, 0, 1, 1, 0, 1], device='cuda:0') ground_truth= tensor([0, 1, 1, 1, 1, 1, 0, 1], device='cuda:0')\n",
            "pred= tensor([1, 0, 0, 0, 1, 1, 1, 1], device='cuda:0') ground_truth= tensor([1, 0, 0, 0, 1, 1, 1, 1], device='cuda:0')\n",
            "pred= tensor([1, 1, 0, 1, 0, 0, 0, 1], device='cuda:0') ground_truth= tensor([0, 1, 0, 1, 0, 0, 0, 1], device='cuda:0')\n",
            "pred= tensor([0, 1, 1, 0, 1, 1, 0, 1], device='cuda:0') ground_truth= tensor([0, 1, 1, 1, 1, 1, 0, 1], device='cuda:0')\n",
            "pred= tensor([0, 1, 0, 1, 1, 1, 1, 1], device='cuda:0') ground_truth= tensor([0, 1, 0, 1, 1, 1, 1, 1], device='cuda:0')\n",
            "pred= tensor([0, 0, 1, 1, 0, 1, 1, 1], device='cuda:0') ground_truth= tensor([0, 0, 1, 1, 0, 1, 1, 1], device='cuda:0')\n",
            "pred= tensor([1, 0, 1, 1, 1, 1, 1, 0], device='cuda:0') ground_truth= tensor([1, 0, 1, 1, 1, 1, 1, 0], device='cuda:0')\n",
            "pred= tensor([1, 1, 0, 1, 1, 1, 0, 1], device='cuda:0') ground_truth= tensor([1, 1, 0, 1, 1, 1, 0, 1], device='cuda:0')\n",
            "pred= tensor([1, 0, 1, 0, 0, 1, 0, 0], device='cuda:0') ground_truth= tensor([1, 0, 1, 0, 0, 1, 0, 0], device='cuda:0')\n",
            "pred= tensor([1, 1, 0, 1, 1, 1, 0, 0], device='cuda:0') ground_truth= tensor([0, 1, 0, 1, 1, 1, 0, 0], device='cuda:0')\n",
            "pred= tensor([0, 1, 1, 1, 0, 1, 1, 1], device='cuda:0') ground_truth= tensor([0, 1, 1, 1, 0, 1, 1, 1], device='cuda:0')\n",
            "pred= tensor([0, 1, 0, 0, 0, 1, 1, 1], device='cuda:0') ground_truth= tensor([0, 1, 0, 0, 0, 1, 1, 1], device='cuda:0')\n",
            "pred= tensor([1, 1, 1, 1, 1, 1, 0, 0], device='cuda:0') ground_truth= tensor([1, 1, 1, 1, 1, 1, 0, 0], device='cuda:0')\n",
            "pred= tensor([1, 1, 0, 1, 0, 1, 1, 0], device='cuda:0') ground_truth= tensor([1, 1, 0, 1, 0, 1, 0, 0], device='cuda:0')\n",
            "pred= tensor([0, 0, 0, 1, 0, 0, 1, 0], device='cuda:0') ground_truth= tensor([0, 0, 0, 1, 0, 0, 1, 0], device='cuda:0')\n",
            "pred= tensor([1, 1, 1, 1, 0, 0, 1, 1], device='cuda:0') ground_truth= tensor([1, 1, 1, 0, 0, 0, 1, 1], device='cuda:0')\n",
            "pred= tensor([1, 0, 1, 1, 1, 1, 0, 0], device='cuda:0') ground_truth= tensor([1, 0, 1, 1, 1, 1, 0, 0], device='cuda:0')\n",
            "pred= tensor([1, 1, 0, 0, 1, 0, 0, 1], device='cuda:0') ground_truth= tensor([1, 1, 0, 0, 1, 0, 0, 1], device='cuda:0')\n",
            "pred= tensor([1, 0, 1, 0, 0, 1, 1, 1], device='cuda:0') ground_truth= tensor([1, 0, 1, 0, 0, 1, 1, 1], device='cuda:0')\n",
            "pred= tensor([1, 0, 0, 1, 1, 0, 1, 0], device='cuda:0') ground_truth= tensor([1, 0, 0, 1, 1, 0, 1, 0], device='cuda:0')\n",
            "pred= tensor([1, 0, 0, 1, 0, 0, 1, 0], device='cuda:0') ground_truth= tensor([1, 0, 0, 1, 0, 0, 1, 0], device='cuda:0')\n",
            "pred= tensor([1, 1, 0, 1, 1, 0, 1, 1], device='cuda:0') ground_truth= tensor([1, 1, 0, 1, 1, 0, 1, 1], device='cuda:0')\n",
            "pred= tensor([1, 1, 1, 0, 0, 0, 0, 0], device='cuda:0') ground_truth= tensor([1, 1, 0, 1, 0, 0, 0, 0], device='cuda:0')\n",
            "pred= tensor([1, 0, 1, 0, 1, 1, 1, 0], device='cuda:0') ground_truth= tensor([1, 0, 1, 0, 1, 1, 1, 0], device='cuda:0')\n",
            "pred= tensor([1, 1, 0, 1, 0, 0, 1, 0], device='cuda:0') ground_truth= tensor([1, 1, 0, 1, 0, 0, 1, 0], device='cuda:0')\n",
            "pred= tensor([1, 0, 1, 1, 1, 1, 0, 1], device='cuda:0') ground_truth= tensor([1, 0, 1, 1, 1, 1, 1, 1], device='cuda:0')\n",
            "pred= tensor([1, 1, 0, 1, 1, 1, 1, 0], device='cuda:0') ground_truth= tensor([1, 1, 0, 1, 1, 1, 0, 0], device='cuda:0')\n",
            "pred= tensor([1, 0, 1, 0, 1, 0, 1, 0], device='cuda:0') ground_truth= tensor([1, 0, 1, 0, 1, 0, 1, 0], device='cuda:0')\n",
            "pred= tensor([0, 1, 1, 0, 1, 1, 1, 1], device='cuda:0') ground_truth= tensor([0, 1, 1, 0, 1, 1, 1, 1], device='cuda:0')\n",
            "pred= tensor([1, 1, 1, 1, 1, 1, 0, 1], device='cuda:0') ground_truth= tensor([1, 1, 1, 1, 1, 1, 0, 1], device='cuda:0')\n",
            "pred= tensor([1, 1, 0, 1, 0, 1, 1, 0], device='cuda:0') ground_truth= tensor([1, 1, 0, 1, 0, 1, 1, 0], device='cuda:0')\n",
            "pred= tensor([1, 1, 1, 1, 1, 0, 0, 1], device='cuda:0') ground_truth= tensor([1, 1, 1, 1, 1, 0, 0, 0], device='cuda:0')\n",
            "pred= tensor([1, 1, 0, 1, 1, 0, 0, 1], device='cuda:0') ground_truth= tensor([1, 1, 0, 1, 1, 0, 0, 1], device='cuda:0')\n",
            "pred= tensor([0, 1, 1, 0, 0, 0, 1, 0], device='cuda:0') ground_truth= tensor([0, 1, 1, 0, 0, 0, 1, 0], device='cuda:0')\n",
            "pred= tensor([1, 0, 0, 1, 1, 0, 0, 1], device='cuda:0') ground_truth= tensor([1, 0, 0, 1, 1, 0, 0, 1], device='cuda:0')\n",
            "pred= tensor([1, 1, 1, 1, 0, 1, 1, 0], device='cuda:0') ground_truth= tensor([1, 1, 1, 1, 0, 1, 1, 0], device='cuda:0')\n",
            "pred= tensor([0, 1, 1, 1, 1, 1, 0, 1], device='cuda:0') ground_truth= tensor([0, 1, 1, 1, 1, 1, 0, 1], device='cuda:0')\n",
            "pred= tensor([0, 0, 1, 1, 1, 1, 1, 0], device='cuda:0') ground_truth= tensor([0, 0, 1, 1, 1, 1, 1, 0], device='cuda:0')\n",
            "pred= tensor([0, 1, 1, 0, 1, 1, 1, 1], device='cuda:0') ground_truth= tensor([0, 1, 1, 0, 1, 1, 1, 1], device='cuda:0')\n",
            "pred= tensor([0, 1, 0, 0, 1, 1, 1, 0], device='cuda:0') ground_truth= tensor([0, 1, 0, 0, 1, 1, 1, 0], device='cuda:0')\n",
            "pred= tensor([1, 1, 0, 1, 0, 0, 0, 0], device='cuda:0') ground_truth= tensor([1, 1, 0, 1, 0, 0, 0, 0], device='cuda:0')\n",
            "pred= tensor([1, 1, 1, 1, 1, 0, 0, 0], device='cuda:0') ground_truth= tensor([1, 1, 1, 1, 1, 0, 1, 0], device='cuda:0')\n",
            "pred= tensor([1, 1, 1, 0, 0, 0, 0, 1], device='cuda:0') ground_truth= tensor([1, 1, 1, 0, 0, 0, 0, 1], device='cuda:0')\n",
            "pred= tensor([1, 0, 0, 0, 0, 1, 1, 1], device='cuda:0') ground_truth= tensor([1, 0, 0, 0, 0, 1, 1, 1], device='cuda:0')\n",
            "pred= tensor([0, 1, 1, 1, 1, 1, 0, 0], device='cuda:0') ground_truth= tensor([0, 1, 1, 0, 1, 1, 0, 0], device='cuda:0')\n",
            "pred= tensor([0, 1, 1, 0, 1, 0, 1, 1], device='cuda:0') ground_truth= tensor([0, 1, 1, 0, 1, 0, 1, 1], device='cuda:0')\n",
            "pred= tensor([1, 1, 1, 1, 1, 1, 0, 1], device='cuda:0') ground_truth= tensor([1, 1, 1, 1, 1, 1, 0, 1], device='cuda:0')\n",
            "pred= tensor([1, 1, 0, 1, 1, 1, 1, 1], device='cuda:0') ground_truth= tensor([1, 1, 0, 0, 1, 1, 1, 1], device='cuda:0')\n",
            "pred= tensor([0, 0, 1, 1, 1, 1, 0, 0], device='cuda:0') ground_truth= tensor([0, 0, 1, 1, 1, 1, 1, 0], device='cuda:0')\n",
            "pred= tensor([1, 0, 0, 0, 1, 0, 0, 0], device='cuda:0') ground_truth= tensor([1, 0, 0, 0, 1, 0, 0, 0], device='cuda:0')\n",
            "pred= tensor([0, 1, 0, 1, 0, 1, 1, 1], device='cuda:0') ground_truth= tensor([0, 1, 0, 1, 0, 1, 1, 1], device='cuda:0')\n",
            "pred= tensor([1, 1, 1, 0, 1, 1, 1, 1], device='cuda:0') ground_truth= tensor([1, 1, 1, 0, 1, 1, 1, 1], device='cuda:0')\n",
            "pred= tensor([0, 1, 1, 0, 0, 1, 1, 0], device='cuda:0') ground_truth= tensor([0, 1, 1, 0, 0, 1, 1, 0], device='cuda:0')\n",
            "pred= tensor([0, 1, 1, 0, 0, 1, 1, 0], device='cuda:0') ground_truth= tensor([0, 1, 1, 0, 0, 1, 1, 0], device='cuda:0')\n",
            "pred= tensor([1, 1, 0, 0, 1, 1, 0, 0], device='cuda:0') ground_truth= tensor([1, 1, 0, 0, 1, 1, 0, 0], device='cuda:0')\n",
            "pred= tensor([0, 1, 1, 1, 1, 0, 1, 0], device='cuda:0') ground_truth= tensor([0, 1, 1, 1, 1, 0, 1, 0], device='cuda:0')\n",
            "pred= tensor([0, 1, 1, 1, 1, 0, 0, 1], device='cuda:0') ground_truth= tensor([0, 1, 1, 1, 1, 0, 0, 1], device='cuda:0')\n",
            "pred= tensor([0, 0, 1, 0, 1, 1, 0, 1], device='cuda:0') ground_truth= tensor([0, 0, 1, 0, 0, 1, 0, 1], device='cuda:0')\n",
            "pred= tensor([1, 0, 1, 0, 0, 1, 1, 1], device='cuda:0') ground_truth= tensor([1, 0, 1, 0, 0, 1, 1, 1], device='cuda:0')\n",
            "pred= tensor([0, 0, 0, 0, 1, 1, 1, 1], device='cuda:0') ground_truth= tensor([0, 0, 0, 0, 1, 1, 1, 1], device='cuda:0')\n",
            "pred= tensor([0, 1, 0, 1, 0, 1, 1, 0], device='cuda:0') ground_truth= tensor([0, 1, 0, 1, 0, 1, 1, 0], device='cuda:0')\n",
            "pred= tensor([1, 1, 1, 1, 0, 0, 1, 1], device='cuda:0') ground_truth= tensor([1, 1, 1, 1, 0, 0, 1, 1], device='cuda:0')\n",
            "pred= tensor([0, 1, 1, 0, 0, 0, 0, 0], device='cuda:0') ground_truth= tensor([0, 1, 1, 0, 0, 0, 0, 0], device='cuda:0')\n",
            "pred= tensor([1, 1, 1, 1, 0, 0, 1, 1], device='cuda:0') ground_truth= tensor([1, 1, 1, 1, 0, 0, 1, 1], device='cuda:0')\n",
            "pred= tensor([1, 1, 1, 1, 0, 1, 1, 0], device='cuda:0') ground_truth= tensor([1, 1, 1, 1, 0, 1, 1, 0], device='cuda:0')\n",
            "pred= tensor([0, 1, 1, 1, 1, 0, 1, 1], device='cuda:0') ground_truth= tensor([0, 0, 1, 1, 1, 0, 1, 1], device='cuda:0')\n",
            "pred= tensor([0, 1, 0, 1, 0, 1, 0, 0], device='cuda:0') ground_truth= tensor([0, 1, 0, 1, 0, 1, 0, 0], device='cuda:0')\n",
            "pred= tensor([0, 1, 0, 0, 1, 0, 1, 0], device='cuda:0') ground_truth= tensor([0, 1, 0, 0, 1, 0, 1, 0], device='cuda:0')\n",
            "pred= tensor([1, 0, 1, 1, 1, 1, 1, 1], device='cuda:0') ground_truth= tensor([1, 0, 0, 1, 1, 1, 1, 1], device='cuda:0')\n",
            "pred= tensor([1, 1, 0, 0, 0, 0, 0, 1], device='cuda:0') ground_truth= tensor([1, 1, 0, 0, 0, 0, 0, 1], device='cuda:0')\n",
            "pred= tensor([1, 1, 0, 0, 1, 0, 0, 1], device='cuda:0') ground_truth= tensor([1, 1, 0, 0, 1, 0, 0, 1], device='cuda:0')\n",
            "pred= tensor([1, 0, 1, 1, 0, 0, 1, 1], device='cuda:0') ground_truth= tensor([1, 0, 1, 1, 0, 0, 1, 1], device='cuda:0')\n",
            "pred= tensor([1, 1, 0, 0, 1, 1, 1, 0], device='cuda:0') ground_truth= tensor([1, 1, 0, 0, 1, 1, 1, 0], device='cuda:0')\n",
            "pred= tensor([1, 0, 1, 0, 0, 1, 0, 1], device='cuda:0') ground_truth= tensor([1, 0, 1, 0, 0, 1, 0, 1], device='cuda:0')\n",
            "pred= tensor([1, 0, 0, 0, 1, 1, 0, 1], device='cuda:0') ground_truth= tensor([1, 0, 0, 0, 1, 1, 0, 1], device='cuda:0')\n",
            "pred= tensor([1, 1, 0, 0, 0, 0, 1, 1], device='cuda:0') ground_truth= tensor([1, 1, 0, 0, 0, 0, 1, 0], device='cuda:0')\n",
            "pred= tensor([0, 1, 1, 1, 0, 1, 1, 1], device='cuda:0') ground_truth= tensor([0, 1, 1, 1, 0, 1, 1, 1], device='cuda:0')\n",
            "pred= tensor([0, 0, 0, 1, 0, 1, 1, 1], device='cuda:0') ground_truth= tensor([0, 0, 0, 0, 0, 1, 1, 1], device='cuda:0')\n",
            "pred= tensor([1, 0, 0, 1, 0, 0, 1, 1], device='cuda:0') ground_truth= tensor([1, 1, 0, 1, 0, 0, 1, 1], device='cuda:0')\n",
            "pred= tensor([0, 1, 0, 1, 1, 1, 1, 0], device='cuda:0') ground_truth= tensor([0, 1, 0, 1, 1, 1, 1, 0], device='cuda:0')\n",
            "pred= tensor([0, 1, 0, 0, 0, 1, 0, 1], device='cuda:0') ground_truth= tensor([0, 1, 0, 0, 0, 1, 0, 1], device='cuda:0')\n",
            "pred= tensor([0, 1, 0, 1, 0, 1, 1, 1], device='cuda:0') ground_truth= tensor([0, 1, 0, 1, 0, 1, 1, 1], device='cuda:0')\n",
            "pred= tensor([0, 0, 0, 1, 1, 1, 1, 1], device='cuda:0') ground_truth= tensor([0, 0, 0, 1, 1, 1, 1, 1], device='cuda:0')\n",
            "pred= tensor([1, 0, 0, 1, 0, 0, 1, 0], device='cuda:0') ground_truth= tensor([1, 1, 0, 1, 0, 0, 1, 0], device='cuda:0')\n",
            "pred= tensor([1, 1, 0, 0, 1, 0, 1, 1], device='cuda:0') ground_truth= tensor([1, 1, 0, 0, 1, 0, 1, 1], device='cuda:0')\n",
            "pred= tensor([1, 0, 1, 1, 0, 0, 0, 0], device='cuda:0') ground_truth= tensor([1, 0, 1, 1, 0, 0, 0, 0], device='cuda:0')\n",
            "pred= tensor([0, 0, 0, 0, 1, 0, 1, 1], device='cuda:0') ground_truth= tensor([0, 0, 0, 0, 1, 0, 1, 1], device='cuda:0')\n",
            "pred= tensor([1, 1, 0, 1, 0, 1, 0, 0], device='cuda:0') ground_truth= tensor([1, 0, 0, 1, 0, 1, 0, 0], device='cuda:0')\n",
            "pred= tensor([1, 1, 1, 0, 1, 1, 0, 0], device='cuda:0') ground_truth= tensor([1, 1, 1, 0, 0, 1, 0, 0], device='cuda:0')\n",
            "pred= tensor([0, 1, 1, 1, 1, 0, 1, 0], device='cuda:0') ground_truth= tensor([0, 1, 1, 1, 1, 0, 1, 0], device='cuda:0')\n",
            "pred= tensor([0, 0, 1, 1, 0, 1, 0, 0], device='cuda:0') ground_truth= tensor([0, 0, 1, 1, 0, 1, 0, 0], device='cuda:0')\n",
            "pred= tensor([1, 0, 1, 1, 1, 1, 1, 0], device='cuda:0') ground_truth= tensor([1, 0, 1, 1, 1, 1, 1, 0], device='cuda:0')\n",
            "pred= tensor([1, 1, 1, 0, 1, 0, 0, 1], device='cuda:0') ground_truth= tensor([1, 1, 1, 0, 1, 0, 0, 1], device='cuda:0')\n",
            "pred= tensor([1, 1, 1, 1, 1, 0, 1, 0], device='cuda:0') ground_truth= tensor([1, 1, 1, 1, 1, 0, 0, 0], device='cuda:0')\n",
            "pred= tensor([1, 1, 0, 1, 1, 1, 0, 0], device='cuda:0') ground_truth= tensor([1, 1, 0, 1, 1, 1, 0, 0], device='cuda:0')\n",
            "pred= tensor([0, 1, 1, 1, 0, 0, 0, 1], device='cuda:0') ground_truth= tensor([0, 1, 1, 1, 0, 0, 0, 1], device='cuda:0')\n",
            "pred= tensor([0, 0, 1, 1, 1, 1, 1, 0], device='cuda:0') ground_truth= tensor([0, 1, 1, 0, 1, 1, 1, 0], device='cuda:0')\n",
            "pred= tensor([1, 1, 0, 1, 1, 1, 0, 1], device='cuda:0') ground_truth= tensor([1, 0, 0, 1, 1, 1, 0, 1], device='cuda:0')\n",
            "pred= tensor([1, 0, 1, 1, 1, 1, 1, 0], device='cuda:0') ground_truth= tensor([1, 0, 1, 1, 1, 1, 1, 0], device='cuda:0')\n",
            "pred= tensor([1, 0, 1, 1, 0, 1, 1, 1], device='cuda:0') ground_truth= tensor([1, 0, 1, 0, 0, 1, 1, 1], device='cuda:0')\n",
            "pred= tensor([1, 1, 1, 1, 1, 1, 1, 1], device='cuda:0') ground_truth= tensor([1, 1, 1, 1, 1, 0, 1, 1], device='cuda:0')\n",
            "pred= tensor([0, 1, 1, 1, 1, 1, 0, 1], device='cuda:0') ground_truth= tensor([1, 1, 1, 1, 1, 1, 0, 1], device='cuda:0')\n",
            "pred= tensor([1, 0, 1, 0, 1, 1, 1, 1], device='cuda:0') ground_truth= tensor([1, 0, 1, 0, 1, 1, 1, 1], device='cuda:0')\n",
            "pred= tensor([0, 1, 1, 1, 1, 1, 0, 0], device='cuda:0') ground_truth= tensor([0, 1, 1, 1, 1, 1, 0, 0], device='cuda:0')\n",
            "pred= tensor([1, 1, 0, 1, 0, 0, 1, 0], device='cuda:0') ground_truth= tensor([1, 1, 0, 1, 0, 0, 1, 0], device='cuda:0')\n",
            "pred= tensor([0, 0, 0, 1, 1, 1, 0, 1], device='cuda:0') ground_truth= tensor([0, 0, 0, 1, 1, 1, 0, 1], device='cuda:0')\n",
            "pred= tensor([1, 1, 0, 0, 1, 0, 0, 0], device='cuda:0') ground_truth= tensor([1, 1, 0, 0, 1, 0, 0, 0], device='cuda:0')\n",
            "pred= tensor([1, 0, 0, 1, 0, 1, 1, 0], device='cuda:0') ground_truth= tensor([1, 0, 0, 1, 0, 1, 1, 0], device='cuda:0')\n",
            "pred= tensor([1, 0, 1, 1, 0, 0, 1, 1], device='cuda:0') ground_truth= tensor([1, 0, 1, 1, 0, 0, 1, 0], device='cuda:0')\n",
            "pred= tensor([1, 1, 1, 1, 1, 0, 0, 1], device='cuda:0') ground_truth= tensor([1, 1, 1, 1, 1, 0, 0, 1], device='cuda:0')\n",
            "pred= tensor([0, 0, 1, 1, 0, 0, 0, 1], device='cuda:0') ground_truth= tensor([0, 0, 1, 1, 0, 0, 0, 1], device='cuda:0')\n",
            "pred= tensor([1, 1, 0, 1, 1, 0, 0, 1], device='cuda:0') ground_truth= tensor([1, 1, 0, 1, 1, 1, 0, 1], device='cuda:0')\n",
            "pred= tensor([1, 1, 1, 1, 1, 1, 0, 0], device='cuda:0') ground_truth= tensor([1, 1, 1, 1, 1, 0, 0, 0], device='cuda:0')\n",
            "pred= tensor([0, 1, 1, 1, 0, 0, 0, 0], device='cuda:0') ground_truth= tensor([0, 1, 1, 1, 0, 0, 0, 0], device='cuda:0')\n",
            "pred= tensor([0, 1, 1, 1, 0, 0, 1, 1], device='cuda:0') ground_truth= tensor([0, 1, 1, 1, 0, 0, 1, 1], device='cuda:0')\n",
            "pred= tensor([1, 0, 1, 1, 1, 1, 1, 0], device='cuda:0') ground_truth= tensor([1, 0, 1, 1, 1, 1, 1, 0], device='cuda:0')\n",
            "pred= tensor([0, 0, 1, 1, 0, 1, 0, 1], device='cuda:0') ground_truth= tensor([0, 0, 1, 1, 0, 1, 0, 1], device='cuda:0')\n",
            "pred= tensor([1, 1, 1, 0, 0, 0, 0, 1], device='cuda:0') ground_truth= tensor([1, 1, 1, 0, 0, 0, 0, 1], device='cuda:0')\n",
            "pred= tensor([1, 1, 0, 0, 0, 1, 1, 1], device='cuda:0') ground_truth= tensor([1, 1, 0, 0, 0, 1, 1, 1], device='cuda:0')\n",
            "pred= tensor([0, 0, 1, 1, 1, 1, 1, 1], device='cuda:0') ground_truth= tensor([0, 0, 1, 1, 1, 0, 1, 1], device='cuda:0')\n",
            "pred= tensor([0, 0, 1, 1, 1, 1, 1, 1], device='cuda:0') ground_truth= tensor([0, 0, 1, 1, 1, 1, 1, 1], device='cuda:0')\n",
            "pred= tensor([1, 1, 1, 0, 0, 1, 1, 0], device='cuda:0') ground_truth= tensor([1, 1, 1, 0, 0, 1, 1, 0], device='cuda:0')\n",
            "pred= tensor([0, 1, 1, 0, 0, 1, 0, 1], device='cuda:0') ground_truth= tensor([0, 1, 0, 0, 0, 0, 0, 1], device='cuda:0')\n",
            "pred= tensor([1, 1, 1, 0, 1, 1, 0, 1], device='cuda:0') ground_truth= tensor([1, 1, 1, 0, 1, 1, 0, 1], device='cuda:0')\n",
            "pred= tensor([1, 1, 0, 0, 1, 1, 1, 1], device='cuda:0') ground_truth= tensor([1, 1, 0, 0, 1, 1, 1, 1], device='cuda:0')\n",
            "pred= tensor([1, 1, 0, 1, 1, 1, 1, 1], device='cuda:0') ground_truth= tensor([1, 1, 0, 1, 1, 1, 1, 1], device='cuda:0')\n",
            "pred= tensor([1, 1, 1, 1, 0, 1, 1, 0], device='cuda:0') ground_truth= tensor([1, 1, 1, 1, 0, 1, 1, 0], device='cuda:0')\n",
            "pred= tensor([1, 0, 1, 0, 1, 0, 1, 1], device='cuda:0') ground_truth= tensor([1, 0, 1, 0, 1, 0, 1, 1], device='cuda:0')\n",
            "pred= tensor([1, 1, 1, 0, 1, 0, 1, 0], device='cuda:0') ground_truth= tensor([1, 1, 1, 0, 1, 0, 1, 0], device='cuda:0')\n",
            "pred= tensor([1, 1, 0, 0, 0, 1, 0, 1], device='cuda:0') ground_truth= tensor([1, 1, 0, 0, 0, 1, 0, 1], device='cuda:0')\n",
            "pred= tensor([1, 1, 0, 0, 1, 0, 0, 0], device='cuda:0') ground_truth= tensor([1, 1, 0, 0, 1, 0, 0, 0], device='cuda:0')\n",
            "pred= tensor([0, 1, 1, 0, 0, 1, 1, 1], device='cuda:0') ground_truth= tensor([0, 1, 1, 0, 0, 1, 1, 1], device='cuda:0')\n",
            "pred= tensor([1, 1, 1, 0, 1, 1, 0, 0], device='cuda:0') ground_truth= tensor([1, 0, 1, 0, 1, 1, 0, 0], device='cuda:0')\n",
            "pred= tensor([0, 1, 1, 0, 0, 1, 0, 1], device='cuda:0') ground_truth= tensor([0, 1, 1, 0, 0, 1, 0, 1], device='cuda:0')\n",
            "pred= tensor([0, 1, 0, 1, 0, 1, 0, 1], device='cuda:0') ground_truth= tensor([0, 1, 0, 1, 0, 1, 0, 1], device='cuda:0')\n",
            "pred= tensor([1, 1, 0, 1, 1, 1, 1, 1], device='cuda:0') ground_truth= tensor([1, 1, 0, 1, 1, 1, 1, 1], device='cuda:0')\n",
            "pred= tensor([1, 0, 1, 1, 0, 0, 1, 0], device='cuda:0') ground_truth= tensor([1, 0, 1, 1, 0, 0, 1, 0], device='cuda:0')\n",
            "pred= tensor([0, 0, 0, 1, 1, 0, 0, 1], device='cuda:0') ground_truth= tensor([0, 0, 0, 1, 1, 0, 0, 0], device='cuda:0')\n",
            "pred= tensor([0, 0, 0, 1, 0, 0, 0, 0], device='cuda:0') ground_truth= tensor([0, 0, 0, 1, 0, 0, 0, 0], device='cuda:0')\n",
            "pred= tensor([1, 0, 1, 0, 1, 1, 1, 1], device='cuda:0') ground_truth= tensor([1, 0, 0, 0, 1, 1, 1, 1], device='cuda:0')\n",
            "pred= tensor([1, 0, 0, 0, 0, 1, 0, 1], device='cuda:0') ground_truth= tensor([1, 0, 0, 0, 0, 1, 0, 1], device='cuda:0')\n",
            "pred= tensor([0, 1, 0, 1, 1, 1, 0, 1], device='cuda:0') ground_truth= tensor([0, 1, 0, 1, 1, 0, 0, 1], device='cuda:0')\n",
            "pred= tensor([1, 0, 1, 0, 0, 1, 1, 0], device='cuda:0') ground_truth= tensor([1, 0, 1, 0, 0, 1, 1, 0], device='cuda:0')\n",
            "pred= tensor([1, 0, 0, 1, 1, 1, 0, 0], device='cuda:0') ground_truth= tensor([1, 0, 0, 1, 1, 1, 0, 0], device='cuda:0')\n",
            "pred= tensor([0, 0, 0, 0, 1, 1, 0, 1], device='cuda:0') ground_truth= tensor([0, 0, 0, 0, 0, 1, 0, 1], device='cuda:0')\n",
            "pred= tensor([1, 1, 1, 0, 0, 0, 1, 0], device='cuda:0') ground_truth= tensor([1, 1, 1, 0, 0, 0, 1, 0], device='cuda:0')\n",
            "pred= tensor([0, 0, 0, 0, 1, 1, 1, 1], device='cuda:0') ground_truth= tensor([0, 0, 0, 0, 1, 1, 1, 1], device='cuda:0')\n",
            "pred= tensor([1, 1, 0, 1, 0, 1, 0, 1], device='cuda:0') ground_truth= tensor([1, 1, 0, 1, 0, 1, 0, 1], device='cuda:0')\n",
            "pred= tensor([0, 1, 1, 1, 1, 1, 1, 0], device='cuda:0') ground_truth= tensor([0, 1, 1, 1, 0, 1, 1, 0], device='cuda:0')\n",
            "pred= tensor([0, 1, 0, 1, 1, 1, 1, 1], device='cuda:0') ground_truth= tensor([0, 1, 0, 1, 1, 1, 1, 1], device='cuda:0')\n",
            "pred= tensor([0, 0, 1, 1, 0, 1, 0, 1], device='cuda:0') ground_truth= tensor([0, 0, 1, 1, 0, 1, 0, 1], device='cuda:0')\n",
            "pred= tensor([1, 0, 0, 0, 0, 1, 1, 1], device='cuda:0') ground_truth= tensor([1, 0, 0, 0, 0, 1, 0, 1], device='cuda:0')\n",
            "pred= tensor([0, 1, 1, 0, 0, 1, 1, 0], device='cuda:0') ground_truth= tensor([0, 1, 1, 0, 0, 1, 1, 0], device='cuda:0')\n",
            "pred= tensor([0, 0, 0, 1, 0, 1, 1, 1], device='cuda:0') ground_truth= tensor([0, 0, 0, 1, 0, 1, 1, 1], device='cuda:0')\n",
            "pred= tensor([1, 0, 0, 0, 1, 0, 1, 1], device='cuda:0') ground_truth= tensor([1, 0, 0, 0, 1, 0, 1, 1], device='cuda:0')\n",
            "pred= tensor([0, 1, 0, 0, 0, 1, 0, 1], device='cuda:0') ground_truth= tensor([0, 1, 0, 0, 0, 1, 0, 1], device='cuda:0')\n",
            "pred= tensor([1, 0, 0, 0, 0, 1, 1, 1], device='cuda:0') ground_truth= tensor([1, 0, 0, 0, 0, 1, 1, 1], device='cuda:0')\n",
            "pred= tensor([1, 1, 1, 0, 0, 1, 1, 1], device='cuda:0') ground_truth= tensor([1, 1, 1, 1, 0, 1, 1, 1], device='cuda:0')\n",
            "pred= tensor([1, 1, 0, 1, 0, 0, 0, 1], device='cuda:0') ground_truth= tensor([1, 1, 0, 1, 0, 0, 0, 1], device='cuda:0')\n",
            "pred= tensor([1, 1, 0, 0, 0, 1, 1, 1], device='cuda:0') ground_truth= tensor([1, 1, 0, 0, 0, 1, 1, 1], device='cuda:0')\n",
            "pred= tensor([0, 0, 1, 0, 1, 0, 0, 0], device='cuda:0') ground_truth= tensor([0, 0, 1, 0, 1, 0, 0, 0], device='cuda:0')\n",
            "pred= tensor([1, 1, 0, 0, 1, 0, 1, 1], device='cuda:0') ground_truth= tensor([1, 1, 0, 0, 1, 0, 1, 1], device='cuda:0')\n",
            "pred= tensor([1, 1, 1, 0, 1, 1, 1, 1], device='cuda:0') ground_truth= tensor([1, 1, 1, 0, 1, 1, 1, 1], device='cuda:0')\n",
            "pred= tensor([1, 0, 1, 1, 1, 1, 1, 0], device='cuda:0') ground_truth= tensor([1, 0, 1, 1, 1, 1, 1, 0], device='cuda:0')\n",
            "pred= tensor([0, 0, 1, 1, 1, 0, 1, 1], device='cuda:0') ground_truth= tensor([0, 0, 1, 1, 1, 0, 1, 1], device='cuda:0')\n",
            "pred= tensor([0, 0, 1, 1, 1, 0, 1, 1], device='cuda:0') ground_truth= tensor([0, 0, 1, 1, 1, 0, 1, 1], device='cuda:0')\n",
            "pred= tensor([0, 0, 1, 1, 1, 0, 1, 1], device='cuda:0') ground_truth= tensor([0, 0, 1, 1, 0, 0, 1, 1], device='cuda:0')\n",
            "pred= tensor([1, 0, 1, 1, 0, 1, 1, 0], device='cuda:0') ground_truth= tensor([1, 0, 1, 1, 0, 1, 1, 0], device='cuda:0')\n",
            "pred= tensor([1, 1, 1, 1, 1, 1, 1, 1], device='cuda:0') ground_truth= tensor([1, 1, 1, 1, 1, 1, 1, 1], device='cuda:0')\n",
            "pred= tensor([1, 1, 1, 0, 1, 0, 1, 1], device='cuda:0') ground_truth= tensor([1, 1, 1, 0, 1, 1, 1, 1], device='cuda:0')\n",
            "pred= tensor([0, 1, 0, 1, 0, 0, 0, 1], device='cuda:0') ground_truth= tensor([0, 1, 1, 1, 0, 0, 0, 1], device='cuda:0')\n",
            "pred= tensor([1, 1, 1, 0, 1, 0, 1, 1], device='cuda:0') ground_truth= tensor([1, 1, 1, 0, 1, 0, 1, 1], device='cuda:0')\n",
            "pred= tensor([1, 1, 0, 0, 1, 1, 1, 1], device='cuda:0') ground_truth= tensor([1, 1, 0, 1, 1, 1, 1, 1], device='cuda:0')\n",
            "pred= tensor([0, 1, 1, 1, 1, 0, 1, 0], device='cuda:0') ground_truth= tensor([0, 1, 1, 1, 1, 0, 1, 0], device='cuda:0')\n",
            "pred= tensor([0, 0, 1, 0, 0, 0, 0, 0], device='cuda:0') ground_truth= tensor([0, 0, 1, 0, 0, 0, 0, 0], device='cuda:0')\n",
            "pred= tensor([1, 0, 1, 0, 0, 1, 1, 0], device='cuda:0') ground_truth= tensor([1, 0, 1, 0, 0, 1, 1, 0], device='cuda:0')\n",
            "pred= tensor([1, 1, 0, 1, 1, 1, 1, 1], device='cuda:0') ground_truth= tensor([1, 1, 0, 1, 1, 1, 1, 1], device='cuda:0')\n",
            "pred= tensor([1, 0, 0, 1, 0, 1, 1, 0], device='cuda:0') ground_truth= tensor([1, 0, 0, 1, 0, 1, 1, 0], device='cuda:0')\n",
            "pred= tensor([1, 1, 0, 0, 1, 0, 1, 1], device='cuda:0') ground_truth= tensor([1, 1, 0, 0, 1, 0, 1, 1], device='cuda:0')\n",
            "pred= tensor([0, 1, 1, 0, 1, 1, 1, 1], device='cuda:0') ground_truth= tensor([0, 1, 1, 0, 1, 1, 1, 1], device='cuda:0')\n",
            "pred= tensor([0, 1, 1, 1, 1, 1, 1, 0], device='cuda:0') ground_truth= tensor([0, 1, 1, 1, 1, 1, 1, 0], device='cuda:0')\n",
            "pred= tensor([1, 0, 1, 1, 0, 1, 0, 1], device='cuda:0') ground_truth= tensor([1, 0, 1, 1, 0, 1, 0, 1], device='cuda:0')\n",
            "pred= tensor([0, 1, 0, 1, 1, 0, 1, 1], device='cuda:0') ground_truth= tensor([0, 1, 0, 1, 1, 0, 1, 1], device='cuda:0')\n",
            "pred= tensor([0, 0, 1, 1, 0, 1, 1, 1], device='cuda:0') ground_truth= tensor([0, 0, 1, 1, 0, 1, 1, 1], device='cuda:0')\n",
            "pred= tensor([0, 1, 1, 1, 0, 0, 0, 0], device='cuda:0') ground_truth= tensor([0, 1, 1, 1, 0, 0, 0, 0], device='cuda:0')\n",
            "pred= tensor([1, 1, 1, 1, 1, 0, 1, 1], device='cuda:0') ground_truth= tensor([1, 1, 1, 0, 1, 0, 1, 1], device='cuda:0')\n",
            "pred= tensor([0, 0, 0, 1, 1, 1, 1, 1], device='cuda:0') ground_truth= tensor([1, 0, 0, 1, 1, 1, 1, 1], device='cuda:0')\n",
            "pred= tensor([0, 0, 1, 0, 1, 0, 1, 0], device='cuda:0') ground_truth= tensor([0, 0, 1, 0, 1, 0, 1, 0], device='cuda:0')\n",
            "pred= tensor([1, 0, 0, 1, 1, 1, 1, 0], device='cuda:0') ground_truth= tensor([1, 0, 0, 1, 1, 1, 1, 0], device='cuda:0')\n",
            "pred= tensor([0, 1, 1, 0, 0, 0, 0, 1], device='cuda:0') ground_truth= tensor([0, 1, 1, 0, 0, 0, 0, 1], device='cuda:0')\n",
            "pred= tensor([1, 1, 1, 0, 0, 0, 1, 0], device='cuda:0') ground_truth= tensor([1, 1, 1, 0, 0, 0, 1, 0], device='cuda:0')\n",
            "pred= tensor([1, 1, 0, 1, 1, 0, 1, 0], device='cuda:0') ground_truth= tensor([0, 1, 1, 1, 1, 0, 1, 0], device='cuda:0')\n",
            "pred= tensor([0, 1, 1, 1, 1, 0, 0, 1], device='cuda:0') ground_truth= tensor([0, 1, 1, 1, 1, 1, 0, 1], device='cuda:0')\n",
            "pred= tensor([1, 1, 1, 0, 0, 1, 1, 1], device='cuda:0') ground_truth= tensor([1, 1, 1, 0, 0, 1, 1, 1], device='cuda:0')\n",
            "pred= tensor([1, 0, 0, 0, 1, 0, 1, 1], device='cuda:0') ground_truth= tensor([1, 0, 0, 0, 1, 0, 1, 1], device='cuda:0')\n",
            "pred= tensor([1, 1, 1, 1, 0, 1, 1, 1], device='cuda:0') ground_truth= tensor([1, 1, 1, 1, 0, 1, 1, 1], device='cuda:0')\n",
            "pred= tensor([1, 0, 0, 1, 1, 1, 1, 0], device='cuda:0') ground_truth= tensor([1, 0, 0, 1, 1, 1, 1, 1], device='cuda:0')\n",
            "pred= tensor([0, 0, 1, 1, 1, 1, 1, 1], device='cuda:0') ground_truth= tensor([1, 0, 1, 1, 1, 1, 1, 1], device='cuda:0')\n",
            "pred= tensor([0, 1, 0, 1, 1, 1, 1, 1], device='cuda:0') ground_truth= tensor([0, 1, 0, 1, 1, 1, 1, 1], device='cuda:0')\n",
            "pred= tensor([1, 1, 0, 0, 1, 1, 0, 1], device='cuda:0') ground_truth= tensor([1, 1, 0, 0, 1, 1, 0, 1], device='cuda:0')\n",
            "pred= tensor([1, 1, 0, 1, 0, 0, 0, 0], device='cuda:0') ground_truth= tensor([1, 1, 0, 1, 0, 0, 0, 0], device='cuda:0')\n",
            "pred= tensor([0, 1, 1, 1, 0, 1, 0, 0], device='cuda:0') ground_truth= tensor([0, 1, 1, 1, 0, 1, 0, 0], device='cuda:0')\n",
            "pred= tensor([0, 0, 1, 1, 1, 1, 0, 1], device='cuda:0') ground_truth= tensor([0, 0, 1, 1, 1, 1, 1, 1], device='cuda:0')\n",
            "pred= tensor([1, 1, 1, 1, 1, 0, 0, 0], device='cuda:0') ground_truth= tensor([1, 1, 1, 1, 1, 0, 0, 0], device='cuda:0')\n",
            "pred= tensor([0, 0, 0, 0, 1, 1, 1, 1], device='cuda:0') ground_truth= tensor([0, 0, 0, 0, 1, 1, 1, 1], device='cuda:0')\n",
            "pred= tensor([1, 0, 1, 0, 1, 1, 1, 1], device='cuda:0') ground_truth= tensor([1, 0, 1, 0, 1, 1, 1, 1], device='cuda:0')\n",
            "pred= tensor([1, 0, 1, 1, 0, 1, 1, 0], device='cuda:0') ground_truth= tensor([1, 0, 1, 1, 0, 1, 1, 0], device='cuda:0')\n",
            "pred= tensor([0, 1, 1, 1, 1, 0, 0, 1], device='cuda:0') ground_truth= tensor([0, 1, 0, 1, 1, 0, 0, 1], device='cuda:0')\n",
            "pred= tensor([0, 0, 0, 1, 0, 1, 0, 0], device='cuda:0') ground_truth= tensor([0, 0, 1, 1, 0, 1, 0, 0], device='cuda:0')\n",
            "pred= tensor([1, 1, 1, 0, 1, 1, 0, 1], device='cuda:0') ground_truth= tensor([1, 1, 1, 0, 1, 1, 0, 1], device='cuda:0')\n",
            "pred= tensor([0, 0, 0, 1, 1, 0, 0, 1], device='cuda:0') ground_truth= tensor([0, 0, 0, 1, 1, 0, 0, 1], device='cuda:0')\n",
            "pred= tensor([1, 0, 1, 1, 1, 1, 0, 0], device='cuda:0') ground_truth= tensor([1, 0, 1, 1, 1, 1, 0, 0], device='cuda:0')\n",
            "pred= tensor([1, 0, 1, 0, 0, 0, 0, 1], device='cuda:0') ground_truth= tensor([1, 0, 1, 0, 0, 0, 0, 1], device='cuda:0')\n",
            "pred= tensor([1, 1, 1, 1, 1, 1, 1, 0], device='cuda:0') ground_truth= tensor([1, 1, 1, 1, 1, 1, 1, 0], device='cuda:0')\n",
            "pred= tensor([1, 1, 1, 0, 1, 1, 0, 1], device='cuda:0') ground_truth= tensor([1, 1, 1, 0, 1, 1, 0, 1], device='cuda:0')\n",
            "pred= tensor([0, 1, 0, 0, 0, 1, 1, 1], device='cuda:0') ground_truth= tensor([0, 1, 0, 0, 0, 1, 0, 1], device='cuda:0')\n",
            "pred= tensor([1, 1, 1, 0, 1, 0, 1, 0], device='cuda:0') ground_truth= tensor([1, 1, 1, 0, 1, 0, 1, 0], device='cuda:0')\n",
            "pred= tensor([0, 1, 0, 0, 0, 0, 0, 1], device='cuda:0') ground_truth= tensor([0, 1, 0, 0, 0, 0, 0, 1], device='cuda:0')\n",
            "pred= tensor([0, 0, 1, 0, 1, 0, 0, 1], device='cuda:0') ground_truth= tensor([0, 0, 1, 0, 1, 0, 0, 1], device='cuda:0')\n",
            "pred= tensor([0, 1, 1, 1, 1, 1, 0, 1], device='cuda:0') ground_truth= tensor([0, 1, 1, 1, 1, 1, 0, 1], device='cuda:0')\n",
            "pred= tensor([1, 0, 0, 0, 1, 0, 1, 1], device='cuda:0') ground_truth= tensor([1, 0, 0, 0, 1, 0, 1, 0], device='cuda:0')\n",
            "pred= tensor([1, 1, 1, 0, 1, 1, 0, 1], device='cuda:0') ground_truth= tensor([1, 1, 1, 0, 1, 1, 0, 1], device='cuda:0')\n",
            "pred= tensor([0, 0, 1, 0, 1, 1, 1, 0], device='cuda:0') ground_truth= tensor([0, 0, 0, 0, 1, 1, 1, 0], device='cuda:0')\n",
            "pred= tensor([1, 0, 0, 0, 1, 1, 0, 1], device='cuda:0') ground_truth= tensor([1, 0, 0, 0, 1, 1, 0, 1], device='cuda:0')\n",
            "pred= tensor([1, 0, 0, 1, 1, 0, 0, 0], device='cuda:0') ground_truth= tensor([0, 0, 0, 1, 1, 0, 0, 0], device='cuda:0')\n",
            "pred= tensor([1, 1, 1, 0, 1, 1, 0, 0], device='cuda:0') ground_truth= tensor([1, 1, 1, 0, 1, 1, 0, 0], device='cuda:0')\n",
            "pred= tensor([0, 0, 1, 1, 0, 1, 0, 1], device='cuda:0') ground_truth= tensor([0, 0, 1, 1, 0, 1, 0, 1], device='cuda:0')\n",
            "pred= tensor([0, 1, 1, 1, 1, 0, 1, 1], device='cuda:0') ground_truth= tensor([1, 1, 1, 1, 1, 0, 1, 1], device='cuda:0')\n",
            "pred= tensor([0, 1, 0, 0, 1, 1, 1, 0], device='cuda:0') ground_truth= tensor([0, 1, 0, 0, 1, 1, 1, 0], device='cuda:0')\n",
            "pred= tensor([0, 0, 1, 1, 0, 1, 1, 1], device='cuda:0') ground_truth= tensor([0, 0, 1, 1, 0, 1, 1, 1], device='cuda:0')\n",
            "pred= tensor([1, 1, 1, 1, 0, 1, 1, 0], device='cuda:0') ground_truth= tensor([1, 1, 1, 1, 0, 1, 1, 0], device='cuda:0')\n",
            "pred= tensor([1, 0, 0, 0, 1, 1, 1, 0], device='cuda:0') ground_truth= tensor([1, 0, 0, 0, 1, 1, 1, 0], device='cuda:0')\n",
            "pred= tensor([0, 1, 1, 1, 1, 0, 1, 0], device='cuda:0') ground_truth= tensor([0, 0, 1, 1, 1, 0, 1, 0], device='cuda:0')\n",
            "pred= tensor([1, 1, 0, 1, 1, 1, 0, 0], device='cuda:0') ground_truth= tensor([1, 1, 0, 1, 1, 1, 0, 0], device='cuda:0')\n",
            "pred= tensor([1, 0, 1, 1, 1, 1, 1, 1], device='cuda:0') ground_truth= tensor([1, 0, 1, 1, 1, 1, 1, 1], device='cuda:0')\n",
            "pred= tensor([0, 1, 1, 1, 0, 0, 1, 1], device='cuda:0') ground_truth= tensor([0, 1, 0, 1, 1, 0, 1, 1], device='cuda:0')\n",
            "pred= tensor([0, 0, 0, 1, 1, 0, 0, 0], device='cuda:0') ground_truth= tensor([0, 0, 0, 1, 1, 0, 0, 0], device='cuda:0')\n",
            "pred= tensor([1, 0, 0, 1, 0, 1, 0, 0], device='cuda:0') ground_truth= tensor([1, 0, 0, 1, 0, 1, 0, 0], device='cuda:0')\n",
            "pred= tensor([1, 1, 0, 1, 1, 1, 0, 0], device='cuda:0') ground_truth= tensor([1, 1, 0, 1, 1, 1, 0, 0], device='cuda:0')\n",
            "pred= tensor([0, 0, 0, 1, 0, 1, 0, 1], device='cuda:0') ground_truth= tensor([0, 0, 0, 1, 0, 1, 0, 1], device='cuda:0')\n",
            "pred= tensor([0, 1, 1, 1, 0, 1, 1, 1], device='cuda:0') ground_truth= tensor([0, 1, 1, 1, 0, 1, 1, 1], device='cuda:0')\n",
            "pred= tensor([0, 0, 0, 1, 1, 1, 1, 1], device='cuda:0') ground_truth= tensor([0, 0, 1, 1, 1, 1, 1, 1], device='cuda:0')\n",
            "pred= tensor([1, 0, 1, 1, 0, 1, 0, 0], device='cuda:0') ground_truth= tensor([1, 0, 1, 1, 0, 1, 0, 1], device='cuda:0')\n",
            "pred= tensor([0, 0, 0, 1, 1, 1, 1, 1], device='cuda:0') ground_truth= tensor([0, 0, 0, 1, 1, 1, 1, 1], device='cuda:0')\n",
            "pred= tensor([1, 1, 1, 1, 0, 0, 0, 1], device='cuda:0') ground_truth= tensor([1, 1, 1, 1, 0, 0, 0, 1], device='cuda:0')\n",
            "pred= tensor([0, 0, 1, 1, 0, 1, 1, 0], device='cuda:0') ground_truth= tensor([0, 0, 1, 1, 0, 1, 1, 0], device='cuda:0')\n",
            "pred= tensor([1, 0, 1, 1, 1, 1, 1, 1], device='cuda:0') ground_truth= tensor([1, 0, 1, 1, 1, 1, 1, 1], device='cuda:0')\n",
            "pred= tensor([0, 1, 0, 1, 1, 0, 1, 1], device='cuda:0') ground_truth= tensor([0, 0, 0, 1, 1, 0, 1, 1], device='cuda:0')\n",
            "pred= tensor([1, 0, 0, 0, 1, 1, 0, 1], device='cuda:0') ground_truth= tensor([1, 0, 0, 0, 1, 1, 0, 1], device='cuda:0')\n",
            "pred= tensor([1, 0, 1, 1, 1, 1, 1, 1], device='cuda:0') ground_truth= tensor([1, 0, 1, 1, 1, 1, 1, 1], device='cuda:0')\n",
            "pred= tensor([1, 1, 0, 0, 1, 0, 1, 1], device='cuda:0') ground_truth= tensor([1, 1, 1, 0, 1, 0, 1, 1], device='cuda:0')\n",
            "pred= tensor([0, 1, 1, 1, 1, 1, 1, 1], device='cuda:0') ground_truth= tensor([0, 1, 1, 1, 1, 1, 1, 1], device='cuda:0')\n",
            "pred= tensor([1, 0, 1, 1, 0, 1, 0, 0], device='cuda:0') ground_truth= tensor([1, 0, 1, 1, 0, 1, 0, 0], device='cuda:0')\n",
            "pred= tensor([0, 0, 1, 1, 1, 0, 0, 1], device='cuda:0') ground_truth= tensor([0, 0, 1, 1, 1, 0, 0, 1], device='cuda:0')\n",
            "pred= tensor([1, 1, 1, 1, 0, 1, 1, 1], device='cuda:0') ground_truth= tensor([1, 1, 1, 1, 0, 1, 1, 1], device='cuda:0')\n",
            "pred= tensor([0, 1, 0, 1, 0, 0, 1, 1], device='cuda:0') ground_truth= tensor([0, 1, 0, 1, 0, 0, 1, 1], device='cuda:0')\n",
            "pred= tensor([0, 0, 1, 1, 1, 0, 1, 0], device='cuda:0') ground_truth= tensor([0, 1, 1, 1, 1, 0, 1, 0], device='cuda:0')\n",
            "pred= tensor([1, 1, 0, 1, 1, 1, 0, 0], device='cuda:0') ground_truth= tensor([1, 1, 0, 1, 1, 1, 0, 0], device='cuda:0')\n",
            "pred= tensor([1, 0, 1, 0, 0, 1, 1, 0], device='cuda:0') ground_truth= tensor([1, 0, 1, 0, 0, 1, 1, 0], device='cuda:0')\n",
            "pred= tensor([1, 1, 1, 1, 1, 1, 1, 1], device='cuda:0') ground_truth= tensor([1, 1, 1, 0, 1, 1, 1, 1], device='cuda:0')\n",
            "pred= tensor([1, 0, 1, 1, 1, 1, 0, 1], device='cuda:0') ground_truth= tensor([1, 0, 1, 1, 1, 1, 0, 1], device='cuda:0')\n",
            "pred= tensor([1, 1, 0, 0, 1, 0, 1, 0], device='cuda:0') ground_truth= tensor([1, 1, 0, 0, 0, 0, 1, 0], device='cuda:0')\n",
            "pred= tensor([0, 1, 1, 0, 1, 0, 1, 1], device='cuda:0') ground_truth= tensor([0, 1, 1, 0, 1, 0, 1, 1], device='cuda:0')\n",
            "pred= tensor([0, 0, 1, 1, 1, 1, 1, 1], device='cuda:0') ground_truth= tensor([0, 0, 1, 0, 1, 1, 1, 1], device='cuda:0')\n",
            "pred= tensor([0, 1, 0, 1, 1, 1, 1, 0], device='cuda:0') ground_truth= tensor([0, 1, 0, 1, 1, 1, 1, 0], device='cuda:0')\n",
            "pred= tensor([1, 0, 1, 0, 1, 0, 1, 1], device='cuda:0') ground_truth= tensor([1, 0, 1, 0, 1, 0, 1, 1], device='cuda:0')\n",
            "pred= tensor([1, 0, 1, 0, 1, 1, 1, 0], device='cuda:0') ground_truth= tensor([1, 0, 1, 0, 1, 1, 1, 0], device='cuda:0')\n",
            "pred= tensor([0, 1, 1, 0, 0, 1, 1, 1], device='cuda:0') ground_truth= tensor([0, 1, 1, 0, 0, 1, 0, 1], device='cuda:0')\n",
            "pred= tensor([0, 1, 1, 1, 1, 0, 1, 1], device='cuda:0') ground_truth= tensor([0, 1, 1, 1, 1, 0, 1, 1], device='cuda:0')\n",
            "pred= tensor([1, 1, 0, 1, 0, 1, 0, 0], device='cuda:0') ground_truth= tensor([1, 1, 0, 1, 0, 1, 0, 0], device='cuda:0')\n",
            "pred= tensor([1, 0, 1, 0, 1, 1, 1, 1], device='cuda:0') ground_truth= tensor([1, 0, 1, 1, 1, 1, 1, 1], device='cuda:0')\n",
            "pred= tensor([1, 0, 1, 0, 1, 1, 1, 1], device='cuda:0') ground_truth= tensor([1, 0, 1, 0, 1, 1, 1, 1], device='cuda:0')\n",
            "pred= tensor([1, 0, 1, 1, 1, 1, 0, 1], device='cuda:0') ground_truth= tensor([1, 0, 1, 1, 1, 1, 1, 1], device='cuda:0')\n",
            "pred= tensor([1, 0, 1, 0, 1, 1, 0], device='cuda:0') ground_truth= tensor([1, 0, 1, 0, 1, 1, 0], device='cuda:0')\n"
          ]
        },
        {
          "data": {
            "text/plain": [
              "{'accuracy': 0.9644924739482825}"
            ]
          },
          "execution_count": 32,
          "metadata": {},
          "output_type": "execute_result"
        }
      ],
      "source": [
        "metric = evaluate.load(\"accuracy\")\n",
        "model.eval()\n",
        "for batch in eval_dataloader:\n",
        "    batch = {k: v.to(device) for k, v in batch.items()}\n",
        "    with torch.no_grad():\n",
        "        outputs = model(**batch)\n",
        "\n",
        "    logits = outputs.logits\n",
        "    predictions = torch.argmax(logits, dim=-1)\n",
        "    metric.add_batch(predictions=predictions, references=batch[\"labels\"])\n",
        "    print(\"pred=\",predictions,\"ground_truth=\",batch[\"labels\"])\n",
        "\n",
        "metric.compute()"
      ]
    },
    {
      "cell_type": "markdown",
      "metadata": {
        "id": "4VNBRsg_6VxX"
      },
      "source": [
        "Evaluation on \"test_dataloader\" with accuracy metric"
      ]
    },
    {
      "cell_type": "code",
      "execution_count": null,
      "metadata": {
        "id": "U4x82hRH6VxX",
        "outputId": "16366967-d658-4604-c0d6-00eccee2493b"
      },
      "outputs": [
        {
          "name": "stdout",
          "output_type": "stream",
          "text": [
            "pred= tensor([1, 1, 1, 0, 0, 0, 1, 1], device='cuda:0') ground_truth= tensor([1, 1, 1, 0, 0, 0, 1, 1], device='cuda:0')\n",
            "pred= tensor([1, 0, 1, 1, 1, 1, 1, 0], device='cuda:0') ground_truth= tensor([1, 1, 1, 1, 1, 0, 0, 0], device='cuda:0')\n",
            "pred= tensor([1, 1, 1, 0, 1, 0, 0, 1], device='cuda:0') ground_truth= tensor([1, 1, 1, 0, 1, 0, 0, 1], device='cuda:0')\n",
            "pred= tensor([0, 1, 1, 0, 1, 1, 0, 0], device='cuda:0') ground_truth= tensor([0, 0, 1, 0, 1, 1, 0, 0], device='cuda:0')\n",
            "pred= tensor([0, 1, 1, 0, 0, 1, 0, 0], device='cuda:0') ground_truth= tensor([0, 1, 1, 0, 0, 1, 0, 0], device='cuda:0')\n",
            "pred= tensor([0, 0, 0, 0, 1, 0, 1, 1], device='cuda:0') ground_truth= tensor([0, 0, 0, 0, 1, 0, 1, 1], device='cuda:0')\n",
            "pred= tensor([1, 0, 1, 1, 1, 0, 1, 1], device='cuda:0') ground_truth= tensor([1, 0, 1, 1, 1, 0, 1, 1], device='cuda:0')\n",
            "pred= tensor([1, 0, 0, 1, 1, 0, 1, 1], device='cuda:0') ground_truth= tensor([1, 0, 0, 1, 1, 0, 1, 1], device='cuda:0')\n",
            "pred= tensor([1, 1, 0, 1, 0, 0, 0, 1], device='cuda:0') ground_truth= tensor([1, 1, 0, 1, 0, 0, 0, 1], device='cuda:0')\n",
            "pred= tensor([0, 1, 0, 1, 1, 0, 1, 1], device='cuda:0') ground_truth= tensor([0, 1, 0, 1, 1, 0, 1, 1], device='cuda:0')\n",
            "pred= tensor([0, 1, 1, 0, 1, 1, 1, 1], device='cuda:0') ground_truth= tensor([0, 1, 0, 0, 0, 1, 1, 1], device='cuda:0')\n",
            "pred= tensor([1, 1, 0, 0, 0, 1, 1, 0], device='cuda:0') ground_truth= tensor([1, 1, 0, 0, 0, 1, 1, 0], device='cuda:0')\n",
            "pred= tensor([1, 0, 1, 1, 1, 1, 1, 0], device='cuda:0') ground_truth= tensor([1, 0, 1, 1, 1, 1, 1, 0], device='cuda:0')\n",
            "pred= tensor([0, 1, 0, 1, 0, 0, 0, 1], device='cuda:0') ground_truth= tensor([1, 1, 0, 1, 0, 0, 0, 1], device='cuda:0')\n",
            "pred= tensor([0, 1, 1, 1, 0, 1, 1, 1], device='cuda:0') ground_truth= tensor([0, 1, 1, 1, 0, 1, 1, 1], device='cuda:0')\n",
            "pred= tensor([0, 1, 1, 0, 0, 0, 0, 0], device='cuda:0') ground_truth= tensor([0, 1, 1, 0, 0, 0, 0, 0], device='cuda:0')\n",
            "pred= tensor([0, 1, 0, 0, 0, 0, 0, 1], device='cuda:0') ground_truth= tensor([0, 1, 0, 0, 0, 0, 0, 1], device='cuda:0')\n",
            "pred= tensor([1, 0, 0, 0, 1, 0, 1, 0], device='cuda:0') ground_truth= tensor([1, 0, 0, 0, 1, 1, 1, 0], device='cuda:0')\n",
            "pred= tensor([0, 1, 1, 1, 1, 1, 1, 0], device='cuda:0') ground_truth= tensor([0, 1, 0, 1, 1, 1, 1, 0], device='cuda:0')\n",
            "pred= tensor([0, 1, 0, 1, 0, 1, 0, 0], device='cuda:0') ground_truth= tensor([0, 1, 0, 1, 0, 1, 0, 0], device='cuda:0')\n",
            "pred= tensor([1, 1, 1, 0, 0, 0, 1, 0], device='cuda:0') ground_truth= tensor([1, 1, 0, 0, 0, 0, 1, 0], device='cuda:0')\n",
            "pred= tensor([1, 0, 0, 1, 1, 1, 0, 0], device='cuda:0') ground_truth= tensor([1, 0, 0, 1, 1, 1, 0, 0], device='cuda:0')\n",
            "pred= tensor([1, 1, 1, 0, 1, 0, 1, 1], device='cuda:0') ground_truth= tensor([1, 1, 1, 0, 1, 0, 1, 1], device='cuda:0')\n",
            "pred= tensor([1, 1, 1, 0, 0, 0, 1, 1], device='cuda:0') ground_truth= tensor([1, 1, 1, 0, 0, 0, 1, 1], device='cuda:0')\n",
            "pred= tensor([0, 1, 0, 0, 0, 0, 1, 0], device='cuda:0') ground_truth= tensor([0, 1, 0, 0, 0, 0, 1, 0], device='cuda:0')\n",
            "pred= tensor([1, 1, 0, 1, 1, 1, 1, 0], device='cuda:0') ground_truth= tensor([1, 1, 0, 1, 1, 1, 1, 0], device='cuda:0')\n",
            "pred= tensor([1, 1, 1, 1, 1, 1, 1, 0], device='cuda:0') ground_truth= tensor([1, 1, 1, 1, 1, 1, 1, 0], device='cuda:0')\n",
            "pred= tensor([1, 1, 1, 1, 0, 0, 1, 0], device='cuda:0') ground_truth= tensor([1, 1, 1, 1, 0, 0, 1, 0], device='cuda:0')\n",
            "pred= tensor([1, 1, 1, 0, 0, 1, 1, 1], device='cuda:0') ground_truth= tensor([1, 1, 1, 0, 0, 1, 1, 1], device='cuda:0')\n",
            "pred= tensor([0, 1, 1, 1, 1, 1, 1, 1], device='cuda:0') ground_truth= tensor([0, 1, 1, 1, 1, 1, 1, 1], device='cuda:0')\n",
            "pred= tensor([1, 0, 0, 0, 0, 1, 1, 1], device='cuda:0') ground_truth= tensor([1, 0, 0, 0, 0, 1, 1, 1], device='cuda:0')\n",
            "pred= tensor([1, 0, 0, 1, 1, 1, 0, 1], device='cuda:0') ground_truth= tensor([1, 0, 0, 1, 1, 1, 0, 1], device='cuda:0')\n",
            "pred= tensor([1, 1, 1, 1, 0, 1, 1, 1], device='cuda:0') ground_truth= tensor([0, 1, 1, 1, 0, 1, 1, 1], device='cuda:0')\n",
            "pred= tensor([1, 0, 1, 1, 1, 1, 1, 1], device='cuda:0') ground_truth= tensor([1, 0, 1, 1, 1, 0, 1, 1], device='cuda:0')\n",
            "pred= tensor([1, 0, 1, 1, 1, 0, 0, 0], device='cuda:0') ground_truth= tensor([1, 0, 1, 1, 1, 0, 0, 0], device='cuda:0')\n",
            "pred= tensor([1, 0, 1, 1, 1, 0, 0, 0], device='cuda:0') ground_truth= tensor([1, 0, 1, 1, 1, 0, 0, 0], device='cuda:0')\n",
            "pred= tensor([0, 0, 0, 0, 1, 0, 1, 0], device='cuda:0') ground_truth= tensor([0, 0, 0, 0, 1, 0, 1, 0], device='cuda:0')\n",
            "pred= tensor([1, 0, 1, 0, 0, 1, 1, 0], device='cuda:0') ground_truth= tensor([1, 0, 1, 0, 0, 1, 1, 0], device='cuda:0')\n",
            "pred= tensor([1, 1, 0, 1, 1, 1, 1, 1], device='cuda:0') ground_truth= tensor([1, 1, 1, 1, 1, 1, 1, 1], device='cuda:0')\n",
            "pred= tensor([0, 0, 1, 1, 0, 1, 1, 1], device='cuda:0') ground_truth= tensor([0, 0, 0, 1, 0, 1, 1, 1], device='cuda:0')\n",
            "pred= tensor([1, 0, 1, 0, 1, 0, 1, 1], device='cuda:0') ground_truth= tensor([1, 0, 1, 0, 1, 0, 1, 1], device='cuda:0')\n",
            "pred= tensor([1, 1, 0, 1, 1, 0, 1, 1], device='cuda:0') ground_truth= tensor([1, 1, 0, 1, 1, 0, 1, 1], device='cuda:0')\n",
            "pred= tensor([1, 0, 0, 0, 0, 1, 0, 1], device='cuda:0') ground_truth= tensor([1, 0, 0, 0, 0, 1, 1, 1], device='cuda:0')\n",
            "pred= tensor([0, 1, 1, 0, 1, 1, 0, 0], device='cuda:0') ground_truth= tensor([0, 1, 1, 0, 1, 1, 0, 0], device='cuda:0')\n",
            "pred= tensor([1, 1, 1, 1, 1, 1, 1, 0], device='cuda:0') ground_truth= tensor([1, 1, 1, 1, 1, 1, 1, 0], device='cuda:0')\n",
            "pred= tensor([1, 0, 1, 0, 1, 1, 1, 0], device='cuda:0') ground_truth= tensor([1, 0, 1, 0, 0, 1, 1, 0], device='cuda:0')\n",
            "pred= tensor([1, 1, 1, 1, 0, 1, 1, 1], device='cuda:0') ground_truth= tensor([1, 1, 1, 1, 0, 1, 1, 1], device='cuda:0')\n",
            "pred= tensor([1, 0, 1, 1, 1, 0, 1, 1], device='cuda:0') ground_truth= tensor([1, 0, 1, 1, 1, 0, 1, 1], device='cuda:0')\n",
            "pred= tensor([1, 1, 1, 1, 1, 1, 0, 0], device='cuda:0') ground_truth= tensor([1, 1, 1, 1, 1, 1, 1, 0], device='cuda:0')\n",
            "pred= tensor([1, 1, 0, 0, 0, 1, 1, 0], device='cuda:0') ground_truth= tensor([1, 1, 0, 0, 0, 1, 1, 0], device='cuda:0')\n",
            "pred= tensor([0, 0, 0, 0, 0, 1, 0, 0], device='cuda:0') ground_truth= tensor([0, 0, 0, 0, 0, 1, 1, 0], device='cuda:0')\n",
            "pred= tensor([1, 0, 1, 0, 1, 1, 1, 1], device='cuda:0') ground_truth= tensor([1, 0, 1, 0, 1, 1, 1, 1], device='cuda:0')\n",
            "pred= tensor([0, 1, 1, 1, 0, 0, 1, 0], device='cuda:0') ground_truth= tensor([0, 1, 1, 1, 0, 0, 1, 0], device='cuda:0')\n",
            "pred= tensor([1, 1, 1, 1, 0, 0, 0, 1], device='cuda:0') ground_truth= tensor([1, 1, 1, 1, 0, 0, 0, 1], device='cuda:0')\n",
            "pred= tensor([1, 1, 1, 0, 1, 0, 0, 1], device='cuda:0') ground_truth= tensor([1, 1, 1, 0, 0, 0, 0, 1], device='cuda:0')\n",
            "pred= tensor([1, 1, 1, 0, 0, 0, 0, 1], device='cuda:0') ground_truth= tensor([1, 1, 1, 0, 1, 0, 0, 1], device='cuda:0')\n",
            "pred= tensor([1, 0, 1, 0, 1, 0, 1, 0], device='cuda:0') ground_truth= tensor([1, 0, 1, 0, 1, 0, 1, 0], device='cuda:0')\n",
            "pred= tensor([0, 1, 0, 0, 1, 1, 1, 0], device='cuda:0') ground_truth= tensor([0, 1, 0, 0, 1, 1, 1, 1], device='cuda:0')\n",
            "pred= tensor([0, 0, 1, 0, 1, 1, 1, 0], device='cuda:0') ground_truth= tensor([0, 0, 1, 0, 1, 1, 0, 0], device='cuda:0')\n",
            "pred= tensor([1, 0, 1, 1, 1, 1, 1, 1], device='cuda:0') ground_truth= tensor([1, 0, 1, 1, 1, 1, 1, 1], device='cuda:0')\n",
            "pred= tensor([1, 1, 0, 1, 1, 1, 1, 1], device='cuda:0') ground_truth= tensor([1, 1, 0, 1, 1, 1, 0, 1], device='cuda:0')\n",
            "pred= tensor([0, 1, 1, 0, 1, 1, 0, 0], device='cuda:0') ground_truth= tensor([0, 1, 1, 0, 1, 1, 0, 0], device='cuda:0')\n",
            "pred= tensor([1, 0, 0, 0, 0, 1, 0, 1], device='cuda:0') ground_truth= tensor([1, 0, 0, 0, 0, 1, 0, 1], device='cuda:0')\n",
            "pred= tensor([1, 0, 1, 0, 0, 1, 1, 0], device='cuda:0') ground_truth= tensor([1, 0, 1, 0, 0, 1, 1, 0], device='cuda:0')\n",
            "pred= tensor([1, 1, 0, 1, 0, 0, 1, 0], device='cuda:0') ground_truth= tensor([1, 1, 0, 1, 0, 0, 1, 0], device='cuda:0')\n",
            "pred= tensor([0, 1, 0, 0, 1, 1, 0, 0], device='cuda:0') ground_truth= tensor([0, 1, 0, 0, 1, 1, 0, 0], device='cuda:0')\n",
            "pred= tensor([0, 0, 1, 0, 0, 1, 0, 0], device='cuda:0') ground_truth= tensor([0, 0, 1, 0, 0, 1, 0, 0], device='cuda:0')\n",
            "pred= tensor([1, 1, 0, 0, 0, 0, 1, 1], device='cuda:0') ground_truth= tensor([1, 1, 1, 0, 0, 0, 1, 1], device='cuda:0')\n",
            "pred= tensor([1, 0, 0, 0, 0, 0, 0, 0], device='cuda:0') ground_truth= tensor([1, 0, 0, 0, 1, 0, 0, 0], device='cuda:0')\n",
            "pred= tensor([1, 1, 0, 1, 0, 1, 0, 1], device='cuda:0') ground_truth= tensor([1, 1, 0, 1, 0, 1, 0, 1], device='cuda:0')\n",
            "pred= tensor([0, 1, 1, 1, 0, 1, 0, 1], device='cuda:0') ground_truth= tensor([0, 1, 0, 1, 0, 1, 0, 1], device='cuda:0')\n",
            "pred= tensor([0, 1, 1, 1, 0, 1, 0, 1], device='cuda:0') ground_truth= tensor([0, 0, 0, 1, 0, 1, 0, 1], device='cuda:0')\n",
            "pred= tensor([0, 0, 1, 0, 0, 1, 1, 1], device='cuda:0') ground_truth= tensor([0, 0, 1, 0, 0, 1, 1, 1], device='cuda:0')\n",
            "pred= tensor([0, 1, 1, 1, 1, 1, 1, 0], device='cuda:0') ground_truth= tensor([0, 1, 1, 1, 1, 1, 1, 1], device='cuda:0')\n",
            "pred= tensor([0, 1, 1, 1, 1, 1, 1, 1], device='cuda:0') ground_truth= tensor([0, 1, 1, 1, 1, 1, 1, 1], device='cuda:0')\n",
            "pred= tensor([1, 1, 1, 1, 1, 1, 1, 0], device='cuda:0') ground_truth= tensor([1, 1, 1, 1, 1, 1, 1, 0], device='cuda:0')\n",
            "pred= tensor([1, 0, 1, 1, 0, 1, 0, 0], device='cuda:0') ground_truth= tensor([1, 0, 1, 1, 0, 1, 0, 0], device='cuda:0')\n",
            "pred= tensor([0, 1, 0, 1, 1, 0, 1, 1], device='cuda:0') ground_truth= tensor([0, 0, 0, 1, 1, 0, 1, 1], device='cuda:0')\n",
            "pred= tensor([1, 1, 1, 0, 1, 0, 0, 1], device='cuda:0') ground_truth= tensor([1, 1, 1, 0, 1, 0, 0, 1], device='cuda:0')\n",
            "pred= tensor([1, 1, 1, 1, 1, 0, 1, 0], device='cuda:0') ground_truth= tensor([1, 1, 1, 1, 1, 0, 1, 0], device='cuda:0')\n",
            "pred= tensor([0, 1, 1, 1, 0, 1, 0, 0], device='cuda:0') ground_truth= tensor([0, 1, 1, 1, 0, 1, 0, 1], device='cuda:0')\n",
            "pred= tensor([1, 1, 1, 0, 1, 1, 1, 1], device='cuda:0') ground_truth= tensor([1, 1, 1, 0, 1, 1, 1, 1], device='cuda:0')\n",
            "pred= tensor([0, 1, 1, 0, 0, 1, 1, 0], device='cuda:0') ground_truth= tensor([0, 1, 1, 0, 0, 1, 1, 0], device='cuda:0')\n",
            "pred= tensor([1, 1, 1, 1, 0, 0, 1, 0], device='cuda:0') ground_truth= tensor([1, 1, 1, 1, 0, 0, 1, 0], device='cuda:0')\n",
            "pred= tensor([1, 0, 1, 1, 1, 1, 1, 1], device='cuda:0') ground_truth= tensor([1, 0, 1, 1, 0, 1, 1, 1], device='cuda:0')\n",
            "pred= tensor([1, 1, 1, 0, 1, 1, 1, 1], device='cuda:0') ground_truth= tensor([1, 1, 0, 0, 1, 1, 0, 1], device='cuda:0')\n",
            "pred= tensor([0, 1, 0, 1, 0, 1, 1, 0], device='cuda:0') ground_truth= tensor([0, 1, 0, 1, 0, 1, 1, 0], device='cuda:0')\n",
            "pred= tensor([1, 1, 1, 0, 0, 0, 0, 0], device='cuda:0') ground_truth= tensor([1, 1, 1, 0, 0, 0, 0, 0], device='cuda:0')\n",
            "pred= tensor([1, 0, 0, 1, 1, 0, 1, 1], device='cuda:0') ground_truth= tensor([1, 0, 0, 1, 1, 0, 1, 1], device='cuda:0')\n",
            "pred= tensor([0, 1, 0, 1, 1, 1, 0, 0], device='cuda:0') ground_truth= tensor([0, 1, 0, 1, 1, 1, 0, 1], device='cuda:0')\n",
            "pred= tensor([1, 1, 1, 0, 1, 0, 0, 1], device='cuda:0') ground_truth= tensor([1, 1, 1, 0, 1, 0, 0, 1], device='cuda:0')\n",
            "pred= tensor([1, 1, 0, 0, 1, 1, 0, 0], device='cuda:0') ground_truth= tensor([1, 1, 0, 0, 1, 1, 0, 0], device='cuda:0')\n",
            "pred= tensor([1, 1, 1, 0, 1, 1, 1, 1], device='cuda:0') ground_truth= tensor([1, 1, 1, 0, 1, 1, 1, 1], device='cuda:0')\n",
            "pred= tensor([1, 1, 0, 1, 1, 1, 0, 0], device='cuda:0') ground_truth= tensor([1, 1, 0, 1, 1, 1, 0, 0], device='cuda:0')\n",
            "pred= tensor([0, 0, 1, 1, 1, 1, 1, 0], device='cuda:0') ground_truth= tensor([0, 0, 1, 1, 1, 1, 1, 1], device='cuda:0')\n",
            "pred= tensor([1, 1, 0, 1, 0, 0, 1, 1], device='cuda:0') ground_truth= tensor([1, 1, 0, 1, 0, 0, 1, 1], device='cuda:0')\n",
            "pred= tensor([0, 0, 0, 1, 1, 1, 1, 1], device='cuda:0') ground_truth= tensor([0, 0, 0, 1, 1, 1, 1, 1], device='cuda:0')\n",
            "pred= tensor([0, 1, 0, 1, 1, 1, 1, 0], device='cuda:0') ground_truth= tensor([0, 1, 0, 1, 1, 1, 1, 0], device='cuda:0')\n",
            "pred= tensor([0, 1, 0, 0, 1, 0, 1, 1], device='cuda:0') ground_truth= tensor([0, 1, 0, 0, 1, 0, 1, 1], device='cuda:0')\n",
            "pred= tensor([1, 1, 1, 1, 0, 1, 1, 0], device='cuda:0') ground_truth= tensor([1, 1, 1, 1, 0, 1, 1, 0], device='cuda:0')\n",
            "pred= tensor([1, 1, 1, 1, 0, 0, 0, 1], device='cuda:0') ground_truth= tensor([1, 1, 1, 1, 0, 0, 0, 1], device='cuda:0')\n",
            "pred= tensor([1, 0, 1, 0, 1, 0, 1, 1], device='cuda:0') ground_truth= tensor([1, 0, 1, 0, 1, 0, 1, 1], device='cuda:0')\n",
            "pred= tensor([0, 0, 0, 0, 1, 1, 1, 0], device='cuda:0') ground_truth= tensor([0, 0, 0, 0, 1, 1, 1, 0], device='cuda:0')\n",
            "pred= tensor([1, 0, 1, 0, 0, 1, 0, 0], device='cuda:0') ground_truth= tensor([1, 0, 1, 1, 0, 1, 0, 0], device='cuda:0')\n",
            "pred= tensor([1, 1, 0, 0, 1, 1, 1, 1], device='cuda:0') ground_truth= tensor([1, 1, 0, 0, 1, 1, 1, 1], device='cuda:0')\n",
            "pred= tensor([1, 1, 1, 1, 0, 1, 1, 1], device='cuda:0') ground_truth= tensor([1, 1, 1, 1, 0, 1, 1, 1], device='cuda:0')\n",
            "pred= tensor([0, 0, 1, 1, 1, 1, 1, 1], device='cuda:0') ground_truth= tensor([1, 0, 1, 1, 1, 1, 1, 1], device='cuda:0')\n",
            "pred= tensor([0, 0, 1, 0, 0, 0, 1, 1], device='cuda:0') ground_truth= tensor([0, 0, 1, 0, 0, 0, 1, 1], device='cuda:0')\n",
            "pred= tensor([0, 1, 0, 1, 0, 1, 1, 1], device='cuda:0') ground_truth= tensor([0, 1, 0, 1, 0, 1, 1, 1], device='cuda:0')\n",
            "pred= tensor([1, 0, 1, 1, 0, 0, 0, 1], device='cuda:0') ground_truth= tensor([1, 0, 1, 0, 0, 0, 1, 1], device='cuda:0')\n",
            "pred= tensor([0, 1, 1, 0, 1, 1, 0, 1], device='cuda:0') ground_truth= tensor([0, 1, 1, 0, 1, 1, 0, 1], device='cuda:0')\n",
            "pred= tensor([0, 1, 1, 1, 1, 0, 1, 0], device='cuda:0') ground_truth= tensor([0, 1, 1, 1, 1, 0, 1, 0], device='cuda:0')\n",
            "pred= tensor([0, 1, 1, 1, 0, 1, 0, 1], device='cuda:0') ground_truth= tensor([0, 1, 1, 1, 0, 1, 0, 1], device='cuda:0')\n",
            "pred= tensor([1, 0, 0, 0, 1, 1, 0, 0], device='cuda:0') ground_truth= tensor([1, 0, 0, 0, 1, 1, 0, 0], device='cuda:0')\n",
            "pred= tensor([0, 1, 0, 0, 1, 1, 1, 0], device='cuda:0') ground_truth= tensor([0, 1, 0, 0, 1, 0, 1, 0], device='cuda:0')\n",
            "pred= tensor([0, 0, 1, 1, 0, 1, 0, 1], device='cuda:0') ground_truth= tensor([0, 0, 1, 1, 0, 1, 0, 1], device='cuda:0')\n",
            "pred= tensor([0, 1, 1, 1, 1, 0, 1, 1], device='cuda:0') ground_truth= tensor([0, 1, 1, 1, 1, 0, 1, 1], device='cuda:0')\n",
            "pred= tensor([0, 0, 1, 1, 0, 1, 0, 0], device='cuda:0') ground_truth= tensor([0, 0, 1, 1, 0, 1, 0, 0], device='cuda:0')\n",
            "pred= tensor([1, 1, 1, 1, 0, 1, 0, 1], device='cuda:0') ground_truth= tensor([1, 1, 1, 1, 0, 1, 0, 1], device='cuda:0')\n",
            "pred= tensor([1, 1, 1, 1, 1, 1, 0, 0], device='cuda:0') ground_truth= tensor([1, 1, 1, 1, 1, 1, 0, 0], device='cuda:0')\n",
            "pred= tensor([1, 1, 0, 0, 0, 1, 1, 0], device='cuda:0') ground_truth= tensor([1, 1, 0, 0, 0, 1, 1, 0], device='cuda:0')\n",
            "pred= tensor([1, 1, 0, 0, 0, 1, 1, 1], device='cuda:0') ground_truth= tensor([1, 1, 0, 0, 0, 1, 1, 1], device='cuda:0')\n",
            "pred= tensor([1, 1, 0, 1, 1, 1, 1, 1], device='cuda:0') ground_truth= tensor([1, 1, 0, 1, 1, 1, 1, 1], device='cuda:0')\n",
            "pred= tensor([1, 0, 1, 1, 1, 1, 0, 0], device='cuda:0') ground_truth= tensor([1, 0, 1, 0, 1, 1, 0, 0], device='cuda:0')\n",
            "pred= tensor([0, 1, 1, 1, 1, 1, 1, 0], device='cuda:0') ground_truth= tensor([0, 1, 0, 1, 1, 1, 1, 0], device='cuda:0')\n",
            "pred= tensor([1, 0, 1, 1, 1, 0, 1, 0], device='cuda:0') ground_truth= tensor([1, 0, 1, 1, 1, 0, 1, 0], device='cuda:0')\n",
            "pred= tensor([1, 1, 0, 1, 1, 0, 1, 1], device='cuda:0') ground_truth= tensor([1, 1, 0, 1, 1, 0, 1, 1], device='cuda:0')\n",
            "pred= tensor([0, 1, 1, 1, 1, 1, 0, 0], device='cuda:0') ground_truth= tensor([0, 1, 1, 1, 1, 1, 0, 0], device='cuda:0')\n",
            "pred= tensor([1, 1, 1, 1, 1, 1, 1, 1], device='cuda:0') ground_truth= tensor([1, 1, 1, 1, 1, 1, 1, 1], device='cuda:0')\n",
            "pred= tensor([1, 0, 1, 0, 1, 1, 1, 1], device='cuda:0') ground_truth= tensor([1, 0, 1, 0, 1, 1, 1, 1], device='cuda:0')\n",
            "pred= tensor([0, 1, 1, 0, 0, 0, 0, 1], device='cuda:0') ground_truth= tensor([0, 1, 1, 0, 0, 0, 0, 1], device='cuda:0')\n",
            "pred= tensor([1, 1, 1, 1, 1, 0, 1, 0], device='cuda:0') ground_truth= tensor([1, 1, 1, 1, 1, 0, 1, 0], device='cuda:0')\n",
            "pred= tensor([0, 0, 1, 0, 0, 0, 0, 0], device='cuda:0') ground_truth= tensor([0, 0, 1, 0, 0, 0, 0, 0], device='cuda:0')\n",
            "pred= tensor([1, 0, 1, 1, 1, 1, 0, 1], device='cuda:0') ground_truth= tensor([1, 0, 1, 1, 1, 1, 0, 1], device='cuda:0')\n",
            "pred= tensor([0, 1, 0, 1, 1, 0, 1, 0], device='cuda:0') ground_truth= tensor([0, 1, 0, 1, 1, 0, 1, 0], device='cuda:0')\n",
            "pred= tensor([1, 1, 1, 1, 1, 1, 1, 0], device='cuda:0') ground_truth= tensor([0, 1, 1, 1, 1, 1, 1, 0], device='cuda:0')\n",
            "pred= tensor([0, 1, 1, 0, 1, 0, 0, 0], device='cuda:0') ground_truth= tensor([0, 1, 1, 0, 1, 0, 0, 0], device='cuda:0')\n",
            "pred= tensor([1, 1, 1, 1, 0, 1, 0, 1], device='cuda:0') ground_truth= tensor([1, 1, 1, 1, 0, 1, 0, 1], device='cuda:0')\n",
            "pred= tensor([1, 0, 1, 1, 1, 0, 0, 1], device='cuda:0') ground_truth= tensor([1, 0, 1, 1, 1, 0, 0, 1], device='cuda:0')\n",
            "pred= tensor([0, 1, 0, 1, 1, 1, 1, 1], device='cuda:0') ground_truth= tensor([0, 1, 0, 1, 1, 1, 1, 0], device='cuda:0')\n",
            "pred= tensor([1, 0, 1, 1, 0, 1, 1, 0], device='cuda:0') ground_truth= tensor([1, 0, 1, 1, 0, 1, 1, 0], device='cuda:0')\n",
            "pred= tensor([1, 1, 1, 0, 1, 1, 0, 1], device='cuda:0') ground_truth= tensor([1, 1, 1, 0, 1, 1, 0, 0], device='cuda:0')\n",
            "pred= tensor([1, 0, 0, 1, 1, 0, 0, 1], device='cuda:0') ground_truth= tensor([1, 0, 0, 1, 1, 0, 0, 1], device='cuda:0')\n",
            "pred= tensor([1, 1, 1, 1, 1, 0, 0, 1], device='cuda:0') ground_truth= tensor([1, 1, 1, 1, 1, 1, 0, 1], device='cuda:0')\n",
            "pred= tensor([1, 1, 0, 1, 1, 0, 0, 0], device='cuda:0') ground_truth= tensor([1, 1, 0, 1, 0, 0, 0, 0], device='cuda:0')\n",
            "pred= tensor([1, 1, 1, 0, 1, 1, 0, 1], device='cuda:0') ground_truth= tensor([1, 0, 1, 0, 1, 1, 0, 1], device='cuda:0')\n",
            "pred= tensor([0, 0, 1, 1, 1, 0, 0, 1], device='cuda:0') ground_truth= tensor([0, 0, 1, 1, 1, 0, 0, 1], device='cuda:0')\n",
            "pred= tensor([1, 1, 0, 1, 0, 1, 1, 1], device='cuda:0') ground_truth= tensor([1, 1, 0, 1, 0, 1, 1, 1], device='cuda:0')\n",
            "pred= tensor([1, 1, 0, 1, 0, 0, 1, 0], device='cuda:0') ground_truth= tensor([1, 1, 0, 1, 0, 0, 1, 0], device='cuda:0')\n",
            "pred= tensor([1, 0, 1, 0, 0, 0, 1, 1], device='cuda:0') ground_truth= tensor([1, 0, 1, 0, 0, 0, 1, 1], device='cuda:0')\n",
            "pred= tensor([1, 0, 1, 1, 0, 1, 1, 1], device='cuda:0') ground_truth= tensor([1, 0, 1, 0, 0, 1, 1, 1], device='cuda:0')\n",
            "pred= tensor([1, 0, 1, 1, 0, 0, 0, 0], device='cuda:0') ground_truth= tensor([1, 0, 1, 1, 0, 0, 1, 0], device='cuda:0')\n",
            "pred= tensor([1, 1, 0, 1, 1, 1, 1, 0], device='cuda:0') ground_truth= tensor([1, 1, 0, 1, 1, 1, 1, 0], device='cuda:0')\n",
            "pred= tensor([0, 0, 1, 1, 0, 0, 0, 0], device='cuda:0') ground_truth= tensor([0, 1, 1, 1, 0, 0, 0, 1], device='cuda:0')\n",
            "pred= tensor([0, 1, 0, 0, 1, 1, 1, 1], device='cuda:0') ground_truth= tensor([0, 1, 0, 0, 1, 1, 1, 1], device='cuda:0')\n",
            "pred= tensor([0, 0, 0, 1, 0, 1, 1, 1], device='cuda:0') ground_truth= tensor([0, 0, 0, 1, 0, 1, 1, 1], device='cuda:0')\n",
            "pred= tensor([1, 0, 1, 1, 1, 0, 1, 0], device='cuda:0') ground_truth= tensor([1, 0, 1, 1, 1, 0, 1, 0], device='cuda:0')\n",
            "pred= tensor([1, 1, 1, 1, 1, 1, 1, 1], device='cuda:0') ground_truth= tensor([1, 1, 1, 1, 1, 1, 1, 1], device='cuda:0')\n",
            "pred= tensor([1, 1, 0, 0, 1, 0, 1, 0], device='cuda:0') ground_truth= tensor([1, 1, 0, 0, 1, 0, 1, 0], device='cuda:0')\n",
            "pred= tensor([1, 0, 0, 0, 1, 1, 1, 0], device='cuda:0') ground_truth= tensor([1, 0, 0, 0, 1, 1, 1, 0], device='cuda:0')\n",
            "pred= tensor([1, 0, 0, 1, 1, 1, 1, 1], device='cuda:0') ground_truth= tensor([1, 0, 0, 1, 1, 1, 1, 1], device='cuda:0')\n",
            "pred= tensor([1, 0, 0, 1, 1, 0, 1, 1], device='cuda:0') ground_truth= tensor([1, 0, 0, 1, 1, 0, 1, 1], device='cuda:0')\n",
            "pred= tensor([1, 0, 0, 1, 1, 1, 1, 0], device='cuda:0') ground_truth= tensor([1, 0, 0, 1, 1, 1, 1, 0], device='cuda:0')\n",
            "pred= tensor([0, 0, 1, 0, 0, 0, 1, 1], device='cuda:0') ground_truth= tensor([0, 0, 1, 0, 0, 0, 1, 1], device='cuda:0')\n",
            "pred= tensor([1, 0, 1, 0, 0, 0, 1, 1], device='cuda:0') ground_truth= tensor([1, 0, 1, 0, 0, 0, 1, 1], device='cuda:0')\n",
            "pred= tensor([1, 1, 1, 1, 0, 0, 0, 1], device='cuda:0') ground_truth= tensor([1, 1, 1, 1, 0, 0, 0, 1], device='cuda:0')\n",
            "pred= tensor([0, 1, 1, 1, 1, 0, 1, 0], device='cuda:0') ground_truth= tensor([0, 1, 1, 1, 1, 0, 1, 0], device='cuda:0')\n",
            "pred= tensor([0, 1, 0, 1, 0, 1, 0, 0], device='cuda:0') ground_truth= tensor([0, 1, 0, 1, 0, 1, 0, 0], device='cuda:0')\n",
            "pred= tensor([0, 1, 1, 1, 1, 1, 1, 1], device='cuda:0') ground_truth= tensor([0, 1, 1, 1, 1, 1, 1, 1], device='cuda:0')\n",
            "pred= tensor([1, 0, 1, 1, 1, 1, 0, 1], device='cuda:0') ground_truth= tensor([1, 0, 1, 1, 1, 1, 0, 1], device='cuda:0')\n",
            "pred= tensor([1, 1, 1, 1, 0, 0, 0, 0], device='cuda:0') ground_truth= tensor([1, 1, 1, 1, 0, 0, 0, 0], device='cuda:0')\n",
            "pred= tensor([1, 1, 1, 0, 1, 0, 1, 0], device='cuda:0') ground_truth= tensor([1, 1, 1, 0, 1, 0, 1, 0], device='cuda:0')\n",
            "pred= tensor([1, 0, 0, 0, 1, 0, 0, 0], device='cuda:0') ground_truth= tensor([1, 0, 0, 0, 1, 0, 0, 0], device='cuda:0')\n",
            "pred= tensor([0, 0, 1, 0, 0, 0, 0, 1], device='cuda:0') ground_truth= tensor([0, 0, 1, 0, 0, 0, 0, 1], device='cuda:0')\n",
            "pred= tensor([0, 0, 1, 0, 0, 1, 0, 1], device='cuda:0') ground_truth= tensor([0, 0, 1, 0, 0, 1, 0, 1], device='cuda:0')\n",
            "pred= tensor([1, 1, 1, 1, 1, 0, 1, 1], device='cuda:0') ground_truth= tensor([1, 0, 1, 1, 1, 0, 1, 1], device='cuda:0')\n",
            "pred= tensor([0, 1, 0, 1, 1, 0, 1, 0], device='cuda:0') ground_truth= tensor([0, 1, 0, 1, 1, 0, 1, 0], device='cuda:0')\n",
            "pred= tensor([0, 1, 1, 1, 0, 1, 0, 1], device='cuda:0') ground_truth= tensor([0, 1, 1, 1, 0, 1, 0, 1], device='cuda:0')\n",
            "pred= tensor([0, 0, 1, 0, 1, 0, 1, 1], device='cuda:0') ground_truth= tensor([0, 0, 1, 0, 1, 0, 1, 1], device='cuda:0')\n",
            "pred= tensor([0, 1, 1, 1, 1, 1, 0, 1], device='cuda:0') ground_truth= tensor([0, 1, 1, 1, 1, 0, 0, 1], device='cuda:0')\n",
            "pred= tensor([1, 1, 0, 1, 1, 1, 1, 0], device='cuda:0') ground_truth= tensor([1, 1, 0, 1, 1, 1, 1, 0], device='cuda:0')\n",
            "pred= tensor([0, 0, 1, 1, 1, 1, 0, 0], device='cuda:0') ground_truth= tensor([0, 0, 1, 1, 1, 1, 0, 0], device='cuda:0')\n",
            "pred= tensor([1, 0, 1, 1, 0, 1, 0, 0], device='cuda:0') ground_truth= tensor([1, 0, 1, 1, 0, 1, 0, 0], device='cuda:0')\n",
            "pred= tensor([1, 1, 1, 0, 1, 1, 1, 1], device='cuda:0') ground_truth= tensor([1, 1, 1, 0, 1, 1, 1, 1], device='cuda:0')\n",
            "pred= tensor([1, 1, 1, 0, 1, 1, 1, 0], device='cuda:0') ground_truth= tensor([1, 1, 1, 0, 0, 1, 1, 0], device='cuda:0')\n",
            "pred= tensor([1, 1, 1, 0, 0, 1, 0, 0], device='cuda:0') ground_truth= tensor([1, 1, 1, 0, 0, 1, 0, 0], device='cuda:0')\n",
            "pred= tensor([1, 1, 0, 0, 1, 1, 1, 0], device='cuda:0') ground_truth= tensor([1, 1, 0, 0, 1, 1, 1, 0], device='cuda:0')\n",
            "pred= tensor([1, 0, 0, 0, 0, 0, 0, 1], device='cuda:0') ground_truth= tensor([1, 0, 0, 0, 0, 1, 0, 1], device='cuda:0')\n",
            "pred= tensor([1, 1, 0, 0, 0, 0, 0, 0], device='cuda:0') ground_truth= tensor([1, 1, 0, 0, 0, 0, 0, 0], device='cuda:0')\n",
            "pred= tensor([0, 1, 0, 1, 1, 1, 1, 1], device='cuda:0') ground_truth= tensor([0, 1, 0, 1, 1, 1, 1, 1], device='cuda:0')\n",
            "pred= tensor([1, 1, 1, 1, 0, 1, 1, 0], device='cuda:0') ground_truth= tensor([1, 1, 1, 1, 0, 1, 1, 0], device='cuda:0')\n",
            "pred= tensor([1, 0, 0, 0, 0, 1, 0, 1], device='cuda:0') ground_truth= tensor([1, 0, 0, 0, 0, 1, 0, 1], device='cuda:0')\n",
            "pred= tensor([0, 1, 1, 1, 1, 0, 0, 1], device='cuda:0') ground_truth= tensor([0, 1, 0, 0, 1, 0, 0, 1], device='cuda:0')\n",
            "pred= tensor([0, 0, 0, 0, 1, 0, 1, 1], device='cuda:0') ground_truth= tensor([0, 0, 0, 0, 1, 0, 1, 1], device='cuda:0')\n",
            "pred= tensor([1, 1, 0, 0, 0, 1, 0, 1], device='cuda:0') ground_truth= tensor([0, 1, 1, 0, 0, 1, 0, 0], device='cuda:0')\n",
            "pred= tensor([0, 0, 1, 1, 0, 1, 0, 0], device='cuda:0') ground_truth= tensor([0, 0, 1, 1, 0, 1, 0, 0], device='cuda:0')\n",
            "pred= tensor([1, 1, 1, 0, 1, 0, 1, 0], device='cuda:0') ground_truth= tensor([1, 1, 1, 0, 1, 0, 1, 0], device='cuda:0')\n",
            "pred= tensor([0, 0, 1, 0, 1, 0, 1, 1], device='cuda:0') ground_truth= tensor([0, 0, 1, 0, 1, 0, 1, 1], device='cuda:0')\n",
            "pred= tensor([0, 0, 1, 0, 1, 0, 1, 1], device='cuda:0') ground_truth= tensor([0, 0, 1, 0, 1, 0, 1, 1], device='cuda:0')\n",
            "pred= tensor([1, 0, 1, 1, 1, 0, 1, 1], device='cuda:0') ground_truth= tensor([1, 0, 1, 1, 1, 0, 1, 1], device='cuda:0')\n",
            "pred= tensor([0, 1, 0, 1, 0, 1, 1, 1], device='cuda:0') ground_truth= tensor([0, 1, 0, 1, 0, 1, 1, 1], device='cuda:0')\n",
            "pred= tensor([0, 1, 0, 0, 1, 1, 1, 0], device='cuda:0') ground_truth= tensor([0, 1, 0, 0, 1, 1, 1, 0], device='cuda:0')\n",
            "pred= tensor([0, 0, 1, 1, 0, 0, 1, 1], device='cuda:0') ground_truth= tensor([0, 0, 1, 1, 0, 0, 1, 1], device='cuda:0')\n",
            "pred= tensor([1, 0, 0, 1, 1, 1, 0, 1], device='cuda:0') ground_truth= tensor([1, 0, 0, 1, 1, 1, 0, 1], device='cuda:0')\n",
            "pred= tensor([0, 0, 0, 1, 1, 1, 1, 1], device='cuda:0') ground_truth= tensor([0, 0, 0, 1, 1, 1, 1, 1], device='cuda:0')\n",
            "pred= tensor([1, 0, 0, 0, 1, 1, 1, 0], device='cuda:0') ground_truth= tensor([1, 0, 0, 0, 1, 1, 1, 0], device='cuda:0')\n",
            "pred= tensor([0, 0, 0, 0, 1, 1, 0, 0], device='cuda:0') ground_truth= tensor([0, 0, 0, 0, 1, 1, 0, 0], device='cuda:0')\n",
            "pred= tensor([1, 1, 1, 1, 1, 0, 0, 1], device='cuda:0') ground_truth= tensor([1, 1, 1, 1, 1, 0, 0, 1], device='cuda:0')\n",
            "pred= tensor([1, 1, 0, 0, 0, 1, 0, 1], device='cuda:0') ground_truth= tensor([1, 1, 0, 0, 0, 1, 0, 1], device='cuda:0')\n",
            "pred= tensor([1, 1, 0, 0, 1, 1, 1, 0], device='cuda:0') ground_truth= tensor([1, 1, 1, 0, 1, 1, 1, 0], device='cuda:0')\n",
            "pred= tensor([0, 1, 1, 0, 0, 1, 1, 1], device='cuda:0') ground_truth= tensor([0, 1, 1, 0, 0, 1, 1, 1], device='cuda:0')\n",
            "pred= tensor([1, 0, 0, 1, 0, 0, 0, 0], device='cuda:0') ground_truth= tensor([1, 0, 0, 1, 0, 0, 0, 0], device='cuda:0')\n",
            "pred= tensor([1, 0, 0, 1, 0, 0, 0, 1], device='cuda:0') ground_truth= tensor([1, 0, 0, 1, 0, 0, 0, 1], device='cuda:0')\n",
            "pred= tensor([1, 1, 1, 0, 0, 0, 0, 1], device='cuda:0') ground_truth= tensor([1, 1, 1, 0, 0, 0, 0, 1], device='cuda:0')\n",
            "pred= tensor([1, 1, 1, 0, 1, 1, 1, 1], device='cuda:0') ground_truth= tensor([1, 1, 1, 0, 1, 1, 1, 1], device='cuda:0')\n",
            "pred= tensor([1, 1, 1, 1, 1, 1, 0, 1], device='cuda:0') ground_truth= tensor([1, 1, 1, 1, 1, 1, 0, 1], device='cuda:0')\n",
            "pred= tensor([0, 0, 1, 0, 0, 0, 1, 0], device='cuda:0') ground_truth= tensor([0, 0, 1, 0, 0, 0, 1, 0], device='cuda:0')\n",
            "pred= tensor([0, 1, 1, 1, 1, 0, 0, 1], device='cuda:0') ground_truth= tensor([1, 1, 1, 1, 1, 0, 0, 1], device='cuda:0')\n",
            "pred= tensor([1, 1, 0, 1, 1, 1, 1, 1], device='cuda:0') ground_truth= tensor([1, 1, 0, 1, 1, 0, 1, 1], device='cuda:0')\n",
            "pred= tensor([1, 1, 1, 1, 1, 1, 1, 0], device='cuda:0') ground_truth= tensor([1, 1, 1, 1, 1, 1, 1, 0], device='cuda:0')\n",
            "pred= tensor([1, 1, 0, 1, 1, 1, 1, 0], device='cuda:0') ground_truth= tensor([1, 1, 0, 1, 1, 1, 1, 0], device='cuda:0')\n",
            "pred= tensor([1, 1, 1, 1, 1, 0, 1, 0], device='cuda:0') ground_truth= tensor([1, 1, 1, 1, 1, 0, 1, 0], device='cuda:0')\n",
            "pred= tensor([1, 1, 0, 0, 1, 0, 1, 1], device='cuda:0') ground_truth= tensor([1, 1, 0, 0, 1, 0, 1, 1], device='cuda:0')\n",
            "pred= tensor([0, 0, 1, 0, 1, 0, 0, 1], device='cuda:0') ground_truth= tensor([0, 0, 1, 0, 1, 1, 0, 1], device='cuda:0')\n",
            "pred= tensor([0, 0, 1, 1, 1, 0, 1, 1], device='cuda:0') ground_truth= tensor([0, 0, 1, 1, 1, 0, 1, 1], device='cuda:0')\n",
            "pred= tensor([0, 0, 1, 0, 0, 1, 1, 1], device='cuda:0') ground_truth= tensor([0, 0, 1, 0, 0, 1, 1, 1], device='cuda:0')\n",
            "pred= tensor([1, 1, 1, 0, 0, 1, 0, 1], device='cuda:0') ground_truth= tensor([1, 1, 1, 0, 0, 1, 0, 1], device='cuda:0')\n",
            "pred= tensor([1, 1, 1, 1, 0, 1, 0, 0], device='cuda:0') ground_truth= tensor([1, 1, 1, 1, 0, 1, 0, 0], device='cuda:0')\n",
            "pred= tensor([1, 0, 1, 1, 0, 0, 1, 0], device='cuda:0') ground_truth= tensor([1, 0, 1, 1, 0, 0, 1, 0], device='cuda:0')\n",
            "pred= tensor([0, 0, 1, 0, 0, 0, 1, 1], device='cuda:0') ground_truth= tensor([0, 0, 1, 0, 0, 0, 1, 1], device='cuda:0')\n",
            "pred= tensor([0, 1, 1, 1, 1, 1, 1, 1], device='cuda:0') ground_truth= tensor([0, 1, 1, 1, 1, 1, 1, 1], device='cuda:0')\n",
            "pred= tensor([1, 1, 1, 1, 1, 0, 1, 1], device='cuda:0') ground_truth= tensor([1, 1, 1, 1, 1, 0, 1, 1], device='cuda:0')\n",
            "pred= tensor([1, 1, 1, 0, 1, 1, 0, 1], device='cuda:0') ground_truth= tensor([1, 1, 1, 0, 1, 1, 0, 1], device='cuda:0')\n",
            "pred= tensor([1, 0, 1, 0, 1, 0, 0, 0], device='cuda:0') ground_truth= tensor([1, 1, 1, 0, 1, 0, 0, 0], device='cuda:0')\n",
            "pred= tensor([1, 0, 1, 1, 0, 1, 0, 0], device='cuda:0') ground_truth= tensor([1, 0, 1, 1, 0, 1, 0, 0], device='cuda:0')\n",
            "pred= tensor([0, 1, 1, 1, 0, 1, 1, 0], device='cuda:0') ground_truth= tensor([0, 1, 1, 1, 0, 1, 0, 0], device='cuda:0')\n",
            "pred= tensor([0, 1, 1, 0, 1, 1, 0, 1], device='cuda:0') ground_truth= tensor([0, 1, 1, 0, 1, 1, 0, 1], device='cuda:0')\n",
            "pred= tensor([1, 0, 0, 1, 0, 1, 1, 0], device='cuda:0') ground_truth= tensor([1, 0, 0, 1, 0, 1, 1, 0], device='cuda:0')\n",
            "pred= tensor([1, 0, 1, 0, 0, 1, 0, 1], device='cuda:0') ground_truth= tensor([1, 0, 1, 0, 0, 1, 0, 1], device='cuda:0')\n",
            "pred= tensor([1, 1, 0, 0, 1, 1, 1, 0], device='cuda:0') ground_truth= tensor([1, 1, 0, 0, 1, 1, 1, 0], device='cuda:0')\n",
            "pred= tensor([0, 1, 1, 1, 1, 1, 1, 0], device='cuda:0') ground_truth= tensor([0, 1, 0, 1, 1, 1, 1, 0], device='cuda:0')\n",
            "pred= tensor([1, 1, 1, 0, 1, 1, 0, 1], device='cuda:0') ground_truth= tensor([1, 1, 1, 0, 1, 1, 0, 1], device='cuda:0')\n",
            "pred= tensor([1, 1, 1, 1, 0, 1, 1, 1], device='cuda:0') ground_truth= tensor([1, 1, 1, 1, 0, 1, 1, 1], device='cuda:0')\n",
            "pred= tensor([1, 0, 0, 1, 1, 0, 1, 0], device='cuda:0') ground_truth= tensor([1, 0, 0, 1, 1, 0, 1, 1], device='cuda:0')\n",
            "pred= tensor([0, 0, 0, 0, 1, 0, 0, 0], device='cuda:0') ground_truth= tensor([0, 0, 1, 0, 1, 0, 0, 0], device='cuda:0')\n",
            "pred= tensor([1, 0, 1, 0, 1, 0, 0, 1], device='cuda:0') ground_truth= tensor([1, 0, 1, 0, 1, 0, 0, 1], device='cuda:0')\n",
            "pred= tensor([1, 0, 1, 1, 1, 1, 1, 1], device='cuda:0') ground_truth= tensor([1, 0, 1, 1, 1, 1, 1, 1], device='cuda:0')\n",
            "pred= tensor([1, 1, 1, 1, 1, 0, 1, 0], device='cuda:0') ground_truth= tensor([1, 1, 1, 1, 1, 0, 1, 0], device='cuda:0')\n",
            "pred= tensor([1, 0, 1, 1, 1, 1, 1, 0], device='cuda:0') ground_truth= tensor([0, 0, 1, 1, 1, 1, 1, 0], device='cuda:0')\n",
            "pred= tensor([1, 1, 0, 1, 0, 1, 1, 1], device='cuda:0') ground_truth= tensor([1, 1, 0, 1, 0, 1, 1, 1], device='cuda:0')\n",
            "pred= tensor([0, 1, 0, 0, 0, 1, 1, 1], device='cuda:0') ground_truth= tensor([0, 1, 0, 0, 0, 1, 1, 0], device='cuda:0')\n",
            "pred= tensor([1, 1, 1, 1, 1, 1, 1, 1], device='cuda:0') ground_truth= tensor([0, 1, 1, 0, 1, 1, 1, 1], device='cuda:0')\n",
            "pred= tensor([1, 1, 0, 0, 1, 0, 1, 1], device='cuda:0') ground_truth= tensor([1, 1, 0, 0, 1, 0, 1, 1], device='cuda:0')\n",
            "pred= tensor([1, 1, 1, 1, 1, 1, 0, 1], device='cuda:0') ground_truth= tensor([1, 1, 1, 1, 1, 1, 0, 1], device='cuda:0')\n",
            "pred= tensor([1, 1, 1, 0, 1, 0, 1, 0], device='cuda:0') ground_truth= tensor([1, 1, 1, 0, 1, 0, 1, 0], device='cuda:0')\n",
            "pred= tensor([1, 1, 1, 1, 1, 1, 0, 0], device='cuda:0') ground_truth= tensor([1, 1, 1, 1, 1, 1, 0, 0], device='cuda:0')\n",
            "pred= tensor([0, 0, 1, 1, 0, 1, 0, 1], device='cuda:0') ground_truth= tensor([0, 0, 1, 1, 0, 1, 0, 1], device='cuda:0')\n",
            "pred= tensor([0, 1, 1, 1, 0, 0, 1, 0], device='cuda:0') ground_truth= tensor([0, 1, 1, 1, 0, 0, 1, 0], device='cuda:0')\n",
            "pred= tensor([0, 0, 1, 1, 1, 0, 0, 1], device='cuda:0') ground_truth= tensor([0, 0, 1, 1, 1, 0, 0, 1], device='cuda:0')\n",
            "pred= tensor([1, 1, 0, 0, 1, 1, 1, 1], device='cuda:0') ground_truth= tensor([1, 1, 0, 0, 0, 1, 1, 1], device='cuda:0')\n",
            "pred= tensor([0, 1, 1, 1, 0, 0, 1, 1], device='cuda:0') ground_truth= tensor([0, 1, 1, 1, 0, 0, 1, 1], device='cuda:0')\n",
            "pred= tensor([0, 1, 1, 1, 0, 0, 0, 0], device='cuda:0') ground_truth= tensor([0, 1, 1, 1, 0, 0, 0, 0], device='cuda:0')\n",
            "pred= tensor([0, 0, 0, 1, 0, 0, 1, 1], device='cuda:0') ground_truth= tensor([0, 0, 0, 1, 0, 0, 1, 1], device='cuda:0')\n",
            "pred= tensor([1, 0, 0, 1, 0, 1, 0, 1], device='cuda:0') ground_truth= tensor([1, 0, 0, 1, 0, 1, 0, 1], device='cuda:0')\n",
            "pred= tensor([0, 1, 1, 1, 1, 1, 0, 1], device='cuda:0') ground_truth= tensor([0, 1, 1, 1, 1, 1, 0, 1], device='cuda:0')\n",
            "pred= tensor([1, 1, 1, 1, 1, 1, 1, 0], device='cuda:0') ground_truth= tensor([0, 1, 1, 1, 1, 1, 1, 0], device='cuda:0')\n",
            "pred= tensor([0, 0, 1, 0, 0, 1, 1, 0], device='cuda:0') ground_truth= tensor([1, 0, 1, 0, 0, 1, 1, 0], device='cuda:0')\n",
            "pred= tensor([0, 0, 1, 0, 1, 1, 0, 0], device='cuda:0') ground_truth= tensor([1, 0, 1, 0, 1, 1, 0, 0], device='cuda:0')\n",
            "pred= tensor([0, 1, 1, 1, 0, 0, 1, 0], device='cuda:0') ground_truth= tensor([0, 1, 1, 1, 0, 0, 1, 0], device='cuda:0')\n",
            "pred= tensor([1, 1, 1, 1, 1, 0, 1, 1], device='cuda:0') ground_truth= tensor([1, 1, 1, 1, 1, 0, 1, 1], device='cuda:0')\n",
            "pred= tensor([1, 1, 0, 1, 1, 1, 0, 0], device='cuda:0') ground_truth= tensor([1, 1, 0, 0, 1, 1, 0, 0], device='cuda:0')\n",
            "pred= tensor([1, 1, 0, 0, 0, 1, 1, 1], device='cuda:0') ground_truth= tensor([1, 1, 0, 0, 0, 1, 1, 1], device='cuda:0')\n",
            "pred= tensor([1, 0, 1, 1, 1, 1, 1, 1], device='cuda:0') ground_truth= tensor([1, 0, 1, 1, 1, 1, 1, 1], device='cuda:0')\n",
            "pred= tensor([1, 1, 1, 1, 1, 1, 1, 1], device='cuda:0') ground_truth= tensor([1, 1, 1, 1, 1, 1, 1, 1], device='cuda:0')\n",
            "pred= tensor([0, 1, 1, 0, 1, 1, 0, 0], device='cuda:0') ground_truth= tensor([0, 1, 1, 0, 1, 1, 1, 0], device='cuda:0')\n",
            "pred= tensor([1, 1, 0, 0, 1, 0, 1, 0], device='cuda:0') ground_truth= tensor([1, 1, 0, 0, 1, 0, 1, 1], device='cuda:0')\n",
            "pred= tensor([1, 0, 0, 0, 1, 0, 1, 1], device='cuda:0') ground_truth= tensor([1, 0, 0, 0, 1, 0, 1, 1], device='cuda:0')\n",
            "pred= tensor([0, 1, 0, 0, 1, 0, 1, 0], device='cuda:0') ground_truth= tensor([0, 0, 0, 0, 1, 0, 1, 0], device='cuda:0')\n",
            "pred= tensor([1, 0, 1, 1, 0, 1, 1, 1], device='cuda:0') ground_truth= tensor([1, 0, 1, 1, 0, 1, 1, 1], device='cuda:0')\n",
            "pred= tensor([1, 1, 1, 0, 1, 1, 0, 1], device='cuda:0') ground_truth= tensor([1, 1, 1, 0, 1, 1, 0, 1], device='cuda:0')\n",
            "pred= tensor([1, 0, 1, 1, 0, 0, 1, 1], device='cuda:0') ground_truth= tensor([1, 0, 1, 1, 0, 0, 1, 1], device='cuda:0')\n",
            "pred= tensor([1, 1, 0, 1, 0, 1, 1, 1], device='cuda:0') ground_truth= tensor([1, 1, 0, 1, 0, 1, 1, 1], device='cuda:0')\n",
            "pred= tensor([0, 1, 1, 1, 0, 1, 1, 1], device='cuda:0') ground_truth= tensor([0, 1, 1, 1, 0, 1, 1, 1], device='cuda:0')\n",
            "pred= tensor([1, 0, 0, 1, 0, 0, 1, 0], device='cuda:0') ground_truth= tensor([1, 0, 0, 1, 0, 0, 1, 0], device='cuda:0')\n",
            "pred= tensor([1, 1, 1, 0, 0, 0, 1, 1], device='cuda:0') ground_truth= tensor([1, 0, 1, 0, 0, 0, 1, 1], device='cuda:0')\n",
            "pred= tensor([0, 0, 1, 0, 0, 1, 1, 0], device='cuda:0') ground_truth= tensor([0, 0, 1, 0, 0, 1, 1, 0], device='cuda:0')\n",
            "pred= tensor([1, 0, 1, 0, 1, 0, 1, 1], device='cuda:0') ground_truth= tensor([1, 0, 1, 0, 1, 1, 1, 1], device='cuda:0')\n",
            "pred= tensor([1, 0, 0, 1, 1, 0, 1, 1], device='cuda:0') ground_truth= tensor([1, 0, 0, 1, 0, 0, 1, 1], device='cuda:0')\n",
            "pred= tensor([1, 1, 0, 0, 1, 1, 0, 0], device='cuda:0') ground_truth= tensor([1, 1, 0, 0, 1, 1, 0, 0], device='cuda:0')\n",
            "pred= tensor([1, 1, 1, 1, 0, 0, 1, 0], device='cuda:0') ground_truth= tensor([1, 1, 1, 1, 0, 0, 1, 0], device='cuda:0')\n",
            "pred= tensor([1, 0, 0, 0, 0, 1, 0, 1], device='cuda:0') ground_truth= tensor([1, 0, 0, 0, 0, 1, 0, 1], device='cuda:0')\n",
            "pred= tensor([1, 1, 1, 0, 0, 1, 1, 0], device='cuda:0') ground_truth= tensor([1, 1, 1, 0, 0, 1, 1, 0], device='cuda:0')\n",
            "pred= tensor([1, 1, 0, 1, 0, 0, 1, 1], device='cuda:0') ground_truth= tensor([1, 1, 0, 1, 0, 0, 1, 1], device='cuda:0')\n",
            "pred= tensor([1, 1, 1, 0, 1, 0, 0, 1], device='cuda:0') ground_truth= tensor([1, 1, 1, 0, 1, 0, 0, 1], device='cuda:0')\n",
            "pred= tensor([1, 1, 1, 1, 1, 1, 0, 1], device='cuda:0') ground_truth= tensor([1, 1, 1, 1, 1, 1, 0, 1], device='cuda:0')\n",
            "pred= tensor([1, 1, 1, 1, 1, 1, 1, 0], device='cuda:0') ground_truth= tensor([1, 0, 1, 1, 1, 1, 1, 0], device='cuda:0')\n",
            "pred= tensor([1, 1, 1, 0, 0, 0, 1, 1], device='cuda:0') ground_truth= tensor([0, 1, 1, 0, 0, 0, 1, 1], device='cuda:0')\n",
            "pred= tensor([1, 0, 1, 0, 1, 1, 0, 0], device='cuda:0') ground_truth= tensor([1, 0, 1, 0, 1, 1, 0, 0], device='cuda:0')\n",
            "pred= tensor([1, 0, 0, 0, 0, 0, 0, 0], device='cuda:0') ground_truth= tensor([1, 0, 0, 0, 0, 0, 0, 0], device='cuda:0')\n",
            "pred= tensor([1, 1, 0, 1, 0, 1, 1, 0], device='cuda:0') ground_truth= tensor([1, 1, 1, 1, 0, 1, 1, 0], device='cuda:0')\n",
            "pred= tensor([0, 1, 0, 1, 0, 1, 1, 1], device='cuda:0') ground_truth= tensor([0, 0, 0, 1, 0, 1, 1, 1], device='cuda:0')\n",
            "pred= tensor([0, 0, 0, 1, 1, 1, 0, 0], device='cuda:0') ground_truth= tensor([0, 0, 0, 1, 1, 1, 0, 0], device='cuda:0')\n",
            "pred= tensor([1, 1, 0, 0, 1, 1, 1, 1], device='cuda:0') ground_truth= tensor([1, 1, 0, 0, 1, 1, 1, 1], device='cuda:0')\n",
            "pred= tensor([1, 0, 1, 1, 0, 1, 0, 1], device='cuda:0') ground_truth= tensor([1, 0, 1, 1, 0, 1, 0, 1], device='cuda:0')\n",
            "pred= tensor([1, 0, 1, 1, 1, 0, 1, 1], device='cuda:0') ground_truth= tensor([1, 0, 1, 1, 1, 0, 1, 1], device='cuda:0')\n",
            "pred= tensor([1, 0, 0, 1, 1, 1, 0, 1], device='cuda:0') ground_truth= tensor([1, 0, 0, 1, 1, 1, 0, 1], device='cuda:0')\n",
            "pred= tensor([1, 1, 1, 1, 1, 1, 0, 1], device='cuda:0') ground_truth= tensor([1, 1, 1, 1, 1, 1, 0, 0], device='cuda:0')\n",
            "pred= tensor([0, 1, 0, 0, 1, 0, 1, 1], device='cuda:0') ground_truth= tensor([0, 1, 0, 0, 1, 0, 1, 1], device='cuda:0')\n",
            "pred= tensor([0, 1, 1, 1, 0, 0, 0, 0], device='cuda:0') ground_truth= tensor([0, 1, 1, 1, 0, 0, 0, 0], device='cuda:0')\n",
            "pred= tensor([0, 0, 1, 1, 0, 1, 1, 1], device='cuda:0') ground_truth= tensor([0, 0, 1, 1, 0, 1, 1, 1], device='cuda:0')\n",
            "pred= tensor([1, 0, 0, 1, 1, 0, 1, 0], device='cuda:0') ground_truth= tensor([1, 0, 0, 1, 1, 0, 1, 0], device='cuda:0')\n",
            "pred= tensor([0, 1, 1, 1, 0, 1, 1, 1], device='cuda:0') ground_truth= tensor([0, 1, 1, 1, 0, 1, 1, 1], device='cuda:0')\n",
            "pred= tensor([1, 0, 1, 1, 1, 0, 0, 1], device='cuda:0') ground_truth= tensor([1, 0, 1, 1, 1, 0, 0, 1], device='cuda:0')\n",
            "pred= tensor([1, 0, 1, 0, 0, 1, 1, 0], device='cuda:0') ground_truth= tensor([1, 0, 1, 0, 0, 1, 1, 0], device='cuda:0')\n",
            "pred= tensor([1, 0, 1, 1, 0, 1, 1, 1], device='cuda:0') ground_truth= tensor([1, 0, 1, 1, 0, 1, 1, 1], device='cuda:0')\n",
            "pred= tensor([1, 0, 1, 0, 1, 0, 1, 1], device='cuda:0') ground_truth= tensor([0, 0, 1, 0, 1, 0, 1, 1], device='cuda:0')\n",
            "pred= tensor([1, 1, 0, 1, 0, 1, 1, 1], device='cuda:0') ground_truth= tensor([1, 1, 0, 1, 0, 1, 1, 1], device='cuda:0')\n",
            "pred= tensor([1, 1, 1, 1, 0, 0, 1, 0], device='cuda:0') ground_truth= tensor([1, 1, 1, 1, 0, 0, 1, 0], device='cuda:0')\n",
            "pred= tensor([1, 0, 1, 0, 1, 0, 1, 0], device='cuda:0') ground_truth= tensor([1, 0, 1, 0, 1, 0, 1, 0], device='cuda:0')\n",
            "pred= tensor([1, 0, 1, 0, 1, 1, 1, 1], device='cuda:0') ground_truth= tensor([1, 0, 1, 0, 1, 1, 1, 1], device='cuda:0')\n",
            "pred= tensor([0, 0, 1, 1, 1, 1, 1, 1], device='cuda:0') ground_truth= tensor([0, 0, 1, 1, 1, 1, 1, 1], device='cuda:0')\n",
            "pred= tensor([0, 0, 1, 1, 0, 1, 1, 0], device='cuda:0') ground_truth= tensor([0, 0, 1, 1, 0, 1, 1, 1], device='cuda:0')\n",
            "pred= tensor([1, 1, 1, 1, 1, 1, 1, 1], device='cuda:0') ground_truth= tensor([1, 1, 1, 1, 1, 1, 1, 1], device='cuda:0')\n",
            "pred= tensor([1, 1, 1, 0, 1, 1, 1, 1], device='cuda:0') ground_truth= tensor([1, 1, 1, 0, 1, 1, 1, 1], device='cuda:0')\n",
            "pred= tensor([1, 1, 1, 1, 0, 1, 1, 1], device='cuda:0') ground_truth= tensor([1, 1, 1, 1, 0, 1, 1, 1], device='cuda:0')\n",
            "pred= tensor([0, 1, 0, 1, 1, 0, 1, 0], device='cuda:0') ground_truth= tensor([0, 1, 0, 1, 1, 0, 1, 0], device='cuda:0')\n",
            "pred= tensor([0, 0, 0, 0, 1, 1, 1, 0], device='cuda:0') ground_truth= tensor([0, 1, 0, 0, 1, 1, 1, 0], device='cuda:0')\n",
            "pred= tensor([1, 1, 1, 1, 1, 1, 1, 1], device='cuda:0') ground_truth= tensor([1, 1, 0, 1, 1, 1, 1, 1], device='cuda:0')\n",
            "pred= tensor([1, 1, 1, 1, 1, 1, 1, 1], device='cuda:0') ground_truth= tensor([1, 1, 1, 1, 1, 1, 1, 1], device='cuda:0')\n",
            "pred= tensor([0, 0, 1, 1, 1, 1, 1, 1], device='cuda:0') ground_truth= tensor([0, 0, 1, 1, 1, 1, 1, 0], device='cuda:0')\n",
            "pred= tensor([0, 1, 0, 0, 1, 0, 0, 1], device='cuda:0') ground_truth= tensor([1, 1, 0, 0, 1, 0, 0, 0], device='cuda:0')\n",
            "pred= tensor([1, 0, 1, 0, 0, 0, 0, 1], device='cuda:0') ground_truth= tensor([1, 0, 1, 0, 0, 0, 0, 1], device='cuda:0')\n",
            "pred= tensor([1, 1, 1, 1, 1, 1, 1, 1], device='cuda:0') ground_truth= tensor([1, 1, 1, 1, 1, 1, 1, 1], device='cuda:0')\n",
            "pred= tensor([1, 0, 0, 1, 1, 1, 1, 0], device='cuda:0') ground_truth= tensor([1, 0, 0, 1, 1, 1, 1, 0], device='cuda:0')\n",
            "pred= tensor([0, 1, 1, 0, 0, 0, 1, 1], device='cuda:0') ground_truth= tensor([0, 1, 1, 0, 0, 0, 1, 1], device='cuda:0')\n",
            "pred= tensor([0, 1, 1, 1, 0, 1, 1, 0], device='cuda:0') ground_truth= tensor([0, 1, 1, 1, 0, 1, 1, 0], device='cuda:0')\n",
            "pred= tensor([1, 0, 1, 0, 0, 1, 0, 0], device='cuda:0') ground_truth= tensor([0, 0, 1, 0, 0, 0, 0, 0], device='cuda:0')\n",
            "pred= tensor([1, 1, 1, 1, 1, 0, 0, 0], device='cuda:0') ground_truth= tensor([1, 1, 1, 1, 1, 0, 0, 0], device='cuda:0')\n",
            "pred= tensor([1, 1, 1, 1, 0, 1, 0, 1], device='cuda:0') ground_truth= tensor([1, 1, 1, 1, 0, 1, 0, 1], device='cuda:0')\n",
            "pred= tensor([0, 1, 1, 0, 1, 1, 1, 1], device='cuda:0') ground_truth= tensor([0, 1, 1, 0, 1, 1, 1, 1], device='cuda:0')\n",
            "pred= tensor([1, 0, 1, 1, 1, 0, 1, 0], device='cuda:0') ground_truth= tensor([1, 0, 1, 1, 1, 0, 1, 0], device='cuda:0')\n",
            "pred= tensor([1, 0, 1, 0, 1, 1, 0, 0], device='cuda:0') ground_truth= tensor([1, 0, 1, 1, 1, 1, 0, 0], device='cuda:0')\n",
            "pred= tensor([1, 0, 1, 0, 0, 1, 0, 0], device='cuda:0') ground_truth= tensor([1, 0, 1, 0, 0, 1, 0, 0], device='cuda:0')\n",
            "pred= tensor([1, 1, 1, 1, 1, 0, 1, 1], device='cuda:0') ground_truth= tensor([1, 1, 1, 1, 1, 0, 1, 1], device='cuda:0')\n",
            "pred= tensor([0, 1, 1, 1, 1, 0, 0, 0], device='cuda:0') ground_truth= tensor([0, 1, 1, 1, 1, 0, 0, 0], device='cuda:0')\n",
            "pred= tensor([1, 0, 0, 1, 0, 0, 0, 0], device='cuda:0') ground_truth= tensor([1, 0, 0, 1, 0, 0, 0, 0], device='cuda:0')\n",
            "pred= tensor([1, 0, 1, 0, 1, 1, 1, 0], device='cuda:0') ground_truth= tensor([1, 0, 1, 0, 1, 1, 1, 0], device='cuda:0')\n",
            "pred= tensor([0, 1, 0, 0, 0, 1, 1, 1], device='cuda:0') ground_truth= tensor([0, 1, 0, 0, 1, 1, 1, 1], device='cuda:0')\n",
            "pred= tensor([0, 1, 1, 1, 1, 1, 1, 0], device='cuda:0') ground_truth= tensor([0, 1, 1, 1, 1, 1, 1, 0], device='cuda:0')\n",
            "pred= tensor([1, 1, 1, 1, 1, 1, 0, 1], device='cuda:0') ground_truth= tensor([1, 1, 1, 1, 1, 1, 0, 1], device='cuda:0')\n",
            "pred= tensor([1, 1, 0, 0, 1, 1, 0, 1], device='cuda:0') ground_truth= tensor([1, 1, 0, 0, 1, 1, 0, 1], device='cuda:0')\n",
            "pred= tensor([0, 1, 0, 1, 1, 1, 0, 0], device='cuda:0') ground_truth= tensor([0, 1, 0, 1, 1, 1, 0, 0], device='cuda:0')\n",
            "pred= tensor([1, 1, 1, 0, 1, 1, 0, 0], device='cuda:0') ground_truth= tensor([1, 1, 1, 0, 1, 1, 0, 0], device='cuda:0')\n",
            "pred= tensor([0, 1, 0, 1, 1, 1, 0, 0], device='cuda:0') ground_truth= tensor([0, 1, 0, 1, 1, 0, 0, 0], device='cuda:0')\n",
            "pred= tensor([1, 1, 0, 0, 1, 1, 1, 1], device='cuda:0') ground_truth= tensor([1, 1, 0, 0, 1, 1, 1, 1], device='cuda:0')\n",
            "pred= tensor([0, 0, 1, 0, 1, 1, 1, 1], device='cuda:0') ground_truth= tensor([0, 0, 1, 0, 1, 1, 1, 1], device='cuda:0')\n",
            "pred= tensor([1, 1, 1, 0, 1, 1, 0, 0], device='cuda:0') ground_truth= tensor([1, 1, 1, 0, 1, 1, 0, 0], device='cuda:0')\n",
            "pred= tensor([0, 1, 1, 1, 1, 1, 1, 1], device='cuda:0') ground_truth= tensor([0, 1, 1, 1, 1, 1, 1, 1], device='cuda:0')\n",
            "pred= tensor([0, 0, 1, 1, 1, 1, 1, 0], device='cuda:0') ground_truth= tensor([0, 1, 1, 1, 1, 1, 1, 0], device='cuda:0')\n",
            "pred= tensor([1, 0, 1, 0, 1, 1, 1, 0], device='cuda:0') ground_truth= tensor([1, 0, 0, 1, 1, 1, 0, 0], device='cuda:0')\n",
            "pred= tensor([1, 1, 1, 0, 1, 1, 1, 1], device='cuda:0') ground_truth= tensor([1, 1, 1, 0, 1, 1, 1, 1], device='cuda:0')\n",
            "pred= tensor([1, 0, 1, 1, 0, 1, 1, 1], device='cuda:0') ground_truth= tensor([1, 0, 1, 1, 0, 1, 1, 1], device='cuda:0')\n",
            "pred= tensor([1, 0, 1, 1, 1, 1, 1, 1], device='cuda:0') ground_truth= tensor([1, 0, 1, 1, 1, 1, 1, 1], device='cuda:0')\n",
            "pred= tensor([1, 1, 0, 1, 0, 1, 1, 1], device='cuda:0') ground_truth= tensor([1, 1, 0, 0, 0, 1, 1, 1], device='cuda:0')\n",
            "pred= tensor([0, 0, 1, 0, 1, 0, 0, 0], device='cuda:0') ground_truth= tensor([0, 0, 1, 0, 1, 1, 0, 0], device='cuda:0')\n",
            "pred= tensor([0, 1, 1, 1, 1, 0, 0, 1], device='cuda:0') ground_truth= tensor([0, 1, 1, 1, 1, 0, 0, 1], device='cuda:0')\n",
            "pred= tensor([1, 1, 1, 1, 0, 0, 1, 1], device='cuda:0') ground_truth= tensor([1, 0, 1, 1, 0, 0, 1, 1], device='cuda:0')\n",
            "pred= tensor([1, 1, 1, 0, 1, 1, 1, 1], device='cuda:0') ground_truth= tensor([1, 1, 1, 0, 1, 1, 1, 1], device='cuda:0')\n",
            "pred= tensor([1, 1, 0, 0, 0, 1, 1, 1], device='cuda:0') ground_truth= tensor([1, 1, 0, 0, 0, 1, 1, 1], device='cuda:0')\n",
            "pred= tensor([1, 1, 0, 1, 1, 1, 1, 0], device='cuda:0') ground_truth= tensor([1, 1, 1, 1, 1, 1, 1, 0], device='cuda:0')\n",
            "pred= tensor([1, 1, 1, 0, 1, 1, 1, 1], device='cuda:0') ground_truth= tensor([1, 1, 1, 0, 1, 1, 1, 1], device='cuda:0')\n",
            "pred= tensor([1, 1, 1, 0, 1, 0, 0, 1], device='cuda:0') ground_truth= tensor([1, 1, 1, 0, 1, 0, 0, 1], device='cuda:0')\n",
            "pred= tensor([0, 1, 1, 0, 1, 0, 0, 0], device='cuda:0') ground_truth= tensor([0, 1, 1, 0, 1, 1, 0, 0], device='cuda:0')\n",
            "pred= tensor([0, 1, 1, 0, 1, 1, 0, 1], device='cuda:0') ground_truth= tensor([0, 1, 1, 0, 1, 1, 0, 1], device='cuda:0')\n",
            "pred= tensor([1, 0, 0, 1, 1, 1, 0, 0], device='cuda:0') ground_truth= tensor([1, 0, 0, 0, 1, 1, 0, 0], device='cuda:0')\n",
            "pred= tensor([0, 1, 0, 1, 0, 1, 0, 0], device='cuda:0') ground_truth= tensor([0, 1, 0, 1, 0, 1, 0, 0], device='cuda:0')\n",
            "pred= tensor([1, 1, 1, 1, 0, 1, 1, 1], device='cuda:0') ground_truth= tensor([1, 1, 1, 1, 0, 1, 1, 1], device='cuda:0')\n",
            "pred= tensor([1, 0, 1, 1, 1, 1, 1, 1], device='cuda:0') ground_truth= tensor([1, 0, 1, 1, 1, 1, 1, 1], device='cuda:0')\n",
            "pred= tensor([1, 1, 1, 0, 1, 1, 1, 0], device='cuda:0') ground_truth= tensor([1, 1, 1, 0, 1, 1, 1, 0], device='cuda:0')\n",
            "pred= tensor([1, 1, 1, 1, 1, 0, 1, 1], device='cuda:0') ground_truth= tensor([1, 1, 1, 1, 1, 0, 1, 1], device='cuda:0')\n",
            "pred= tensor([1, 1, 0, 1, 1, 1, 1, 1], device='cuda:0') ground_truth= tensor([1, 1, 0, 1, 0, 1, 1, 1], device='cuda:0')\n",
            "pred= tensor([1, 0, 0, 0, 1, 1, 0, 1], device='cuda:0') ground_truth= tensor([1, 0, 0, 0, 1, 1, 0, 1], device='cuda:0')\n",
            "pred= tensor([0, 1, 1, 1, 1, 1, 1, 1], device='cuda:0') ground_truth= tensor([0, 1, 1, 1, 1, 1, 1, 1], device='cuda:0')\n",
            "pred= tensor([1, 1, 1, 0, 1, 1, 0, 1], device='cuda:0') ground_truth= tensor([1, 1, 1, 0, 1, 1, 0, 1], device='cuda:0')\n",
            "pred= tensor([1, 0, 1, 1, 0, 0, 0, 0], device='cuda:0') ground_truth= tensor([1, 0, 1, 1, 0, 0, 0, 0], device='cuda:0')\n",
            "pred= tensor([0, 0, 1, 1, 1, 1, 0, 0], device='cuda:0') ground_truth= tensor([1, 0, 1, 1, 1, 1, 0, 0], device='cuda:0')\n",
            "pred= tensor([1, 0, 1, 0, 0, 1, 0, 0], device='cuda:0') ground_truth= tensor([1, 0, 1, 0, 0, 1, 0, 0], device='cuda:0')\n",
            "pred= tensor([0, 1, 1, 1, 0, 0, 0, 1], device='cuda:0') ground_truth= tensor([0, 1, 1, 1, 1, 0, 0, 1], device='cuda:0')\n",
            "pred= tensor([1, 0, 1, 0, 1, 0, 0, 1], device='cuda:0') ground_truth= tensor([1, 0, 1, 0, 1, 0, 0, 1], device='cuda:0')\n",
            "pred= tensor([1, 1, 1, 1, 0, 1, 0, 0], device='cuda:0') ground_truth= tensor([1, 1, 1, 1, 0, 1, 0, 0], device='cuda:0')\n",
            "pred= tensor([1, 1, 1, 0, 0, 1, 1, 0], device='cuda:0') ground_truth= tensor([0, 1, 1, 0, 1, 1, 1, 0], device='cuda:0')\n",
            "pred= tensor([1, 0, 1, 1, 0, 1, 0, 1], device='cuda:0') ground_truth= tensor([1, 0, 1, 1, 0, 1, 0, 1], device='cuda:0')\n",
            "pred= tensor([1, 1, 1, 0, 0, 1, 1, 1], device='cuda:0') ground_truth= tensor([1, 1, 1, 1, 0, 1, 1, 1], device='cuda:0')\n",
            "pred= tensor([1, 1, 0, 1, 0, 1, 1, 1], device='cuda:0') ground_truth= tensor([1, 1, 1, 1, 0, 1, 1, 1], device='cuda:0')\n",
            "pred= tensor([1, 1, 1, 1, 1, 1, 0, 0], device='cuda:0') ground_truth= tensor([1, 1, 1, 1, 1, 1, 0, 0], device='cuda:0')\n",
            "pred= tensor([0, 1, 1, 1, 1, 1, 1, 1], device='cuda:0') ground_truth= tensor([0, 1, 1, 1, 1, 1, 1, 1], device='cuda:0')\n",
            "pred= tensor([0, 0, 1, 0, 1, 1, 1, 1], device='cuda:0') ground_truth= tensor([1, 0, 1, 0, 1, 1, 1, 1], device='cuda:0')\n",
            "pred= tensor([1, 1, 0, 0, 1, 0, 1, 0], device='cuda:0') ground_truth= tensor([1, 1, 0, 0, 1, 1, 1, 0], device='cuda:0')\n",
            "pred= tensor([1, 0, 1, 0, 0, 0, 1, 1], device='cuda:0') ground_truth= tensor([1, 0, 1, 0, 0, 0, 1, 1], device='cuda:0')\n",
            "pred= tensor([1, 0, 1, 1, 1, 1, 1, 0], device='cuda:0') ground_truth= tensor([1, 0, 1, 1, 1, 1, 0, 0], device='cuda:0')\n",
            "pred= tensor([1, 1, 1, 1, 0, 1, 0, 0], device='cuda:0') ground_truth= tensor([1, 1, 1, 1, 0, 1, 0, 0], device='cuda:0')\n",
            "pred= tensor([1, 1, 1, 1, 1, 1, 1, 0], device='cuda:0') ground_truth= tensor([1, 1, 1, 1, 1, 1, 1, 0], device='cuda:0')\n",
            "pred= tensor([0, 0, 1, 1, 1, 0, 0, 1], device='cuda:0') ground_truth= tensor([0, 0, 1, 1, 1, 0, 0, 1], device='cuda:0')\n",
            "pred= tensor([1, 0, 1, 0, 1, 1, 1, 1], device='cuda:0') ground_truth= tensor([1, 0, 1, 0, 1, 1, 1, 1], device='cuda:0')\n",
            "pred= tensor([1, 0, 1, 1, 0, 0, 0, 1], device='cuda:0') ground_truth= tensor([1, 0, 1, 1, 1, 0, 0, 1], device='cuda:0')\n",
            "pred= tensor([1, 0, 1, 0, 0, 1, 0, 1], device='cuda:0') ground_truth= tensor([1, 0, 1, 0, 0, 1, 0, 1], device='cuda:0')\n",
            "pred= tensor([1, 1, 1, 1, 1, 1, 1, 1], device='cuda:0') ground_truth= tensor([1, 1, 1, 1, 1, 1, 1, 1], device='cuda:0')\n",
            "pred= tensor([0, 0, 1, 0, 0, 0, 0, 0], device='cuda:0') ground_truth= tensor([0, 0, 1, 0, 0, 0, 0, 0], device='cuda:0')\n",
            "pred= tensor([1, 1, 1, 1, 1, 1, 1, 0], device='cuda:0') ground_truth= tensor([1, 1, 1, 1, 1, 1, 1, 0], device='cuda:0')\n",
            "pred= tensor([1, 1, 0, 1, 1, 1, 1, 0], device='cuda:0') ground_truth= tensor([1, 1, 0, 1, 1, 1, 1, 0], device='cuda:0')\n",
            "pred= tensor([1, 1, 0, 1, 0, 0, 0, 0], device='cuda:0') ground_truth= tensor([1, 1, 0, 1, 0, 0, 0, 0], device='cuda:0')\n",
            "pred= tensor([1, 0, 1, 0, 1, 1, 1, 1], device='cuda:0') ground_truth= tensor([1, 1, 1, 0, 1, 1, 1, 1], device='cuda:0')\n",
            "pred= tensor([1, 0, 1, 1, 1, 1, 1, 1], device='cuda:0') ground_truth= tensor([1, 0, 1, 1, 1, 1, 1, 1], device='cuda:0')\n",
            "pred= tensor([1, 0, 1, 1, 1, 1, 1, 1], device='cuda:0') ground_truth= tensor([1, 0, 1, 1, 1, 1, 1, 1], device='cuda:0')\n",
            "pred= tensor([0, 0, 1, 0, 1, 1, 0, 1], device='cuda:0') ground_truth= tensor([0, 0, 1, 0, 1, 1, 1, 1], device='cuda:0')\n",
            "pred= tensor([0, 0, 0, 0, 1, 1, 0, 1], device='cuda:0') ground_truth= tensor([0, 0, 0, 0, 1, 1, 0, 1], device='cuda:0')\n",
            "pred= tensor([1, 0, 1, 1, 0, 1, 0, 0], device='cuda:0') ground_truth= tensor([1, 0, 1, 0, 0, 1, 0, 0], device='cuda:0')\n",
            "pred= tensor([0, 0, 0, 1, 1, 1, 1, 0], device='cuda:0') ground_truth= tensor([0, 0, 0, 1, 1, 1, 1, 1], device='cuda:0')\n",
            "pred= tensor([0, 0, 1, 1, 0, 0, 0, 1], device='cuda:0') ground_truth= tensor([0, 0, 1, 1, 1, 1, 0, 1], device='cuda:0')\n",
            "pred= tensor([0, 0, 1, 0, 1, 1, 1, 1], device='cuda:0') ground_truth= tensor([0, 1, 1, 0, 1, 1, 1, 1], device='cuda:0')\n",
            "pred= tensor([1, 1, 0, 0, 0, 1, 1, 1], device='cuda:0') ground_truth= tensor([1, 1, 0, 0, 0, 1, 1, 1], device='cuda:0')\n",
            "pred= tensor([1, 1, 1, 0, 1, 1, 1, 1], device='cuda:0') ground_truth= tensor([1, 1, 1, 0, 1, 1, 1, 1], device='cuda:0')\n",
            "pred= tensor([1, 0, 1, 0, 1, 0, 0, 1], device='cuda:0') ground_truth= tensor([1, 0, 1, 0, 1, 0, 0, 1], device='cuda:0')\n",
            "pred= tensor([1, 1, 0, 0, 0, 1, 0, 1], device='cuda:0') ground_truth= tensor([0, 1, 0, 0, 0, 1, 0, 1], device='cuda:0')\n",
            "pred= tensor([0, 0, 1, 1, 1, 1, 0, 1], device='cuda:0') ground_truth= tensor([0, 0, 1, 1, 1, 1, 0, 1], device='cuda:0')\n",
            "pred= tensor([0, 0, 0, 1, 1, 1, 1, 0], device='cuda:0') ground_truth= tensor([0, 0, 0, 1, 1, 1, 1, 0], device='cuda:0')\n",
            "pred= tensor([0, 1, 1, 1, 1, 0, 1, 1], device='cuda:0') ground_truth= tensor([0, 1, 1, 1, 1, 0, 1, 1], device='cuda:0')\n",
            "pred= tensor([0, 1, 1, 1, 1, 1, 1, 1], device='cuda:0') ground_truth= tensor([0, 1, 1, 1, 1, 1, 1, 1], device='cuda:0')\n",
            "pred= tensor([0, 1, 1, 0, 1, 1, 0, 1], device='cuda:0') ground_truth= tensor([0, 1, 1, 0, 1, 1, 0, 1], device='cuda:0')\n",
            "pred= tensor([1, 1, 1, 0, 1, 1, 0, 0], device='cuda:0') ground_truth= tensor([1, 1, 1, 0, 1, 1, 0, 0], device='cuda:0')\n",
            "pred= tensor([0, 1, 1, 1, 1, 0, 1, 1], device='cuda:0') ground_truth= tensor([0, 1, 1, 1, 1, 0, 1, 1], device='cuda:0')\n",
            "pred= tensor([1, 0, 0, 1, 1, 1, 1, 0], device='cuda:0') ground_truth= tensor([0, 0, 0, 1, 1, 1, 1, 0], device='cuda:0')\n",
            "pred= tensor([1, 1, 1, 1, 0, 0, 0, 0], device='cuda:0') ground_truth= tensor([1, 1, 1, 1, 0, 0, 0, 0], device='cuda:0')\n",
            "pred= tensor([0, 1, 0, 1, 0, 1, 1, 0], device='cuda:0') ground_truth= tensor([0, 1, 0, 1, 0, 1, 1, 0], device='cuda:0')\n",
            "pred= tensor([1, 1, 1, 0, 1, 1, 0, 0], device='cuda:0') ground_truth= tensor([1, 1, 1, 0, 1, 1, 0, 0], device='cuda:0')\n",
            "pred= tensor([1, 0, 0, 1, 1, 1, 1, 0], device='cuda:0') ground_truth= tensor([1, 0, 0, 1, 1, 1, 1, 0], device='cuda:0')\n",
            "pred= tensor([1, 1, 1, 1, 0, 1, 1, 1], device='cuda:0') ground_truth= tensor([0, 1, 1, 1, 0, 1, 1, 1], device='cuda:0')\n",
            "pred= tensor([1, 1, 0, 1, 1, 1, 1, 1], device='cuda:0') ground_truth= tensor([1, 1, 0, 1, 1, 1, 1, 1], device='cuda:0')\n",
            "pred= tensor([1, 1, 1, 1, 0, 0, 1, 1], device='cuda:0') ground_truth= tensor([1, 1, 1, 1, 0, 0, 1, 1], device='cuda:0')\n",
            "pred= tensor([1, 1, 1, 0, 1, 1, 0, 0], device='cuda:0') ground_truth= tensor([1, 1, 1, 0, 1, 1, 0, 0], device='cuda:0')\n",
            "pred= tensor([1, 1, 1, 1, 1, 1, 0, 1], device='cuda:0') ground_truth= tensor([1, 1, 1, 1, 1, 1, 0, 1], device='cuda:0')\n",
            "pred= tensor([1, 0, 0, 0, 0, 0, 1, 1], device='cuda:0') ground_truth= tensor([1, 0, 0, 0, 0, 0, 1, 1], device='cuda:0')\n",
            "pred= tensor([1, 0, 1, 1, 0, 1, 0, 1], device='cuda:0') ground_truth= tensor([1, 0, 1, 1, 0, 1, 0, 1], device='cuda:0')\n",
            "pred= tensor([0, 0, 1, 0, 1, 1, 1, 0], device='cuda:0') ground_truth= tensor([0, 0, 1, 0, 1, 1, 1, 0], device='cuda:0')\n",
            "pred= tensor([1, 1, 1, 1, 0, 0, 0, 1], device='cuda:0') ground_truth= tensor([1, 1, 1, 1, 0, 0, 0, 1], device='cuda:0')\n",
            "pred= tensor([0, 0, 1, 1, 0, 0, 1, 1], device='cuda:0') ground_truth= tensor([0, 0, 1, 1, 0, 0, 0, 1], device='cuda:0')\n",
            "pred= tensor([0, 0, 0, 1, 1, 0, 0, 1], device='cuda:0') ground_truth= tensor([0, 0, 0, 1, 1, 0, 0, 1], device='cuda:0')\n",
            "pred= tensor([1, 0, 1, 1, 0, 1, 1, 1], device='cuda:0') ground_truth= tensor([1, 0, 1, 1, 0, 1, 1, 1], device='cuda:0')\n",
            "pred= tensor([1, 1, 0, 0, 1, 1, 1, 1], device='cuda:0') ground_truth= tensor([1, 1, 0, 0, 1, 1, 1, 1], device='cuda:0')\n",
            "pred= tensor([0, 1, 1, 1, 1, 1, 0, 0], device='cuda:0') ground_truth= tensor([0, 1, 1, 1, 1, 1, 0, 0], device='cuda:0')\n",
            "pred= tensor([1, 0, 1, 1, 1, 1, 1, 1], device='cuda:0') ground_truth= tensor([1, 0, 1, 1, 1, 1, 1, 1], device='cuda:0')\n",
            "pred= tensor([1, 0, 1, 1, 0, 1, 1, 1], device='cuda:0') ground_truth= tensor([1, 0, 1, 1, 0, 1, 1, 1], device='cuda:0')\n",
            "pred= tensor([0, 1, 0, 0, 1, 0, 0, 0], device='cuda:0') ground_truth= tensor([0, 1, 0, 0, 1, 0, 0, 0], device='cuda:0')\n",
            "pred= tensor([0, 1, 1, 0, 1, 1, 0, 1], device='cuda:0') ground_truth= tensor([0, 1, 1, 0, 0, 1, 0, 1], device='cuda:0')\n",
            "pred= tensor([1, 0, 0, 0, 1, 1, 1, 1], device='cuda:0') ground_truth= tensor([1, 0, 0, 0, 1, 1, 1, 1], device='cuda:0')\n",
            "pred= tensor([1, 1, 0, 1, 0, 0, 1, 0], device='cuda:0') ground_truth= tensor([1, 1, 0, 1, 0, 0, 1, 0], device='cuda:0')\n",
            "pred= tensor([0, 1, 1, 0, 0, 0, 1, 0], device='cuda:0') ground_truth= tensor([0, 1, 1, 0, 0, 0, 1, 0], device='cuda:0')\n",
            "pred= tensor([1, 1, 0, 1, 1, 1, 1, 1], device='cuda:0') ground_truth= tensor([1, 1, 0, 1, 1, 1, 1, 1], device='cuda:0')\n",
            "pred= tensor([0, 0, 1, 1, 1, 1, 1, 1], device='cuda:0') ground_truth= tensor([0, 0, 1, 1, 1, 1, 1, 1], device='cuda:0')\n",
            "pred= tensor([0, 0, 1, 1, 1, 1, 1, 0], device='cuda:0') ground_truth= tensor([0, 0, 1, 1, 1, 1, 1, 0], device='cuda:0')\n",
            "pred= tensor([0, 1, 1, 0, 1, 0, 0, 0], device='cuda:0') ground_truth= tensor([0, 1, 1, 0, 1, 1, 0, 0], device='cuda:0')\n",
            "pred= tensor([1, 1, 1, 1, 0, 1, 0, 1], device='cuda:0') ground_truth= tensor([1, 1, 1, 1, 0, 0, 0, 1], device='cuda:0')\n",
            "pred= tensor([1, 0, 1, 1, 0, 1, 1, 1], device='cuda:0') ground_truth= tensor([1, 0, 1, 1, 0, 1, 1, 1], device='cuda:0')\n",
            "pred= tensor([1, 0, 0, 1, 1, 1, 0, 1], device='cuda:0') ground_truth= tensor([1, 0, 0, 0, 1, 1, 0, 1], device='cuda:0')\n",
            "pred= tensor([0, 0, 0, 1, 0, 1, 0, 1], device='cuda:0') ground_truth= tensor([0, 0, 0, 0, 0, 1, 0, 1], device='cuda:0')\n",
            "pred= tensor([1, 1, 1, 1, 1, 0, 1, 1], device='cuda:0') ground_truth= tensor([1, 1, 1, 1, 1, 0, 1, 1], device='cuda:0')\n",
            "pred= tensor([1, 0, 0, 1, 1, 1, 0, 0], device='cuda:0') ground_truth= tensor([1, 0, 0, 1, 1, 1, 0, 0], device='cuda:0')\n",
            "pred= tensor([1, 0, 1, 0, 1, 0, 0, 1], device='cuda:0') ground_truth= tensor([1, 0, 1, 0, 1, 1, 0, 1], device='cuda:0')\n",
            "pred= tensor([0, 0, 1, 1, 1, 0, 0, 1], device='cuda:0') ground_truth= tensor([0, 0, 1, 1, 1, 0, 0, 1], device='cuda:0')\n",
            "pred= tensor([1, 1, 1, 1, 1, 1, 1, 1], device='cuda:0') ground_truth= tensor([1, 1, 1, 1, 1, 1, 1, 1], device='cuda:0')\n",
            "pred= tensor([1, 1, 0, 1, 0, 0, 1, 0], device='cuda:0') ground_truth= tensor([1, 1, 0, 1, 0, 0, 1, 0], device='cuda:0')\n",
            "pred= tensor([0, 1, 0, 1, 1, 1, 1, 1], device='cuda:0') ground_truth= tensor([0, 1, 0, 1, 1, 1, 1, 1], device='cuda:0')\n",
            "pred= tensor([0, 0, 0, 1, 0, 1, 0, 0], device='cuda:0') ground_truth= tensor([0, 0, 0, 1, 0, 1, 0, 0], device='cuda:0')\n",
            "pred= tensor([1, 1, 1, 1, 1, 1, 1, 0], device='cuda:0') ground_truth= tensor([1, 1, 1, 1, 0, 1, 1, 0], device='cuda:0')\n",
            "pred= tensor([1, 0, 0, 0, 1, 1, 1, 1], device='cuda:0') ground_truth= tensor([1, 0, 0, 0, 1, 1, 1, 1], device='cuda:0')\n",
            "pred= tensor([1, 1, 1, 0, 1, 0, 1, 0], device='cuda:0') ground_truth= tensor([1, 1, 1, 0, 1, 0, 1, 0], device='cuda:0')\n",
            "pred= tensor([1, 1, 1, 0, 0, 0, 1, 1], device='cuda:0') ground_truth= tensor([1, 1, 1, 0, 0, 0, 1, 1], device='cuda:0')\n",
            "pred= tensor([1, 0, 0, 0, 1, 1, 0, 0], device='cuda:0') ground_truth= tensor([1, 0, 0, 0, 1, 1, 0, 0], device='cuda:0')\n",
            "pred= tensor([1, 0, 1, 1, 1, 1, 1, 1], device='cuda:0') ground_truth= tensor([1, 0, 1, 1, 1, 1, 1, 1], device='cuda:0')\n",
            "pred= tensor([1, 1, 1, 0, 0, 1, 0, 1], device='cuda:0') ground_truth= tensor([1, 1, 1, 0, 0, 1, 0, 1], device='cuda:0')\n",
            "pred= tensor([1, 1, 0, 1, 1, 0, 0, 0], device='cuda:0') ground_truth= tensor([1, 1, 0, 1, 1, 1, 0, 0], device='cuda:0')\n",
            "pred= tensor([0, 0, 0, 1, 1, 1, 1, 0], device='cuda:0') ground_truth= tensor([0, 0, 0, 1, 1, 1, 1, 0], device='cuda:0')\n",
            "pred= tensor([0, 0, 1, 1, 1, 0, 1, 1], device='cuda:0') ground_truth= tensor([0, 0, 1, 1, 1, 0, 1, 1], device='cuda:0')\n",
            "pred= tensor([0, 1, 0, 1, 0, 0, 0, 0], device='cuda:0') ground_truth= tensor([0, 1, 0, 1, 0, 1, 0, 0], device='cuda:0')\n",
            "pred= tensor([1, 1, 1, 1, 1, 0, 1, 1], device='cuda:0') ground_truth= tensor([1, 1, 1, 1, 1, 1, 1, 1], device='cuda:0')\n",
            "pred= tensor([1, 0, 0, 1, 0, 1, 1, 1], device='cuda:0') ground_truth= tensor([1, 0, 0, 1, 0, 1, 1, 1], device='cuda:0')\n",
            "pred= tensor([0, 0, 0, 1, 0, 0, 1, 1], device='cuda:0') ground_truth= tensor([0, 0, 0, 1, 0, 0, 1, 1], device='cuda:0')\n",
            "pred= tensor([1, 1, 0, 1, 1, 1, 1, 0], device='cuda:0') ground_truth= tensor([1, 1, 0, 1, 1, 1, 1, 0], device='cuda:0')\n",
            "pred= tensor([1, 1, 1, 0, 0, 1, 1, 1], device='cuda:0') ground_truth= tensor([1, 1, 1, 0, 0, 1, 1, 1], device='cuda:0')\n",
            "pred= tensor([1, 1, 1, 1, 0, 1, 1, 0], device='cuda:0') ground_truth= tensor([1, 1, 1, 1, 0, 0, 1, 0], device='cuda:0')\n",
            "pred= tensor([1, 0, 1, 0, 1, 0, 0, 1], device='cuda:0') ground_truth= tensor([1, 0, 1, 0, 1, 0, 0, 1], device='cuda:0')\n",
            "pred= tensor([0, 1, 0, 0, 1, 0, 0, 1], device='cuda:0') ground_truth= tensor([0, 1, 0, 0, 1, 0, 0, 1], device='cuda:0')\n",
            "pred= tensor([1, 0, 0, 1, 0, 1, 0, 1], device='cuda:0') ground_truth= tensor([1, 0, 0, 1, 0, 1, 0, 1], device='cuda:0')\n",
            "pred= tensor([1, 1, 0, 0, 0, 0, 0, 1], device='cuda:0') ground_truth= tensor([1, 1, 0, 0, 0, 1, 0, 1], device='cuda:0')\n",
            "pred= tensor([1, 0, 1, 0, 0, 0, 1, 1], device='cuda:0') ground_truth= tensor([1, 0, 1, 0, 0, 0, 1, 1], device='cuda:0')\n",
            "pred= tensor([1, 1, 1, 0, 0, 1, 0, 1], device='cuda:0') ground_truth= tensor([1, 1, 1, 0, 0, 1, 0, 1], device='cuda:0')\n",
            "pred= tensor([1, 1, 0, 1, 1, 1, 1, 1], device='cuda:0') ground_truth= tensor([1, 1, 0, 1, 1, 0, 1, 1], device='cuda:0')\n",
            "pred= tensor([1, 1, 0, 1, 0, 1, 0, 1], device='cuda:0') ground_truth= tensor([1, 1, 0, 1, 0, 1, 0, 1], device='cuda:0')\n",
            "pred= tensor([0, 1, 0, 1, 1, 0, 0, 1], device='cuda:0') ground_truth= tensor([0, 1, 0, 1, 0, 0, 0, 1], device='cuda:0')\n",
            "pred= tensor([1, 0, 1, 1, 0, 0, 1, 1], device='cuda:0') ground_truth= tensor([1, 0, 1, 1, 0, 0, 1, 1], device='cuda:0')\n",
            "pred= tensor([1, 1, 0, 1, 1, 0, 1, 1], device='cuda:0') ground_truth= tensor([1, 1, 0, 1, 1, 0, 1, 1], device='cuda:0')\n",
            "pred= tensor([0, 0, 1, 1, 0, 1, 1, 1], device='cuda:0') ground_truth= tensor([0, 0, 1, 1, 0, 1, 1, 1], device='cuda:0')\n",
            "pred= tensor([0, 1, 1, 1, 1, 1, 0, 1], device='cuda:0') ground_truth= tensor([0, 1, 1, 1, 1, 1, 0, 1], device='cuda:0')\n",
            "pred= tensor([0, 0, 1, 1, 0, 0, 1, 1], device='cuda:0') ground_truth= tensor([0, 0, 1, 1, 0, 0, 1, 1], device='cuda:0')\n",
            "pred= tensor([1, 0, 0, 1, 1, 1, 1, 0], device='cuda:0') ground_truth= tensor([1, 0, 0, 1, 1, 1, 1, 0], device='cuda:0')\n",
            "pred= tensor([0, 1, 0, 1, 1, 1, 1, 1], device='cuda:0') ground_truth= tensor([1, 0, 1, 1, 1, 1, 1, 1], device='cuda:0')\n",
            "pred= tensor([1, 1, 0, 1, 1, 0, 1, 0], device='cuda:0') ground_truth= tensor([1, 1, 0, 1, 1, 0, 1, 0], device='cuda:0')\n",
            "pred= tensor([1, 0, 0, 1, 1, 1, 1, 1], device='cuda:0') ground_truth= tensor([1, 0, 0, 1, 1, 1, 1, 1], device='cuda:0')\n",
            "pred= tensor([1, 1, 0, 1, 0, 0, 1, 1], device='cuda:0') ground_truth= tensor([1, 1, 0, 1, 0, 0, 1, 1], device='cuda:0')\n",
            "pred= tensor([0, 0, 1, 0, 0, 1, 1, 1], device='cuda:0') ground_truth= tensor([0, 0, 1, 0, 0, 1, 1, 1], device='cuda:0')\n",
            "pred= tensor([0, 0, 0, 1, 1, 1, 1, 0], device='cuda:0') ground_truth= tensor([0, 0, 0, 1, 1, 1, 1, 0], device='cuda:0')\n",
            "pred= tensor([1, 1, 1, 0, 0, 1, 1, 0], device='cuda:0') ground_truth= tensor([1, 1, 1, 0, 0, 1, 1, 0], device='cuda:0')\n",
            "pred= tensor([0, 0, 1, 1, 1, 0, 1, 0], device='cuda:0') ground_truth= tensor([0, 0, 1, 0, 1, 0, 1, 0], device='cuda:0')\n",
            "pred= tensor([0, 0, 0, 0, 1, 1, 0, 0], device='cuda:0') ground_truth= tensor([0, 0, 0, 0, 1, 1, 0, 0], device='cuda:0')\n",
            "pred= tensor([1, 1, 1, 1, 1, 1, 0, 1], device='cuda:0') ground_truth= tensor([1, 1, 1, 1, 1, 1, 0, 1], device='cuda:0')\n",
            "pred= tensor([1, 1, 1, 1, 0, 1, 1, 1], device='cuda:0') ground_truth= tensor([1, 1, 1, 1, 1, 1, 1, 1], device='cuda:0')\n",
            "pred= tensor([1, 1, 0, 0, 0, 1, 1, 1], device='cuda:0') ground_truth= tensor([1, 1, 0, 0, 0, 1, 1, 1], device='cuda:0')\n",
            "pred= tensor([1, 0, 1, 1, 0, 1, 1, 0], device='cuda:0') ground_truth= tensor([1, 1, 1, 1, 0, 1, 1, 0], device='cuda:0')\n",
            "pred= tensor([1, 1, 1, 1, 0, 1, 1, 0], device='cuda:0') ground_truth= tensor([1, 1, 1, 1, 0, 1, 1, 0], device='cuda:0')\n",
            "pred= tensor([1, 1, 1, 1, 0, 0, 0, 1], device='cuda:0') ground_truth= tensor([1, 1, 1, 1, 0, 0, 0, 1], device='cuda:0')\n",
            "pred= tensor([0, 1, 0, 1, 1, 1, 1, 1], device='cuda:0') ground_truth= tensor([0, 1, 0, 1, 1, 1, 1, 1], device='cuda:0')\n",
            "pred= tensor([1, 1, 0, 1, 1, 0, 0, 1], device='cuda:0') ground_truth= tensor([1, 1, 0, 1, 1, 0, 0, 1], device='cuda:0')\n",
            "pred= tensor([1, 0, 1, 0, 0, 1, 0, 1], device='cuda:0') ground_truth= tensor([1, 0, 1, 0, 0, 1, 0, 1], device='cuda:0')\n",
            "pred= tensor([0, 1, 0, 1, 1, 0, 0, 1], device='cuda:0') ground_truth= tensor([0, 1, 0, 1, 1, 0, 0, 1], device='cuda:0')\n",
            "pred= tensor([0, 1, 1, 1, 0, 1, 1, 1], device='cuda:0') ground_truth= tensor([0, 1, 1, 1, 0, 1, 1, 1], device='cuda:0')\n",
            "pred= tensor([1, 0, 1, 1, 0, 1, 1, 1], device='cuda:0') ground_truth= tensor([1, 0, 1, 1, 0, 1, 0, 1], device='cuda:0')\n",
            "pred= tensor([0, 1, 0, 1, 1, 0, 1, 1], device='cuda:0') ground_truth= tensor([0, 1, 0, 1, 1, 1, 1, 1], device='cuda:0')\n",
            "pred= tensor([1, 1, 0, 0, 1, 1, 0, 0], device='cuda:0') ground_truth= tensor([1, 1, 0, 0, 1, 1, 0, 0], device='cuda:0')\n",
            "pred= tensor([1, 0, 0, 0, 1, 0, 0, 1], device='cuda:0') ground_truth= tensor([1, 0, 0, 0, 1, 0, 0, 0], device='cuda:0')\n",
            "pred= tensor([0, 0, 0, 0, 1, 1, 1, 1], device='cuda:0') ground_truth= tensor([0, 0, 0, 0, 1, 1, 1, 1], device='cuda:0')\n",
            "pred= tensor([1, 1, 0, 1, 0, 1, 0, 1], device='cuda:0') ground_truth= tensor([1, 1, 0, 1, 0, 1, 0, 1], device='cuda:0')\n",
            "pred= tensor([0, 0, 0, 1, 1, 1, 1, 1], device='cuda:0') ground_truth= tensor([0, 0, 0, 1, 1, 1, 1, 1], device='cuda:0')\n",
            "pred= tensor([1, 1, 1, 1, 0, 0, 1, 0], device='cuda:0') ground_truth= tensor([1, 1, 1, 0, 0, 0, 1, 0], device='cuda:0')\n",
            "pred= tensor([0, 1, 0, 1, 1, 1, 0, 1], device='cuda:0') ground_truth= tensor([0, 1, 0, 1, 1, 1, 0, 1], device='cuda:0')\n",
            "pred= tensor([0, 1, 0, 1, 1, 0, 1, 0], device='cuda:0') ground_truth= tensor([0, 1, 0, 1, 1, 0, 1, 0], device='cuda:0')\n",
            "pred= tensor([0, 0, 1, 1, 1, 0, 1, 1], device='cuda:0') ground_truth= tensor([0, 0, 1, 1, 1, 0, 1, 1], device='cuda:0')\n",
            "pred= tensor([1, 1, 0, 0, 1, 0, 1, 0], device='cuda:0') ground_truth= tensor([1, 1, 0, 0, 1, 0, 1, 0], device='cuda:0')\n",
            "pred= tensor([0, 1, 1, 1, 0, 1, 0, 0], device='cuda:0') ground_truth= tensor([0, 1, 1, 1, 0, 1, 0, 0], device='cuda:0')\n",
            "pred= tensor([0, 0, 1, 0, 0, 1, 0, 1], device='cuda:0') ground_truth= tensor([0, 1, 1, 0, 0, 1, 0, 1], device='cuda:0')\n",
            "pred= tensor([1, 0, 1, 0, 0, 0, 0, 0], device='cuda:0') ground_truth= tensor([1, 0, 1, 0, 0, 0, 0, 0], device='cuda:0')\n",
            "pred= tensor([0, 0, 1, 1, 1, 0, 1, 0], device='cuda:0') ground_truth= tensor([0, 0, 1, 1, 1, 0, 1, 0], device='cuda:0')\n",
            "pred= tensor([1, 1, 1, 0, 0, 1, 1, 1], device='cuda:0') ground_truth= tensor([1, 1, 1, 0, 0, 1, 1, 1], device='cuda:0')\n",
            "pred= tensor([0, 1, 0, 1, 1, 1, 1, 1], device='cuda:0') ground_truth= tensor([0, 1, 0, 1, 1, 1, 1, 1], device='cuda:0')\n",
            "pred= tensor([0, 1, 1, 0, 1, 0, 0, 1], device='cuda:0') ground_truth= tensor([0, 1, 1, 0, 1, 0, 0, 1], device='cuda:0')\n",
            "pred= tensor([1, 0, 0, 0, 0, 1, 1, 1], device='cuda:0') ground_truth= tensor([1, 1, 0, 0, 0, 1, 1, 1], device='cuda:0')\n",
            "pred= tensor([0, 0, 0, 0, 1, 1, 1, 1], device='cuda:0') ground_truth= tensor([0, 0, 0, 0, 1, 1, 1, 1], device='cuda:0')\n",
            "pred= tensor([1, 1, 0, 1, 1, 1, 0, 0], device='cuda:0') ground_truth= tensor([1, 1, 0, 1, 1, 1, 0, 0], device='cuda:0')\n",
            "pred= tensor([1, 1, 1, 0, 1, 1, 0, 1], device='cuda:0') ground_truth= tensor([1, 1, 1, 0, 1, 1, 0, 1], device='cuda:0')\n",
            "pred= tensor([1, 0, 0, 1, 1, 1, 0, 0], device='cuda:0') ground_truth= tensor([1, 0, 0, 1, 1, 1, 0, 0], device='cuda:0')\n",
            "pred= tensor([1, 0, 1, 1, 0, 0, 1, 0], device='cuda:0') ground_truth= tensor([1, 0, 1, 1, 0, 0, 1, 0], device='cuda:0')\n",
            "pred= tensor([1, 1, 1, 1, 0, 1, 1, 1], device='cuda:0') ground_truth= tensor([1, 1, 1, 1, 0, 1, 1, 1], device='cuda:0')\n",
            "pred= tensor([1, 1, 0, 1, 1, 1, 0, 0], device='cuda:0') ground_truth= tensor([1, 1, 0, 1, 1, 1, 0, 1], device='cuda:0')\n",
            "pred= tensor([1, 0, 1, 0, 0, 1, 1, 1], device='cuda:0') ground_truth= tensor([1, 0, 1, 0, 0, 1, 1, 1], device='cuda:0')\n",
            "pred= tensor([1, 1, 1, 0, 1, 1, 1, 1], device='cuda:0') ground_truth= tensor([1, 1, 1, 0, 1, 1, 1, 1], device='cuda:0')\n",
            "pred= tensor([0, 0, 1, 1, 0, 0, 1, 0], device='cuda:0') ground_truth= tensor([1, 0, 1, 1, 0, 0, 1, 0], device='cuda:0')\n",
            "pred= tensor([1, 1, 0, 1, 0, 0, 1, 1], device='cuda:0') ground_truth= tensor([1, 1, 0, 1, 0, 0, 1, 1], device='cuda:0')\n",
            "pred= tensor([0, 0, 1, 1, 1, 1, 0, 1], device='cuda:0') ground_truth= tensor([0, 0, 1, 1, 1, 1, 0, 1], device='cuda:0')\n",
            "pred= tensor([0, 0, 1, 0, 1, 1, 0, 0], device='cuda:0') ground_truth= tensor([0, 0, 1, 0, 1, 1, 1, 0], device='cuda:0')\n",
            "pred= tensor([1, 1, 1, 1, 0, 1, 1, 1], device='cuda:0') ground_truth= tensor([1, 1, 1, 1, 0, 1, 1, 1], device='cuda:0')\n",
            "pred= tensor([1, 0, 0, 1, 1, 1, 0, 0], device='cuda:0') ground_truth= tensor([1, 0, 0, 1, 1, 1, 1, 0], device='cuda:0')\n",
            "pred= tensor([1, 1, 1, 1, 1, 1, 0, 1], device='cuda:0') ground_truth= tensor([1, 1, 1, 1, 1, 1, 0, 1], device='cuda:0')\n",
            "pred= tensor([0, 1, 1, 0, 1, 0, 1, 1], device='cuda:0') ground_truth= tensor([0, 1, 1, 0, 0, 0, 1, 0], device='cuda:0')\n",
            "pred= tensor([0, 0, 1, 0, 0, 1, 0, 1], device='cuda:0') ground_truth= tensor([0, 0, 1, 0, 0, 1, 0, 1], device='cuda:0')\n",
            "pred= tensor([1, 0, 1, 1, 1, 1, 1, 1], device='cuda:0') ground_truth= tensor([1, 0, 1, 1, 1, 1, 1, 1], device='cuda:0')\n",
            "pred= tensor([0, 1, 1, 0, 1, 0, 0, 0], device='cuda:0') ground_truth= tensor([0, 1, 1, 0, 1, 1, 0, 0], device='cuda:0')\n",
            "pred= tensor([1, 0, 1, 1, 0, 1, 1, 0], device='cuda:0') ground_truth= tensor([1, 0, 1, 1, 0, 1, 1, 0], device='cuda:0')\n",
            "pred= tensor([0, 0, 1, 0, 1, 1, 0, 1], device='cuda:0') ground_truth= tensor([0, 1, 1, 0, 1, 1, 0, 1], device='cuda:0')\n",
            "pred= tensor([1, 1, 0, 1, 1, 0, 1, 0], device='cuda:0') ground_truth= tensor([1, 1, 0, 1, 1, 0, 1, 0], device='cuda:0')\n",
            "pred= tensor([1, 1, 0, 1, 1, 0, 1, 1], device='cuda:0') ground_truth= tensor([1, 1, 0, 1, 1, 0, 1, 1], device='cuda:0')\n",
            "pred= tensor([1, 1, 0, 1, 0, 1, 1, 1], device='cuda:0') ground_truth= tensor([1, 1, 0, 1, 0, 1, 1, 1], device='cuda:0')\n",
            "pred= tensor([1, 0, 1, 1, 0, 1, 1, 0], device='cuda:0') ground_truth= tensor([1, 0, 1, 1, 0, 1, 1, 0], device='cuda:0')\n",
            "pred= tensor([1, 1, 0, 1, 1, 1, 1, 0], device='cuda:0') ground_truth= tensor([1, 1, 0, 1, 0, 1, 1, 0], device='cuda:0')\n",
            "pred= tensor([1, 0, 1, 1, 0, 1, 0, 1], device='cuda:0') ground_truth= tensor([1, 0, 1, 1, 0, 1, 0, 1], device='cuda:0')\n",
            "pred= tensor([1, 1, 0, 0, 0, 0, 0, 0], device='cuda:0') ground_truth= tensor([1, 1, 0, 0, 0, 0, 0, 0], device='cuda:0')\n",
            "pred= tensor([0, 1, 0, 1, 1, 0, 1, 1], device='cuda:0') ground_truth= tensor([0, 1, 0, 1, 1, 0, 1, 1], device='cuda:0')\n",
            "pred= tensor([0, 1, 1, 1, 1, 0, 1, 0], device='cuda:0') ground_truth= tensor([0, 1, 1, 1, 1, 0, 1, 0], device='cuda:0')\n",
            "pred= tensor([0, 1, 0, 0, 1, 0, 1, 0], device='cuda:0') ground_truth= tensor([0, 1, 0, 0, 1, 0, 1, 0], device='cuda:0')\n",
            "pred= tensor([0, 1, 1, 0, 1, 1, 1, 1], device='cuda:0') ground_truth= tensor([0, 1, 1, 1, 1, 1, 1, 1], device='cuda:0')\n",
            "pred= tensor([1, 1, 1, 0, 1, 1, 1, 1], device='cuda:0') ground_truth= tensor([1, 1, 1, 0, 1, 1, 1, 1], device='cuda:0')\n",
            "pred= tensor([0, 0, 1, 1, 0, 0, 1, 1], device='cuda:0') ground_truth= tensor([0, 0, 1, 1, 0, 0, 1, 1], device='cuda:0')\n",
            "pred= tensor([0, 0, 0, 0, 1, 0, 1, 1], device='cuda:0') ground_truth= tensor([0, 0, 0, 0, 1, 0, 1, 1], device='cuda:0')\n",
            "pred= tensor([1, 0, 1, 1, 1, 1, 1, 1], device='cuda:0') ground_truth= tensor([1, 0, 1, 0, 1, 1, 1, 1], device='cuda:0')\n",
            "pred= tensor([0, 0, 1, 0, 1, 1, 1, 1], device='cuda:0') ground_truth= tensor([0, 0, 1, 0, 1, 1, 1, 1], device='cuda:0')\n",
            "pred= tensor([1, 1, 1, 1, 0, 0, 1, 1], device='cuda:0') ground_truth= tensor([1, 1, 1, 1, 0, 0, 1, 1], device='cuda:0')\n",
            "pred= tensor([1, 0, 1, 1, 1, 1, 1, 0], device='cuda:0') ground_truth= tensor([1, 0, 1, 1, 1, 1, 1, 0], device='cuda:0')\n",
            "pred= tensor([1, 1, 0, 1, 0, 1, 1, 0], device='cuda:0') ground_truth= tensor([1, 1, 0, 1, 0, 1, 1, 0], device='cuda:0')\n",
            "pred= tensor([1, 0, 1, 1, 1, 1, 0, 1], device='cuda:0') ground_truth= tensor([1, 0, 1, 1, 1, 1, 0, 1], device='cuda:0')\n",
            "pred= tensor([0, 1, 1, 1, 1, 0, 1, 1], device='cuda:0') ground_truth= tensor([0, 1, 1, 1, 1, 0, 1, 1], device='cuda:0')\n",
            "pred= tensor([1, 0, 1, 0, 1, 0, 1, 1], device='cuda:0') ground_truth= tensor([1, 0, 1, 0, 1, 0, 1, 1], device='cuda:0')\n",
            "pred= tensor([0, 0, 0, 1, 0, 1, 1, 1], device='cuda:0') ground_truth= tensor([0, 0, 0, 1, 0, 1, 1, 1], device='cuda:0')\n",
            "pred= tensor([1, 1, 1, 1, 1, 1, 0, 1], device='cuda:0') ground_truth= tensor([1, 1, 1, 1, 1, 1, 0, 1], device='cuda:0')\n",
            "pred= tensor([1, 1, 0, 1, 0, 0, 1, 0], device='cuda:0') ground_truth= tensor([1, 1, 0, 1, 0, 0, 1, 0], device='cuda:0')\n",
            "pred= tensor([1, 1, 0, 1, 1, 0, 1, 0], device='cuda:0') ground_truth= tensor([1, 1, 0, 1, 1, 0, 1, 0], device='cuda:0')\n",
            "pred= tensor([1, 1, 0, 0, 0, 1, 1, 0], device='cuda:0') ground_truth= tensor([1, 1, 0, 0, 0, 1, 1, 0], device='cuda:0')\n",
            "pred= tensor([1, 1, 0, 0, 1, 1, 1, 1], device='cuda:0') ground_truth= tensor([1, 1, 0, 0, 1, 1, 1, 1], device='cuda:0')\n",
            "pred= tensor([0, 1, 1, 0, 0, 1, 0, 1], device='cuda:0') ground_truth= tensor([0, 1, 1, 0, 0, 1, 0, 1], device='cuda:0')\n",
            "pred= tensor([0, 0, 0, 0, 0, 0, 1, 0], device='cuda:0') ground_truth= tensor([1, 0, 0, 0, 0, 0, 1, 0], device='cuda:0')\n",
            "pred= tensor([1, 0, 1, 0, 0, 1, 1, 1], device='cuda:0') ground_truth= tensor([1, 0, 1, 0, 0, 1, 1, 1], device='cuda:0')\n",
            "pred= tensor([1, 0, 1, 1, 0, 0, 1, 0], device='cuda:0') ground_truth= tensor([0, 0, 1, 1, 0, 0, 0, 0], device='cuda:0')\n",
            "pred= tensor([0, 0, 0, 1, 0, 0, 0, 1], device='cuda:0') ground_truth= tensor([0, 0, 0, 1, 0, 0, 0, 1], device='cuda:0')\n",
            "pred= tensor([0, 0, 1, 1, 0, 0, 1, 0], device='cuda:0') ground_truth= tensor([0, 0, 1, 1, 0, 0, 1, 0], device='cuda:0')\n",
            "pred= tensor([0, 1, 1, 1, 0, 0, 0, 0], device='cuda:0') ground_truth= tensor([0, 1, 1, 1, 0, 0, 0, 0], device='cuda:0')\n",
            "pred= tensor([0, 1, 1, 0, 1, 1, 1, 1], device='cuda:0') ground_truth= tensor([0, 1, 1, 1, 1, 1, 1, 1], device='cuda:0')\n",
            "pred= tensor([1, 1, 1, 1, 1, 1, 0, 1], device='cuda:0') ground_truth= tensor([1, 1, 1, 1, 1, 1, 0, 1], device='cuda:0')\n",
            "pred= tensor([1, 0, 1, 0, 1, 1, 1, 1], device='cuda:0') ground_truth= tensor([1, 0, 1, 0, 1, 1, 1, 1], device='cuda:0')\n",
            "pred= tensor([0, 1, 1, 1, 1, 1, 1, 1], device='cuda:0') ground_truth= tensor([0, 1, 1, 1, 1, 0, 1, 1], device='cuda:0')\n",
            "pred= tensor([1, 1, 0, 0, 1, 1, 1, 1], device='cuda:0') ground_truth= tensor([1, 1, 0, 0, 1, 1, 1, 1], device='cuda:0')\n",
            "pred= tensor([1, 0, 1, 0, 1, 0, 1, 0], device='cuda:0') ground_truth= tensor([1, 0, 1, 0, 1, 0, 1, 0], device='cuda:0')\n",
            "pred= tensor([0, 1, 0, 0, 0, 0, 1, 1], device='cuda:0') ground_truth= tensor([0, 0, 0, 0, 0, 0, 1, 1], device='cuda:0')\n",
            "pred= tensor([1, 0, 1, 0, 1, 0, 0, 1], device='cuda:0') ground_truth= tensor([1, 0, 1, 0, 1, 0, 1, 1], device='cuda:0')\n",
            "pred= tensor([1, 0, 1, 0, 1, 1, 0, 0], device='cuda:0') ground_truth= tensor([1, 0, 1, 0, 1, 1, 0, 0], device='cuda:0')\n",
            "pred= tensor([0, 0, 0, 0, 0, 1, 1, 1], device='cuda:0') ground_truth= tensor([0, 0, 0, 0, 0, 1, 1, 1], device='cuda:0')\n"
          ]
        },
        {
          "data": {
            "text/plain": [
              "{'accuracy': 0.9634395424836601}"
            ]
          },
          "execution_count": 35,
          "metadata": {},
          "output_type": "execute_result"
        }
      ],
      "source": [
        "metric = evaluate.load(\"accuracy\")\n",
        "model.eval()\n",
        "for batch in test_dataloader:\n",
        "    batch = {k: v.to(device) for k, v in batch.items()}\n",
        "    with torch.no_grad():\n",
        "        outputs = model(**batch)\n",
        "\n",
        "    logits = outputs.logits\n",
        "    predictions = torch.argmax(logits, dim=-1)\n",
        "    metric.add_batch(predictions=predictions, references=batch[\"labels\"])\n",
        "    print(\"pred=\",predictions,\"ground_truth=\",batch[\"labels\"])\n",
        "\n",
        "metric.compute()"
      ]
    },
    {
      "cell_type": "markdown",
      "metadata": {
        "id": "5QQqy05X6VxX"
      },
      "source": [
        "## <b> 3.2 Trying liam168/c2-roberta-base-finetuned-dianping-chinese </b>\n",
        "<a id='liam168'></a>"
      ]
    },
    {
      "cell_type": "code",
      "execution_count": 4,
      "metadata": {
        "colab": {
          "base_uri": "https://localhost:8080/",
          "height": 209,
          "referenced_widgets": [
            "7d5431e125cd427aadec869603c1d65f",
            "b31cc830c0ec48c2b1c86c4cd777ae95",
            "f3b98fbdcc0441e8b0d482505bba09da",
            "fed77ef3dae346ba93be612d7409e5c5",
            "101dcc24342b4052bb78f275457d84b2",
            "8319155a4b714746ad9f5f7f94cbe036",
            "de9ce52698f64a768f008206e0ca134b",
            "bf19f6fbb4ed49bfa2adbf1bb03e4e86",
            "8587a73a930a4bdc97edac30277fbfd6",
            "beb0414ff13f4a08a35b2acf367be2d8",
            "f97a58b2b13c476faef3485017022154",
            "e722c029df6943ca971a3846739f350b",
            "7de939005cad453bb6746046c8bb24d3",
            "5d8fd081c34841ac8c5865969c92daf9",
            "a9c9cb88f01c466ba17f332120865026",
            "7cdf4e1fee5a46a899b258c2fd93c2d7",
            "3a5037a6aa6745b48c3a3a836a3ad236",
            "2be0b50957e44226b0ac56c8ab636699",
            "9ff7961d69bf41ea99ac3e9cac91bc2b",
            "1dccc70864fa430b9d046a8187d9ba0f",
            "5456faec46c14a0b8348cdf22738c07d",
            "817580654d4d4887988213075174e57b",
            "2889ea67cbde48c885d7148a3004a345",
            "0428fc76c7864bedb1d24b59e609673f",
            "2a2b6a01cd284753a8a46f616897d536",
            "a0493204314246128ec29b1d90d9a728",
            "b8ee2f1f3b7246cc80df81e36b36b18d",
            "3475ba29d3a649359ebb8f36dda0b01c",
            "942db7a08479455b83c2725f1282d0c7",
            "55a54583db7b4e069f7a2cab0f481317",
            "b3a5c8a50e40422fb6d64a1d4451a68a",
            "3f7a0c2f525540cd8e5ac8c4b916737f",
            "cf42f87d40f5441f8906b69ad06744c0",
            "c666fa3db4554e04bfa7d8c025eedaef",
            "821f58e225e942da8cc4f180b81961f8",
            "e8bf36d9287445f7bddcf138a2248912",
            "4629b9b3312d4fccb2b92ddb756f0293",
            "24651c96961f48d8887e6120145db228",
            "5a5f0d82313b4b0a9b15805ad27e2d80",
            "7d3287f4fad045c892758fbc0c9907e2",
            "a03f7dc642f14b4eb0880657e98a2df6",
            "804b1c1064d946358b4ca13d4a1ef57b",
            "b64fa6dc39374d7e8aaa4d41acfd01f5",
            "3f12b8214c9e48678e99a90ed42dad7c",
            "0078507c650c438bad88b3f51ff265f4",
            "2bab71dd583c4267bedd1adfa107c38c",
            "80b785df20f54bd88d496df2b643e471",
            "e5d8aed1b09042d6b49069670bda920e",
            "51c14333b3584d16af6ceb8ca295db58",
            "2962cd9e5db54049860c55ebc7cecadc",
            "cd141d271d874405a9df0a50a3ff77b8",
            "14d83a378ac04ed9a063dfe8ba387932",
            "8610b66fb5754b7c9b4d0e3d8e46668b",
            "c74758eb14d0464f8529a743323c335e",
            "3f1f255743c342b69f0a9fb5be765185",
            "e11643400d154ed68f36fb830010ea41",
            "21d921f6ca71473ea8e5cca3ed070b32",
            "90252bb039d1468895d79a20f99fcc98",
            "1507873808834b2894d298e615e1a95a",
            "10f8e23bdfe847d4a19af3a40263c12b",
            "11b245e782af4bd2928058469a838f4a",
            "fc589203e91e48a0b41b7d227f5216d1",
            "3498d9c571374ae383d8d19a2c8c12b6",
            "0daace7e01404ee7898877122da5a510",
            "948f8e1f0f43478189b671061bde9ce5",
            "0a2c5e2b01e8442f83c841f4960a8448"
          ]
        },
        "id": "c8-w_wYB6VxY",
        "outputId": "60f768c2-4bf1-4051-9066-b9afd597b88d"
      },
      "outputs": [
        {
          "data": {
            "application/vnd.jupyter.widget-view+json": {
              "model_id": "7d5431e125cd427aadec869603c1d65f",
              "version_major": 2,
              "version_minor": 0
            },
            "text/plain": [
              "Downloading (…)lve/main/config.json:   0%|          | 0.00/854 [00:00<?, ?B/s]"
            ]
          },
          "metadata": {},
          "output_type": "display_data"
        },
        {
          "data": {
            "application/vnd.jupyter.widget-view+json": {
              "model_id": "e722c029df6943ca971a3846739f350b",
              "version_major": 2,
              "version_minor": 0
            },
            "text/plain": [
              "Downloading pytorch_model.bin:   0%|          | 0.00/409M [00:00<?, ?B/s]"
            ]
          },
          "metadata": {},
          "output_type": "display_data"
        },
        {
          "data": {
            "application/vnd.jupyter.widget-view+json": {
              "model_id": "2889ea67cbde48c885d7148a3004a345",
              "version_major": 2,
              "version_minor": 0
            },
            "text/plain": [
              "Downloading (…)okenizer_config.json:   0%|          | 0.00/377 [00:00<?, ?B/s]"
            ]
          },
          "metadata": {},
          "output_type": "display_data"
        },
        {
          "data": {
            "application/vnd.jupyter.widget-view+json": {
              "model_id": "c666fa3db4554e04bfa7d8c025eedaef",
              "version_major": 2,
              "version_minor": 0
            },
            "text/plain": [
              "Downloading (…)solve/main/vocab.txt:   0%|          | 0.00/110k [00:00<?, ?B/s]"
            ]
          },
          "metadata": {},
          "output_type": "display_data"
        },
        {
          "data": {
            "application/vnd.jupyter.widget-view+json": {
              "model_id": "0078507c650c438bad88b3f51ff265f4",
              "version_major": 2,
              "version_minor": 0
            },
            "text/plain": [
              "Downloading (…)/main/tokenizer.json:   0%|          | 0.00/269k [00:00<?, ?B/s]"
            ]
          },
          "metadata": {},
          "output_type": "display_data"
        },
        {
          "data": {
            "application/vnd.jupyter.widget-view+json": {
              "model_id": "e11643400d154ed68f36fb830010ea41",
              "version_major": 2,
              "version_minor": 0
            },
            "text/plain": [
              "Downloading (…)cial_tokens_map.json:   0%|          | 0.00/112 [00:00<?, ?B/s]"
            ]
          },
          "metadata": {},
          "output_type": "display_data"
        }
      ],
      "source": [
        "model = AutoModelForSequenceClassification.from_pretrained(\"liam168/c2-roberta-base-finetuned-dianping-chinese\", num_labels=2)\n",
        "tokenizer = AutoTokenizer.from_pretrained(\"liam168/c2-roberta-base-finetuned-dianping-chinese\", model_max_length=512)"
      ]
    },
    {
      "cell_type": "code",
      "execution_count": 5,
      "metadata": {
        "colab": {
          "base_uri": "https://localhost:8080/",
          "height": 17,
          "referenced_widgets": [
            "91ab3401c5c84fdaa4a383dfccfc150e",
            "67884ec4d24441e2af5262cfe659f2c3",
            "6bedfb62ab9d4a539cbd4a723560997a",
            "a8110ff36b554f54b94ce93ca12a4220",
            "e66ed5769137400d8b2c2e341de6fbbb",
            "068ab66329b04b56bf7700c0747f043f",
            "268f259680d64d998307de61999eafcc",
            "a9548682206a41d4887a7a0a34359420",
            "5d16bae468d340fe8334794ad069afb9",
            "33b9743ada894b198dd107ba6db9fa22",
            "64385b4f7ca340caa12aaaa501b41e85",
            "0efb9bf8bb7449309649d855d13a234c",
            "9ac6f3a8ea824c25bfbfd51ab2d4d911",
            "eec7d66b95dc4c449245b9db20ff21bc",
            "3b7b5b807ea843e2a9cc8ef3d09cdb2d",
            "5e1792e9973a44c6becb57975ef7ca64",
            "7cb3e95da38045d6bc73b03a3bc93cd2",
            "a5e48f55295940a7ac75d3b360f79f03",
            "287b382c3fdd4d0489dd99ec8881e719",
            "490360201c7a4e68b21cbcbb52eae520",
            "cf17bf6df81c440bab13f86a8333f5f5",
            "53a1af14427d418888a8400e8476acb1",
            "a21ee9b869074228be1fafdd18f8ad56",
            "2a1a67308dc644dea775a73966c1476f",
            "8d38933680f54d968ea2f2dd264974f4",
            "236256eb073444e392fe4e4e4162585d",
            "95d5bcb2e9f5416fb950d5caa1feb355",
            "401f07a9dbdf4207968eb754ab290e3f",
            "27598755c3dc47328d246a3be454ad1f",
            "0590261317764bef89c67040b9b99746",
            "b84875881e6b4d1bb87fdb0481d87a83",
            "b04127897f2441b7b35cfd6ddcd3e73f",
            "91520ffaae094245a9d5f6979b467714"
          ]
        },
        "id": "7grEbuyr6VxY",
        "outputId": "27f2cedc-ee90-4d16-ba6f-b92787cd2327"
      },
      "outputs": [
        {
          "data": {
            "application/vnd.jupyter.widget-view+json": {
              "model_id": "91ab3401c5c84fdaa4a383dfccfc150e",
              "version_major": 2,
              "version_minor": 0
            },
            "text/plain": [
              "Map:   0%|          | 0/12348 [00:00<?, ? examples/s]"
            ]
          },
          "metadata": {},
          "output_type": "display_data"
        },
        {
          "data": {
            "application/vnd.jupyter.widget-view+json": {
              "model_id": "0efb9bf8bb7449309649d855d13a234c",
              "version_major": 2,
              "version_minor": 0
            },
            "text/plain": [
              "Map:   0%|          | 0/4896 [00:00<?, ? examples/s]"
            ]
          },
          "metadata": {},
          "output_type": "display_data"
        },
        {
          "data": {
            "application/vnd.jupyter.widget-view+json": {
              "model_id": "a21ee9b869074228be1fafdd18f8ad56",
              "version_major": 2,
              "version_minor": 0
            },
            "text/plain": [
              "Map:   0%|          | 0/2591 [00:00<?, ? examples/s]"
            ]
          },
          "metadata": {},
          "output_type": "display_data"
        }
      ],
      "source": [
        "def tokenize_function(examples):\n",
        "    return tokenizer(examples[\"text\"], padding=\"max_length\", truncation=True)\n",
        "tokenized_datasets = dataset.map(tokenize_function, batched=True)"
      ]
    },
    {
      "cell_type": "code",
      "execution_count": 6,
      "metadata": {
        "id": "pVjkC9it6VxY"
      },
      "outputs": [],
      "source": [
        "tokenized_datasets = tokenized_datasets.remove_columns([\"text\"])\n",
        "tokenized_datasets = tokenized_datasets.rename_column(\"label\", \"labels\")\n",
        "tokenized_datasets.set_format(\"torch\")\n",
        "\n",
        "train_dataset = tokenized_datasets[\"train\"]\n",
        "eval_dataset = tokenized_datasets[\"validation\"]\n",
        "test_dataset = tokenized_datasets[\"test\"]\n",
        "\n",
        "train_dataloader = DataLoader(train_dataset, batch_size=8)\n",
        "eval_dataloader = DataLoader(eval_dataset, batch_size=8)\n",
        "test_dataloader = DataLoader(test_dataset, batch_size=8)"
      ]
    },
    {
      "cell_type": "code",
      "execution_count": 7,
      "metadata": {
        "colab": {
          "base_uri": "https://localhost:8080/"
        },
        "id": "Z4r3kF4m6VxY",
        "outputId": "5ab09b51-450a-4201-cde1-462e71358bbd"
      },
      "outputs": [
        {
          "data": {
            "text/plain": [
              "BertForSequenceClassification(\n",
              "  (bert): BertModel(\n",
              "    (embeddings): BertEmbeddings(\n",
              "      (word_embeddings): Embedding(21128, 768, padding_idx=0)\n",
              "      (position_embeddings): Embedding(512, 768)\n",
              "      (token_type_embeddings): Embedding(2, 768)\n",
              "      (LayerNorm): LayerNorm((768,), eps=1e-12, elementwise_affine=True)\n",
              "      (dropout): Dropout(p=0.1, inplace=False)\n",
              "    )\n",
              "    (encoder): BertEncoder(\n",
              "      (layer): ModuleList(\n",
              "        (0): BertLayer(\n",
              "          (attention): BertAttention(\n",
              "            (self): BertSelfAttention(\n",
              "              (query): Linear(in_features=768, out_features=768, bias=True)\n",
              "              (key): Linear(in_features=768, out_features=768, bias=True)\n",
              "              (value): Linear(in_features=768, out_features=768, bias=True)\n",
              "              (dropout): Dropout(p=0.1, inplace=False)\n",
              "            )\n",
              "            (output): BertSelfOutput(\n",
              "              (dense): Linear(in_features=768, out_features=768, bias=True)\n",
              "              (LayerNorm): LayerNorm((768,), eps=1e-12, elementwise_affine=True)\n",
              "              (dropout): Dropout(p=0.1, inplace=False)\n",
              "            )\n",
              "          )\n",
              "          (intermediate): BertIntermediate(\n",
              "            (dense): Linear(in_features=768, out_features=3072, bias=True)\n",
              "            (intermediate_act_fn): GELUActivation()\n",
              "          )\n",
              "          (output): BertOutput(\n",
              "            (dense): Linear(in_features=3072, out_features=768, bias=True)\n",
              "            (LayerNorm): LayerNorm((768,), eps=1e-12, elementwise_affine=True)\n",
              "            (dropout): Dropout(p=0.1, inplace=False)\n",
              "          )\n",
              "        )\n",
              "        (1): BertLayer(\n",
              "          (attention): BertAttention(\n",
              "            (self): BertSelfAttention(\n",
              "              (query): Linear(in_features=768, out_features=768, bias=True)\n",
              "              (key): Linear(in_features=768, out_features=768, bias=True)\n",
              "              (value): Linear(in_features=768, out_features=768, bias=True)\n",
              "              (dropout): Dropout(p=0.1, inplace=False)\n",
              "            )\n",
              "            (output): BertSelfOutput(\n",
              "              (dense): Linear(in_features=768, out_features=768, bias=True)\n",
              "              (LayerNorm): LayerNorm((768,), eps=1e-12, elementwise_affine=True)\n",
              "              (dropout): Dropout(p=0.1, inplace=False)\n",
              "            )\n",
              "          )\n",
              "          (intermediate): BertIntermediate(\n",
              "            (dense): Linear(in_features=768, out_features=3072, bias=True)\n",
              "            (intermediate_act_fn): GELUActivation()\n",
              "          )\n",
              "          (output): BertOutput(\n",
              "            (dense): Linear(in_features=3072, out_features=768, bias=True)\n",
              "            (LayerNorm): LayerNorm((768,), eps=1e-12, elementwise_affine=True)\n",
              "            (dropout): Dropout(p=0.1, inplace=False)\n",
              "          )\n",
              "        )\n",
              "        (2): BertLayer(\n",
              "          (attention): BertAttention(\n",
              "            (self): BertSelfAttention(\n",
              "              (query): Linear(in_features=768, out_features=768, bias=True)\n",
              "              (key): Linear(in_features=768, out_features=768, bias=True)\n",
              "              (value): Linear(in_features=768, out_features=768, bias=True)\n",
              "              (dropout): Dropout(p=0.1, inplace=False)\n",
              "            )\n",
              "            (output): BertSelfOutput(\n",
              "              (dense): Linear(in_features=768, out_features=768, bias=True)\n",
              "              (LayerNorm): LayerNorm((768,), eps=1e-12, elementwise_affine=True)\n",
              "              (dropout): Dropout(p=0.1, inplace=False)\n",
              "            )\n",
              "          )\n",
              "          (intermediate): BertIntermediate(\n",
              "            (dense): Linear(in_features=768, out_features=3072, bias=True)\n",
              "            (intermediate_act_fn): GELUActivation()\n",
              "          )\n",
              "          (output): BertOutput(\n",
              "            (dense): Linear(in_features=3072, out_features=768, bias=True)\n",
              "            (LayerNorm): LayerNorm((768,), eps=1e-12, elementwise_affine=True)\n",
              "            (dropout): Dropout(p=0.1, inplace=False)\n",
              "          )\n",
              "        )\n",
              "        (3): BertLayer(\n",
              "          (attention): BertAttention(\n",
              "            (self): BertSelfAttention(\n",
              "              (query): Linear(in_features=768, out_features=768, bias=True)\n",
              "              (key): Linear(in_features=768, out_features=768, bias=True)\n",
              "              (value): Linear(in_features=768, out_features=768, bias=True)\n",
              "              (dropout): Dropout(p=0.1, inplace=False)\n",
              "            )\n",
              "            (output): BertSelfOutput(\n",
              "              (dense): Linear(in_features=768, out_features=768, bias=True)\n",
              "              (LayerNorm): LayerNorm((768,), eps=1e-12, elementwise_affine=True)\n",
              "              (dropout): Dropout(p=0.1, inplace=False)\n",
              "            )\n",
              "          )\n",
              "          (intermediate): BertIntermediate(\n",
              "            (dense): Linear(in_features=768, out_features=3072, bias=True)\n",
              "            (intermediate_act_fn): GELUActivation()\n",
              "          )\n",
              "          (output): BertOutput(\n",
              "            (dense): Linear(in_features=3072, out_features=768, bias=True)\n",
              "            (LayerNorm): LayerNorm((768,), eps=1e-12, elementwise_affine=True)\n",
              "            (dropout): Dropout(p=0.1, inplace=False)\n",
              "          )\n",
              "        )\n",
              "        (4): BertLayer(\n",
              "          (attention): BertAttention(\n",
              "            (self): BertSelfAttention(\n",
              "              (query): Linear(in_features=768, out_features=768, bias=True)\n",
              "              (key): Linear(in_features=768, out_features=768, bias=True)\n",
              "              (value): Linear(in_features=768, out_features=768, bias=True)\n",
              "              (dropout): Dropout(p=0.1, inplace=False)\n",
              "            )\n",
              "            (output): BertSelfOutput(\n",
              "              (dense): Linear(in_features=768, out_features=768, bias=True)\n",
              "              (LayerNorm): LayerNorm((768,), eps=1e-12, elementwise_affine=True)\n",
              "              (dropout): Dropout(p=0.1, inplace=False)\n",
              "            )\n",
              "          )\n",
              "          (intermediate): BertIntermediate(\n",
              "            (dense): Linear(in_features=768, out_features=3072, bias=True)\n",
              "            (intermediate_act_fn): GELUActivation()\n",
              "          )\n",
              "          (output): BertOutput(\n",
              "            (dense): Linear(in_features=3072, out_features=768, bias=True)\n",
              "            (LayerNorm): LayerNorm((768,), eps=1e-12, elementwise_affine=True)\n",
              "            (dropout): Dropout(p=0.1, inplace=False)\n",
              "          )\n",
              "        )\n",
              "        (5): BertLayer(\n",
              "          (attention): BertAttention(\n",
              "            (self): BertSelfAttention(\n",
              "              (query): Linear(in_features=768, out_features=768, bias=True)\n",
              "              (key): Linear(in_features=768, out_features=768, bias=True)\n",
              "              (value): Linear(in_features=768, out_features=768, bias=True)\n",
              "              (dropout): Dropout(p=0.1, inplace=False)\n",
              "            )\n",
              "            (output): BertSelfOutput(\n",
              "              (dense): Linear(in_features=768, out_features=768, bias=True)\n",
              "              (LayerNorm): LayerNorm((768,), eps=1e-12, elementwise_affine=True)\n",
              "              (dropout): Dropout(p=0.1, inplace=False)\n",
              "            )\n",
              "          )\n",
              "          (intermediate): BertIntermediate(\n",
              "            (dense): Linear(in_features=768, out_features=3072, bias=True)\n",
              "            (intermediate_act_fn): GELUActivation()\n",
              "          )\n",
              "          (output): BertOutput(\n",
              "            (dense): Linear(in_features=3072, out_features=768, bias=True)\n",
              "            (LayerNorm): LayerNorm((768,), eps=1e-12, elementwise_affine=True)\n",
              "            (dropout): Dropout(p=0.1, inplace=False)\n",
              "          )\n",
              "        )\n",
              "        (6): BertLayer(\n",
              "          (attention): BertAttention(\n",
              "            (self): BertSelfAttention(\n",
              "              (query): Linear(in_features=768, out_features=768, bias=True)\n",
              "              (key): Linear(in_features=768, out_features=768, bias=True)\n",
              "              (value): Linear(in_features=768, out_features=768, bias=True)\n",
              "              (dropout): Dropout(p=0.1, inplace=False)\n",
              "            )\n",
              "            (output): BertSelfOutput(\n",
              "              (dense): Linear(in_features=768, out_features=768, bias=True)\n",
              "              (LayerNorm): LayerNorm((768,), eps=1e-12, elementwise_affine=True)\n",
              "              (dropout): Dropout(p=0.1, inplace=False)\n",
              "            )\n",
              "          )\n",
              "          (intermediate): BertIntermediate(\n",
              "            (dense): Linear(in_features=768, out_features=3072, bias=True)\n",
              "            (intermediate_act_fn): GELUActivation()\n",
              "          )\n",
              "          (output): BertOutput(\n",
              "            (dense): Linear(in_features=3072, out_features=768, bias=True)\n",
              "            (LayerNorm): LayerNorm((768,), eps=1e-12, elementwise_affine=True)\n",
              "            (dropout): Dropout(p=0.1, inplace=False)\n",
              "          )\n",
              "        )\n",
              "        (7): BertLayer(\n",
              "          (attention): BertAttention(\n",
              "            (self): BertSelfAttention(\n",
              "              (query): Linear(in_features=768, out_features=768, bias=True)\n",
              "              (key): Linear(in_features=768, out_features=768, bias=True)\n",
              "              (value): Linear(in_features=768, out_features=768, bias=True)\n",
              "              (dropout): Dropout(p=0.1, inplace=False)\n",
              "            )\n",
              "            (output): BertSelfOutput(\n",
              "              (dense): Linear(in_features=768, out_features=768, bias=True)\n",
              "              (LayerNorm): LayerNorm((768,), eps=1e-12, elementwise_affine=True)\n",
              "              (dropout): Dropout(p=0.1, inplace=False)\n",
              "            )\n",
              "          )\n",
              "          (intermediate): BertIntermediate(\n",
              "            (dense): Linear(in_features=768, out_features=3072, bias=True)\n",
              "            (intermediate_act_fn): GELUActivation()\n",
              "          )\n",
              "          (output): BertOutput(\n",
              "            (dense): Linear(in_features=3072, out_features=768, bias=True)\n",
              "            (LayerNorm): LayerNorm((768,), eps=1e-12, elementwise_affine=True)\n",
              "            (dropout): Dropout(p=0.1, inplace=False)\n",
              "          )\n",
              "        )\n",
              "        (8): BertLayer(\n",
              "          (attention): BertAttention(\n",
              "            (self): BertSelfAttention(\n",
              "              (query): Linear(in_features=768, out_features=768, bias=True)\n",
              "              (key): Linear(in_features=768, out_features=768, bias=True)\n",
              "              (value): Linear(in_features=768, out_features=768, bias=True)\n",
              "              (dropout): Dropout(p=0.1, inplace=False)\n",
              "            )\n",
              "            (output): BertSelfOutput(\n",
              "              (dense): Linear(in_features=768, out_features=768, bias=True)\n",
              "              (LayerNorm): LayerNorm((768,), eps=1e-12, elementwise_affine=True)\n",
              "              (dropout): Dropout(p=0.1, inplace=False)\n",
              "            )\n",
              "          )\n",
              "          (intermediate): BertIntermediate(\n",
              "            (dense): Linear(in_features=768, out_features=3072, bias=True)\n",
              "            (intermediate_act_fn): GELUActivation()\n",
              "          )\n",
              "          (output): BertOutput(\n",
              "            (dense): Linear(in_features=3072, out_features=768, bias=True)\n",
              "            (LayerNorm): LayerNorm((768,), eps=1e-12, elementwise_affine=True)\n",
              "            (dropout): Dropout(p=0.1, inplace=False)\n",
              "          )\n",
              "        )\n",
              "        (9): BertLayer(\n",
              "          (attention): BertAttention(\n",
              "            (self): BertSelfAttention(\n",
              "              (query): Linear(in_features=768, out_features=768, bias=True)\n",
              "              (key): Linear(in_features=768, out_features=768, bias=True)\n",
              "              (value): Linear(in_features=768, out_features=768, bias=True)\n",
              "              (dropout): Dropout(p=0.1, inplace=False)\n",
              "            )\n",
              "            (output): BertSelfOutput(\n",
              "              (dense): Linear(in_features=768, out_features=768, bias=True)\n",
              "              (LayerNorm): LayerNorm((768,), eps=1e-12, elementwise_affine=True)\n",
              "              (dropout): Dropout(p=0.1, inplace=False)\n",
              "            )\n",
              "          )\n",
              "          (intermediate): BertIntermediate(\n",
              "            (dense): Linear(in_features=768, out_features=3072, bias=True)\n",
              "            (intermediate_act_fn): GELUActivation()\n",
              "          )\n",
              "          (output): BertOutput(\n",
              "            (dense): Linear(in_features=3072, out_features=768, bias=True)\n",
              "            (LayerNorm): LayerNorm((768,), eps=1e-12, elementwise_affine=True)\n",
              "            (dropout): Dropout(p=0.1, inplace=False)\n",
              "          )\n",
              "        )\n",
              "        (10): BertLayer(\n",
              "          (attention): BertAttention(\n",
              "            (self): BertSelfAttention(\n",
              "              (query): Linear(in_features=768, out_features=768, bias=True)\n",
              "              (key): Linear(in_features=768, out_features=768, bias=True)\n",
              "              (value): Linear(in_features=768, out_features=768, bias=True)\n",
              "              (dropout): Dropout(p=0.1, inplace=False)\n",
              "            )\n",
              "            (output): BertSelfOutput(\n",
              "              (dense): Linear(in_features=768, out_features=768, bias=True)\n",
              "              (LayerNorm): LayerNorm((768,), eps=1e-12, elementwise_affine=True)\n",
              "              (dropout): Dropout(p=0.1, inplace=False)\n",
              "            )\n",
              "          )\n",
              "          (intermediate): BertIntermediate(\n",
              "            (dense): Linear(in_features=768, out_features=3072, bias=True)\n",
              "            (intermediate_act_fn): GELUActivation()\n",
              "          )\n",
              "          (output): BertOutput(\n",
              "            (dense): Linear(in_features=3072, out_features=768, bias=True)\n",
              "            (LayerNorm): LayerNorm((768,), eps=1e-12, elementwise_affine=True)\n",
              "            (dropout): Dropout(p=0.1, inplace=False)\n",
              "          )\n",
              "        )\n",
              "        (11): BertLayer(\n",
              "          (attention): BertAttention(\n",
              "            (self): BertSelfAttention(\n",
              "              (query): Linear(in_features=768, out_features=768, bias=True)\n",
              "              (key): Linear(in_features=768, out_features=768, bias=True)\n",
              "              (value): Linear(in_features=768, out_features=768, bias=True)\n",
              "              (dropout): Dropout(p=0.1, inplace=False)\n",
              "            )\n",
              "            (output): BertSelfOutput(\n",
              "              (dense): Linear(in_features=768, out_features=768, bias=True)\n",
              "              (LayerNorm): LayerNorm((768,), eps=1e-12, elementwise_affine=True)\n",
              "              (dropout): Dropout(p=0.1, inplace=False)\n",
              "            )\n",
              "          )\n",
              "          (intermediate): BertIntermediate(\n",
              "            (dense): Linear(in_features=768, out_features=3072, bias=True)\n",
              "            (intermediate_act_fn): GELUActivation()\n",
              "          )\n",
              "          (output): BertOutput(\n",
              "            (dense): Linear(in_features=3072, out_features=768, bias=True)\n",
              "            (LayerNorm): LayerNorm((768,), eps=1e-12, elementwise_affine=True)\n",
              "            (dropout): Dropout(p=0.1, inplace=False)\n",
              "          )\n",
              "        )\n",
              "      )\n",
              "    )\n",
              "    (pooler): BertPooler(\n",
              "      (dense): Linear(in_features=768, out_features=768, bias=True)\n",
              "      (activation): Tanh()\n",
              "    )\n",
              "  )\n",
              "  (dropout): Dropout(p=0.1, inplace=False)\n",
              "  (classifier): Linear(in_features=768, out_features=2, bias=True)\n",
              ")"
            ]
          },
          "execution_count": 7,
          "metadata": {},
          "output_type": "execute_result"
        }
      ],
      "source": [
        "optimizer = AdamW(model.parameters(), lr=5e-5)\n",
        "num_epochs = 3\n",
        "num_training_steps = num_epochs * len(train_dataloader)\n",
        "lr_scheduler = get_scheduler(\n",
        "    name=\"linear\", optimizer=optimizer, num_warmup_steps=0, num_training_steps=num_training_steps\n",
        ")\n",
        "device = torch.device(\"cuda\") if torch.cuda.is_available() else torch.device(\"cpu\")\n",
        "model.to(device)"
      ]
    },
    {
      "cell_type": "code",
      "execution_count": 9,
      "metadata": {
        "colab": {
          "base_uri": "https://localhost:8080/",
          "height": 882,
          "referenced_widgets": [
            "a3a2803f601f4d30a82744f5bd596cdd",
            "2a331eb765004ccbba18bbaa44b382f2",
            "9f4c376f296a454daae4129c91af8593",
            "80c333bcccea42d189dfaa59c8a7714d",
            "ab7f256434de446c97c09fb0225cb4d8",
            "abaf1b56c81846edb88495074d7ef56b",
            "cfc60bced74e45619a263dc602b2f89a",
            "4985acaa4b8d4de7adf5dad8317d8c32",
            "1579f1cdbfa947b48ecc37f0cc5e21c9",
            "25f6bc4ef5754d1c8a94b4574832fb04",
            "3064d8da104a4eedb9705db7712e7b6c"
          ]
        },
        "id": "8-nvtXOR6VxY",
        "outputId": "71b8067a-a899-4c5d-f5ba-d201f1aabc37"
      },
      "outputs": [
        {
          "data": {
            "application/vnd.jupyter.widget-view+json": {
              "model_id": "a3a2803f601f4d30a82744f5bd596cdd",
              "version_major": 2,
              "version_minor": 0
            },
            "text/plain": [
              "  0%|          | 0/4632 [00:00<?, ?it/s]"
            ]
          },
          "metadata": {},
          "output_type": "display_data"
        },
        {
          "name": "stdout",
          "output_type": "stream",
          "text": [
            "Epoch [1/3] - Step [0/1544] - Loss: 0.10450977087020874\n",
            "Epoch [1/3] - Step [100/1544] - Loss: 0.09194397181272507\n",
            "Epoch [1/3] - Step [200/1544] - Loss: 0.2944766879081726\n",
            "Epoch [1/3] - Step [300/1544] - Loss: 0.03351861611008644\n",
            "Epoch [1/3] - Step [400/1544] - Loss: 0.04639328643679619\n",
            "Epoch [1/3] - Step [500/1544] - Loss: 0.09038589149713516\n",
            "Epoch [1/3] - Step [600/1544] - Loss: 0.21144528687000275\n",
            "Epoch [1/3] - Step [700/1544] - Loss: 0.03603355586528778\n",
            "Epoch [1/3] - Step [800/1544] - Loss: 0.7431256771087646\n",
            "Epoch [1/3] - Step [900/1544] - Loss: 0.21767641603946686\n",
            "Epoch [1/3] - Step [1000/1544] - Loss: 0.1747177541255951\n",
            "Epoch [1/3] - Step [1100/1544] - Loss: 0.16029979288578033\n",
            "Epoch [1/3] - Step [1200/1544] - Loss: 0.039638299494981766\n",
            "Epoch [1/3] - Step [1300/1544] - Loss: 0.07835166156291962\n",
            "Epoch [1/3] - Step [1400/1544] - Loss: 0.3723095655441284\n",
            "Epoch [1/3] - Step [1500/1544] - Loss: 0.10038720816373825\n",
            "Epoch [2/3] - Step [0/1544] - Loss: 0.0427623875439167\n",
            "Epoch [2/3] - Step [100/1544] - Loss: 0.06430221349000931\n",
            "Epoch [2/3] - Step [200/1544] - Loss: 0.055420346558094025\n",
            "Epoch [2/3] - Step [300/1544] - Loss: 0.010531059466302395\n",
            "Epoch [2/3] - Step [400/1544] - Loss: 0.06351370364427567\n",
            "Epoch [2/3] - Step [500/1544] - Loss: 0.03184916079044342\n",
            "Epoch [2/3] - Step [600/1544] - Loss: 0.08194892108440399\n",
            "Epoch [2/3] - Step [700/1544] - Loss: 0.009480257518589497\n",
            "Epoch [2/3] - Step [800/1544] - Loss: 0.2128586769104004\n",
            "Epoch [2/3] - Step [900/1544] - Loss: 0.28273841738700867\n",
            "Epoch [2/3] - Step [1000/1544] - Loss: 0.11225172877311707\n",
            "Epoch [2/3] - Step [1100/1544] - Loss: 0.3008275032043457\n",
            "Epoch [2/3] - Step [1200/1544] - Loss: 0.022491594776511192\n",
            "Epoch [2/3] - Step [1300/1544] - Loss: 0.07308986037969589\n",
            "Epoch [2/3] - Step [1400/1544] - Loss: 0.18101686239242554\n",
            "Epoch [2/3] - Step [1500/1544] - Loss: 0.017858048900961876\n",
            "Epoch [3/3] - Step [0/1544] - Loss: 0.009471235796809196\n",
            "Epoch [3/3] - Step [100/1544] - Loss: 0.010846100747585297\n",
            "Epoch [3/3] - Step [200/1544] - Loss: 0.039467111229896545\n",
            "Epoch [3/3] - Step [300/1544] - Loss: 0.007316065952181816\n",
            "Epoch [3/3] - Step [400/1544] - Loss: 0.002928712172433734\n",
            "Epoch [3/3] - Step [500/1544] - Loss: 0.0050023808144032955\n",
            "Epoch [3/3] - Step [600/1544] - Loss: 0.012113591656088829\n",
            "Epoch [3/3] - Step [700/1544] - Loss: 0.0018821260891854763\n",
            "Epoch [3/3] - Step [800/1544] - Loss: 0.32577186822891235\n",
            "Epoch [3/3] - Step [900/1544] - Loss: 0.0095360754057765\n",
            "Epoch [3/3] - Step [1000/1544] - Loss: 0.5318492650985718\n",
            "Epoch [3/3] - Step [1100/1544] - Loss: 0.29417499899864197\n",
            "Epoch [3/3] - Step [1200/1544] - Loss: 0.0017553726211190224\n",
            "Epoch [3/3] - Step [1300/1544] - Loss: 0.004414463881403208\n",
            "Epoch [3/3] - Step [1400/1544] - Loss: 0.05484805628657341\n",
            "Epoch [3/3] - Step [1500/1544] - Loss: 0.003945825155824423\n"
          ]
        }
      ],
      "source": [
        "progress_bar = tqdm(range(num_training_steps))\n",
        "model.train()\n",
        "\n",
        "for epoch in range(num_epochs):\n",
        "    for step, batch in enumerate(train_dataloader):\n",
        "        batch = {k: v.to(device) for k, v in batch.items()}\n",
        "        outputs = model(**batch)\n",
        "        loss = outputs.loss\n",
        "        loss.backward()\n",
        "\n",
        "        optimizer.step()\n",
        "        lr_scheduler.step()\n",
        "        optimizer.zero_grad()\n",
        "\n",
        "        # Print loss at every 100 steps\n",
        "        if step % 100 == 0:\n",
        "            print(f\"Epoch [{epoch+1}/{num_epochs}] - Step [{step}/{len(train_dataloader)}] - Loss: {loss.item()}\")\n",
        "\n",
        "        progress_bar.update(1)"
      ]
    },
    {
      "cell_type": "code",
      "execution_count": 10,
      "metadata": {
        "colab": {
          "base_uri": "https://localhost:8080/",
          "height": 66,
          "referenced_widgets": [
            "e5d94cd2cf5e4b1eb01d762e2a2c8ed4",
            "470e384f57184436830a8acf05a2f387",
            "4843f7c193b74cb795b43f9096443af8",
            "d9466abd97144d7594204f1c1d328a7b",
            "9f112eb949d34d82b1ce485eff243586",
            "7921b43498264b81953a6078c8596ba2",
            "38dc3ba1918743a9ab806d293205dde0",
            "71c0ffcbd70d4285896ef1c519210dc6",
            "5e5d8fc9f29f4a71a8018bbc4790281c",
            "31927dd440614e319779541fe97ad393",
            "b596c5f94111470da736a42c16718fa6"
          ]
        },
        "id": "U5iTCVMBNLHr",
        "outputId": "0167061f-89ba-44c7-9ed1-151b0fad7c4d"
      },
      "outputs": [
        {
          "data": {
            "application/vnd.jupyter.widget-view+json": {
              "model_id": "e5d94cd2cf5e4b1eb01d762e2a2c8ed4",
              "version_major": 2,
              "version_minor": 0
            },
            "text/plain": [
              "Downloading builder script:   0%|          | 0.00/4.20k [00:00<?, ?B/s]"
            ]
          },
          "metadata": {},
          "output_type": "display_data"
        },
        {
          "data": {
            "text/plain": [
              "{'accuracy': 0.9679660362794288}"
            ]
          },
          "execution_count": 10,
          "metadata": {},
          "output_type": "execute_result"
        }
      ],
      "source": [
        "metric = evaluate.load(\"accuracy\")\n",
        "model.eval()\n",
        "for batch in eval_dataloader:\n",
        "    batch = {k: v.to(device) for k, v in batch.items()}\n",
        "    with torch.no_grad():\n",
        "        outputs = model(**batch)\n",
        "\n",
        "    logits = outputs.logits\n",
        "    predictions = torch.argmax(logits, dim=-1)\n",
        "    metric.add_batch(predictions=predictions, references=batch[\"labels\"])\n",
        "    # print(\"pred=\",predictions,\"ground_truth=\",batch[\"labels\"])\n",
        "\n",
        "metric.compute()"
      ]
    },
    {
      "cell_type": "code",
      "execution_count": 11,
      "metadata": {
        "colab": {
          "base_uri": "https://localhost:8080/"
        },
        "id": "axlA_DXQNSkI",
        "outputId": "f8e52016-d953-455a-a2d5-f048c27ec0b4"
      },
      "outputs": [
        {
          "data": {
            "text/plain": [
              "{'accuracy': 0.9677287581699346}"
            ]
          },
          "execution_count": 11,
          "metadata": {},
          "output_type": "execute_result"
        }
      ],
      "source": [
        "metric = evaluate.load(\"accuracy\")\n",
        "model.eval()\n",
        "for batch in test_dataloader:\n",
        "    batch = {k: v.to(device) for k, v in batch.items()}\n",
        "    with torch.no_grad():\n",
        "        outputs = model(**batch)\n",
        "\n",
        "    logits = outputs.logits\n",
        "    predictions = torch.argmax(logits, dim=-1)\n",
        "    metric.add_batch(predictions=predictions, references=batch[\"labels\"])\n",
        "    # print(\"pred=\",predictions,\"ground_truth=\",batch[\"labels\"])\n",
        "\n",
        "metric.compute()"
      ]
    },
    {
      "cell_type": "markdown",
      "metadata": {
        "id": "2HvTwDq66VxY"
      },
      "source": [
        "## <b> 3.3 Trying Jiabo/Roberta_Chinese_sentiment </b>\n",
        "<a id='jiabo'></a>"
      ]
    },
    {
      "cell_type": "code",
      "execution_count": 12,
      "metadata": {
        "colab": {
          "base_uri": "https://localhost:8080/",
          "height": 177,
          "referenced_widgets": [
            "4f3f01d443084b83a64b7eb8bf3e3b75",
            "7be6f17eccb94f609503dccaf57cebcf",
            "5d7fc5b00f1e4e77a1fe74b764c125ee",
            "a33f0de126d24a4bb8b6494f941a7bdd",
            "2c1165a3ae964ca1a1dcb6411d1ef881",
            "8fc33e2e41924c6bb6469631f046a683",
            "21f80dba22904e88a0667fa24135a3d7",
            "f6e279e1bfe64f7c8c1c033330d21081",
            "76c7476fdf0247bd940aa6a7202bdf60",
            "9c660df4de5943dbad66ab14ca44db9a",
            "5e0ea116ae2244969041b978da213b71",
            "c111a0da58f14d85b20c9ea7ed08768e",
            "944ce10b453547089a6d4da911f05e2c",
            "838268f8aaf149b3878ec6e7986d95e9",
            "0a06bd0a5c414218b63784374241036d",
            "836bd5ac9f61491ea346ce36f7ae49b9",
            "d35d095e77394da7bad8702bd64fde0f",
            "23ffacc36ed74fa5875b18b4e7cd3a9b",
            "58f5385889434ae794680c0d0a3fc7d0",
            "437435bb22df4d1e94ba1f491ffed378",
            "c3a35517a4e442948f76fc85828627a0",
            "0e94125f58c04b62b03571d9d2f17ab6",
            "9d09f0a617fb41e1aae20b753267dd34",
            "e0e1f3023c174a43beae3f1c9dcb6c0b",
            "8587bc4ad899416b88604f35a571deae",
            "e693e971b8694d36bd7a6e645a1d945b",
            "15c700cff6f9431d80f4ab725f0fb06f",
            "abf77e8e9985493ea3d4ead406802ec2",
            "d0fb3cfba1c44c20a0f0b4c3bf0cdcb7",
            "8a11678f602b4ee58906f233406601ea",
            "cb31aa9408ed4fd5ba5e68be8a64e4fe",
            "712ed0b62aeb4b11982138e6434b321f",
            "898541a69e204904b836ed14176a1747",
            "d981c7bc022d4c36bb93e62aed0bc2a5",
            "d130fceb0c204d2590f35203b9d6bf79",
            "f3e625af1cdb4550928dff3a58536f45",
            "d0cd212642a94ede81e7e0333fd64946",
            "3e41d3516e884d87b4923480b5d07ba2",
            "028624c6e16245e694cff1c513fb933c",
            "6eea78ef59e64260add4018d8ae57b04",
            "85f38c5ec2cc48f2a1e3f9faba04b7f0",
            "e3959bb4c23f47518c07f07e0c9fad0f",
            "52d09327d1354c4abce798d25037a0e4",
            "0696a32fb5644f93b4818132b8be50a4",
            "fcfeccc16100405c98f10dc355afabc9",
            "32985a87e20542ffbee16dbbf1536ef6",
            "f597d106d9214ff1a4311023eee3d4e7",
            "78f5fbf3b87f417fb164aecd62f93a8f",
            "665b133e6ef9497bb91a874c12d1d7f5",
            "a2471ab179144439a0380391061946f5",
            "bb8f045566a340949d1eb37757f182fc",
            "bfa380479a214d1190c518ffccf11b33",
            "7a4696e9b57e45a78158005df94e74d2",
            "91d06293b247492da570c9fe7bd03bb2",
            "90b38913083c4af89624d539f4b74637"
          ]
        },
        "id": "NltuqniR6VxY",
        "outputId": "cab8ec04-f559-467d-8b58-b42fb51e6f04"
      },
      "outputs": [
        {
          "data": {
            "application/vnd.jupyter.widget-view+json": {
              "model_id": "4f3f01d443084b83a64b7eb8bf3e3b75",
              "version_major": 2,
              "version_minor": 0
            },
            "text/plain": [
              "Downloading (…)lve/main/config.json:   0%|          | 0.00/965 [00:00<?, ?B/s]"
            ]
          },
          "metadata": {},
          "output_type": "display_data"
        },
        {
          "data": {
            "application/vnd.jupyter.widget-view+json": {
              "model_id": "c111a0da58f14d85b20c9ea7ed08768e",
              "version_major": 2,
              "version_minor": 0
            },
            "text/plain": [
              "Downloading pytorch_model.bin:   0%|          | 0.00/19.0M [00:00<?, ?B/s]"
            ]
          },
          "metadata": {},
          "output_type": "display_data"
        },
        {
          "data": {
            "application/vnd.jupyter.widget-view+json": {
              "model_id": "9d09f0a617fb41e1aae20b753267dd34",
              "version_major": 2,
              "version_minor": 0
            },
            "text/plain": [
              "Downloading (…)okenizer_config.json:   0%|          | 0.00/379 [00:00<?, ?B/s]"
            ]
          },
          "metadata": {},
          "output_type": "display_data"
        },
        {
          "data": {
            "application/vnd.jupyter.widget-view+json": {
              "model_id": "d981c7bc022d4c36bb93e62aed0bc2a5",
              "version_major": 2,
              "version_minor": 0
            },
            "text/plain": [
              "Downloading (…)solve/main/vocab.txt:   0%|          | 0.00/110k [00:00<?, ?B/s]"
            ]
          },
          "metadata": {},
          "output_type": "display_data"
        },
        {
          "data": {
            "application/vnd.jupyter.widget-view+json": {
              "model_id": "fcfeccc16100405c98f10dc355afabc9",
              "version_major": 2,
              "version_minor": 0
            },
            "text/plain": [
              "Downloading (…)cial_tokens_map.json:   0%|          | 0.00/112 [00:00<?, ?B/s]"
            ]
          },
          "metadata": {},
          "output_type": "display_data"
        }
      ],
      "source": [
        "model = AutoModelForSequenceClassification.from_pretrained(\"voidful/albert_chinese_small_sentiment\", num_labels=2)\n",
        "tokenizer = AutoTokenizer.from_pretrained(\"voidful/albert_chinese_small_sentiment\", model_max_length=512)"
      ]
    },
    {
      "cell_type": "code",
      "execution_count": 13,
      "metadata": {
        "colab": {
          "base_uri": "https://localhost:8080/",
          "height": 17,
          "referenced_widgets": [
            "fd2e21dd41e24f2fa0a8f00525ed504a",
            "177e8c5f7b444ed5b6d826d4b5cc3417",
            "253ed4515ed84d64ba0bfaccf0a39f6e",
            "cc152942be724da699c364a725e44bbf",
            "13a2b3502c7946f7b693c7a44a5f76a0",
            "8c9a80a9a90c4609b96d6de52fdb60b3",
            "0901940b686e49ef953025f0119a1939",
            "d16dc017f1154f359b84534fa217d32d",
            "2beae6bf645d4fdd8970e549fa6f071a",
            "acbb52acd9aa400b85f95eae3dd5502a",
            "11dc8296ff08422182541900e06c05b0",
            "ae08b64205384457b713c07f4d6a7296",
            "aacd93999d8547a9be20d6604956a787",
            "1335a087d98d4b47ac40cdb1cd8f8f78",
            "bc3ce3f08b274404a747f6cba8bfd4be",
            "664bad8fc9fb4e0a87e9bbefe3451a31",
            "323415a04bd94a1d8b0cf31fbf910157",
            "172b2084e97945dfaa2d14472ec8c34e",
            "75b562bebe7647f6ad6f677551f0793a",
            "f7258072f9b74438bcc10019bf1c9b8a",
            "5833e3465d67472c8c2b98ffa86668ab",
            "b7d72b93e32d4b9db4b6ae1091d059f6",
            "10723fd76c1c4ac78c304316245e6d33",
            "47b98f6b197543eabd45a49a98d43b79",
            "a29657fa2626477a8c91c58b91335941",
            "ce52ef789b8c498693b7b35a8a3c1fcd",
            "31a3856f7ead435bbd2c9c092cef26f3",
            "610147f3df5e424bb949da42c2d5feb4",
            "5ba3d7f70cdc4d2e92ee2ce345a12eeb",
            "8505aed86faf428088886425a36f1ac6",
            "f23e1ccd508d42b79080ea7a711bfe9d",
            "34db3033a28d4bb39fb08262fee70366",
            "63d9f557e3784e9980c5af044c430a5b"
          ]
        },
        "id": "U9aFsRmY6VxY",
        "outputId": "b2771549-cbc1-4776-b2d1-60175122c8f8"
      },
      "outputs": [
        {
          "data": {
            "application/vnd.jupyter.widget-view+json": {
              "model_id": "fd2e21dd41e24f2fa0a8f00525ed504a",
              "version_major": 2,
              "version_minor": 0
            },
            "text/plain": [
              "Map:   0%|          | 0/12348 [00:00<?, ? examples/s]"
            ]
          },
          "metadata": {},
          "output_type": "display_data"
        },
        {
          "data": {
            "application/vnd.jupyter.widget-view+json": {
              "model_id": "ae08b64205384457b713c07f4d6a7296",
              "version_major": 2,
              "version_minor": 0
            },
            "text/plain": [
              "Map:   0%|          | 0/4896 [00:00<?, ? examples/s]"
            ]
          },
          "metadata": {},
          "output_type": "display_data"
        },
        {
          "data": {
            "application/vnd.jupyter.widget-view+json": {
              "model_id": "10723fd76c1c4ac78c304316245e6d33",
              "version_major": 2,
              "version_minor": 0
            },
            "text/plain": [
              "Map:   0%|          | 0/2591 [00:00<?, ? examples/s]"
            ]
          },
          "metadata": {},
          "output_type": "display_data"
        }
      ],
      "source": [
        "def tokenize_function(examples):\n",
        "    return tokenizer(examples[\"text\"], padding=\"max_length\", truncation=True)\n",
        "tokenized_datasets = dataset.map(tokenize_function, batched=True)"
      ]
    },
    {
      "cell_type": "code",
      "execution_count": 14,
      "metadata": {
        "id": "Gd6AL2Yh6VxY"
      },
      "outputs": [],
      "source": [
        "tokenized_datasets = tokenized_datasets.remove_columns([\"text\"])\n",
        "tokenized_datasets = tokenized_datasets.rename_column(\"label\", \"labels\")\n",
        "tokenized_datasets.set_format(\"torch\")\n",
        "\n",
        "train_dataset = tokenized_datasets[\"train\"]\n",
        "eval_dataset = tokenized_datasets[\"validation\"]\n",
        "test_dataset = tokenized_datasets[\"test\"]\n",
        "\n",
        "train_dataloader = DataLoader(train_dataset, batch_size=8)\n",
        "eval_dataloader = DataLoader(eval_dataset, batch_size=8)\n",
        "test_dataloader = DataLoader(test_dataset, batch_size=8)"
      ]
    },
    {
      "cell_type": "code",
      "execution_count": 15,
      "metadata": {
        "colab": {
          "base_uri": "https://localhost:8080/",
          "height": 49,
          "referenced_widgets": [
            "e3f632f9a7be480888164ab66cc226fc",
            "cab4f2a036a6461f85568e363882bf0c",
            "bcc3becdfa85423fab6129814890457e",
            "70fe8d62ff0d4116a2c7dc457639e025",
            "88c5d4aad5ca4311a3d3e1323d4d3021",
            "2fe5478abc624a91ab0cf3f91b8a1e9d",
            "161abc90c3604831938e830076b7a65c",
            "6d186ad64a844d539c549137994fb05f",
            "da0e314afe414ff9b3a749f50dc30e27",
            "8fc7f1ad851448ef847cca45973231f7",
            "1ff8e10879f943d28bbe4e5e6aba3b1e"
          ]
        },
        "id": "EOLTtsJ96VxY",
        "outputId": "79c97a0a-acd4-49c7-d23f-0bcf8d59cd4c"
      },
      "outputs": [
        {
          "data": {
            "application/vnd.jupyter.widget-view+json": {
              "model_id": "e3f632f9a7be480888164ab66cc226fc",
              "version_major": 2,
              "version_minor": 0
            },
            "text/plain": [
              "  0%|          | 0/4632 [00:00<?, ?it/s]"
            ]
          },
          "metadata": {},
          "output_type": "display_data"
        }
      ],
      "source": [
        "\n",
        "optimizer = AdamW(model.parameters(), lr=5e-5)\n",
        "num_epochs = 3\n",
        "num_training_steps = num_epochs * len(train_dataloader)\n",
        "lr_scheduler = get_scheduler(\n",
        "    name=\"linear\", optimizer=optimizer, num_warmup_steps=0, num_training_steps=num_training_steps\n",
        ")\n",
        "device = torch.device(\"cuda\") if torch.cuda.is_available() else torch.device(\"cpu\")\n",
        "model.to(device)\n",
        "progress_bar = tqdm(range(num_training_steps))\n",
        "\n",
        "model.train()\n",
        "for epoch in range(num_epochs):\n",
        "    for batch in train_dataloader:\n",
        "        batch = {k: v.to(device) for k, v in batch.items()}\n",
        "        outputs = model(**batch)\n",
        "        loss = outputs.loss\n",
        "        loss.backward()\n",
        "\n",
        "        optimizer.step()\n",
        "        lr_scheduler.step()\n",
        "        optimizer.zero_grad()\n",
        "        progress_bar.update(1)\n"
      ]
    },
    {
      "cell_type": "code",
      "execution_count": 20,
      "metadata": {
        "colab": {
          "base_uri": "https://localhost:8080/"
        },
        "id": "CXAtmQpQ6VxY",
        "outputId": "398d92c7-b490-4bad-914d-72114cd9daff"
      },
      "outputs": [
        {
          "data": {
            "text/plain": [
              "{'accuracy': 0.9378618294094944}"
            ]
          },
          "execution_count": 20,
          "metadata": {},
          "output_type": "execute_result"
        }
      ],
      "source": [
        "metric = evaluate.load(\"accuracy\")\n",
        "model.eval()\n",
        "for batch in eval_dataloader:\n",
        "    batch = {k: v.to(device) for k, v in batch.items()}\n",
        "    with torch.no_grad():\n",
        "        outputs = model(**batch)\n",
        "\n",
        "    logits = outputs.logits\n",
        "    predictions = torch.argmax(logits, dim=-1)\n",
        "    metric.add_batch(predictions=predictions, references=batch[\"labels\"])\n",
        "    # print(\"pred=\",predictions,\"ground_truth=\",batch[\"labels\"])\n",
        "\n",
        "metric.compute()"
      ]
    },
    {
      "cell_type": "code",
      "execution_count": 19,
      "metadata": {
        "colab": {
          "base_uri": "https://localhost:8080/"
        },
        "id": "m_2u_uNpOkYY",
        "outputId": "b7b9e42c-9e70-4db2-b55b-d59b67f50a79"
      },
      "outputs": [
        {
          "data": {
            "text/plain": [
              "{'accuracy': 0.9377042483660131}"
            ]
          },
          "execution_count": 19,
          "metadata": {},
          "output_type": "execute_result"
        }
      ],
      "source": [
        "metric = evaluate.load(\"accuracy\")\n",
        "model.eval()\n",
        "for batch in test_dataloader:\n",
        "    batch = {k: v.to(device) for k, v in batch.items()}\n",
        "    with torch.no_grad():\n",
        "        outputs = model(**batch)\n",
        "\n",
        "    logits = outputs.logits\n",
        "    predictions = torch.argmax(logits, dim=-1)\n",
        "    metric.add_batch(predictions=predictions, references=batch[\"labels\"])\n",
        "    # print(\"pred=\",predictions,\"ground_truth=\",batch[\"labels\"])\n",
        "\n",
        "metric.compute()"
      ]
    },
    {
      "cell_type": "markdown",
      "metadata": {
        "id": "X4_XXkc5DXE9"
      },
      "source": [
        "## <b> 4. Results </b>\n",
        "<a id='results'></a>"
      ]
    },
    {
      "cell_type": "markdown",
      "metadata": {
        "id": "AiWs1Rs6WoXz"
      },
      "source": [
        "| SNo. | Training | Eval Accuracy | Test Accuracy | Training Time | Comments\n",
        "| -------- | -------- | -------- | -------- | -------- | -------- |\n",
        "| 3.1 | bert-base-chinese | 0.964 | 0.963 | 2 hrs | Largest\n",
        "| 3.2 | liam168/c2-roberta-base-finetuned-dianping-chinese | 0.967 | 0.967 | 58m | Best Overall\n",
        "| 3.3 | Jiabo/Roberta_Chinese_sentiment | 0.937 | 0.937 | 11m | Most Efficient\n"
      ]
    },
    {
      "cell_type": "markdown",
      "metadata": {
        "id": "_xoMB11uWrjv"
      },
      "source": [
        "GPU used"
      ]
    },
    {
      "cell_type": "code",
      "execution_count": 27,
      "metadata": {
        "colab": {
          "base_uri": "https://localhost:8080/"
        },
        "id": "zRrIMLla8WaH",
        "outputId": "10e4ca7f-511c-44d8-e53a-36724115c238"
      },
      "outputs": [
        {
          "name": "stdout",
          "output_type": "stream",
          "text": [
            "Tue Mar 28 13:13:38 2023       \n",
            "+-----------------------------------------------------------------------------+\n",
            "| NVIDIA-SMI 525.85.12    Driver Version: 525.85.12    CUDA Version: 12.0     |\n",
            "|-------------------------------+----------------------+----------------------+\n",
            "| GPU  Name        Persistence-M| Bus-Id        Disp.A | Volatile Uncorr. ECC |\n",
            "| Fan  Temp  Perf  Pwr:Usage/Cap|         Memory-Usage | GPU-Util  Compute M. |\n",
            "|                               |                      |               MIG M. |\n",
            "|===============================+======================+======================|\n",
            "|   0  Tesla T4            Off  | 00000000:00:04.0 Off |                    0 |\n",
            "| N/A   57C    P0    29W /  70W |   2045MiB / 15360MiB |      0%      Default |\n",
            "|                               |                      |                  N/A |\n",
            "+-------------------------------+----------------------+----------------------+\n",
            "                                                                               \n",
            "+-----------------------------------------------------------------------------+\n",
            "| Processes:                                                                  |\n",
            "|  GPU   GI   CI        PID   Type   Process name                  GPU Memory |\n",
            "|        ID   ID                                                   Usage      |\n",
            "|=============================================================================|\n",
            "+-----------------------------------------------------------------------------+\n"
          ]
        }
      ],
      "source": [
        "!nvidia-smi"
      ]
    }
  ],
  "metadata": {
    "accelerator": "GPU",
    "colab": {
      "provenance": [],
      "toc_visible": true
    },
    "gpuClass": "standard",
    "kernelspec": {
      "display_name": "dl_math",
      "language": "python",
      "name": "python3"
    },
    "language_info": {
      "codemirror_mode": {
        "name": "ipython",
        "version": 3
      },
      "file_extension": ".py",
      "mimetype": "text/x-python",
      "name": "python",
      "nbconvert_exporter": "python",
      "pygments_lexer": "ipython3",
      "version": "3.8.16"
    },
    "orig_nbformat": 4
  },
  "nbformat": 4,
  "nbformat_minor": 0
}
